import pandas as pd
import numpy as np
!conda install -c conda-forge geopy --yes
from geopy.geocoders import Nominatim # module to convert an address into latitude and longitude values

# libraries for displaying images
from IPython.display import Image
from IPython.core.display import HTML

# tranforming json file into a pandas dataframe library
from pandas.io.json import json_normalize

!conda install -c conda-forge folium=0.5.0 --yes
import folium # plotting library

print('Folium installed')
print('Libraries imported.')

<h1 align="center"><font size="5">Battle of the Neighborhoods</font></h1>
print("Hello Capstone Project Course!")


CLIENT_ID = 'TJQFNQLD13APOGBQ0IZUQEHVLUX4UQVIGYWRO4CYRVHOWBV4' # your Foursquare ID
CLIENT_SECRET = 'PECTIYU42AT2IKKGL4DG2KZGCKW5LC1VPTLVGMNAFUVJQCYT' # your Foursquare Secret
VERSION = '20180604'
LIMIT = 30
print('Your credentails:')
print('CLIENT_ID: ' + CLIENT_ID)
print('CLIENT_SECRET:' + CLIENT_SECRET)
