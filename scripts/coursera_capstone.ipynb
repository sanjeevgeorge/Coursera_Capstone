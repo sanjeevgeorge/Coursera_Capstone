import pandas as pd
import numpy as np

<h1 align="center"><font size="5">Battle of the Neighborhoods</font></h1>
print("Hello Capstone Project Course!")
