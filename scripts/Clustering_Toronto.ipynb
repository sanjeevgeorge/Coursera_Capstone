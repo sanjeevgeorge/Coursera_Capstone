{
 "cells": [
  {
   "cell_type": "markdown",
   "metadata": {},
   "source": [
    "# Segmenting and Clustering Neighborhoods in Toronto"
   ]
  },
  {
   "cell_type": "markdown",
   "metadata": {},
   "source": [
    "### Introduction\n",
    "##### Web scraping the following Wikipedia page, \n",
    "###### https://en.wikipedia.org/wiki/List_of_postal_codes_of_Canada:_M,\n",
    "##### in order to obtain the data that is in the table of postal codes and to transform the data into a pandas dataframe"
   ]
  },
  {
   "cell_type": "markdown",
   "metadata": {},
   "source": [
    "Before we start,let's download all the dependencies that we will need."
   ]
  },
  {
   "cell_type": "code",
   "execution_count": 28,
   "metadata": {},
   "outputs": [
    {
     "name": "stdout",
     "output_type": "stream",
     "text": [
      "Libraries imported.\n"
     ]
    }
   ],
   "source": [
    "#pip install requests BeautifulSoup4\n",
    "import random # library for random number generation\n",
    "import numpy as np # library for vectorized computation\n",
    "import pandas as pd # library to process data as dataframes\n",
    "import requests\n",
    "\n",
    "import matplotlib.pyplot as plt # plotting library\n",
    "# backend for rendering plots within the browser\n",
    "%matplotlib inline \n",
    "\n",
    "from pandas.io.json import json_normalize \n",
    "from sklearn.cluster import KMeans \n",
    "from sklearn.datasets.samples_generator import make_blobs\n",
    "from geopy.geocoders import Nominatim\n",
    "from selenium import webdriver\n",
    "from bs4 import BeautifulSoup\n",
    "\n",
    "print('Libraries imported.')"
   ]
  },
  {
   "cell_type": "code",
   "execution_count": 2,
   "metadata": {},
   "outputs": [
    {
     "name": "stdout",
     "output_type": "stream",
     "text": [
      "540\n"
     ]
    }
   ],
   "source": [
    "results = requests.get(\"https://en.wikipedia.org/wiki/List_of_postal_codes_of_Canada:_M\")\n",
    "#print(results.status_code)\n",
    "#print(results.headers)\n",
    "src=results.content\n",
    "soup = BeautifulSoup(src,'lxml')\n",
    "table = soup.find(\"table\",attrs={\"class\":\"wikitable\"})\n",
    "#table_header = table.find_all(\"th\")\n",
    "table_body = table.find_all(\"td\")\n",
    "#print(table_header)\n",
    "print(len(table_body))"
   ]
  },
  {
   "cell_type": "code",
   "execution_count": 3,
   "metadata": {},
   "outputs": [
    {
     "data": {
      "text/html": [
       "<div>\n",
       "<style scoped>\n",
       "    .dataframe tbody tr th:only-of-type {\n",
       "        vertical-align: middle;\n",
       "    }\n",
       "\n",
       "    .dataframe tbody tr th {\n",
       "        vertical-align: top;\n",
       "    }\n",
       "\n",
       "    .dataframe thead th {\n",
       "        text-align: right;\n",
       "    }\n",
       "</style>\n",
       "<table border=\"1\" class=\"dataframe\">\n",
       "  <thead>\n",
       "    <tr style=\"text-align: right;\">\n",
       "      <th></th>\n",
       "      <th>Postal Code</th>\n",
       "      <th>Borough</th>\n",
       "      <th>Neighborhood</th>\n",
       "    </tr>\n",
       "  </thead>\n",
       "  <tbody>\n",
       "    <tr>\n",
       "      <th>0</th>\n",
       "      <td>M1A</td>\n",
       "      <td>Not assigned</td>\n",
       "      <td>Not assigned</td>\n",
       "    </tr>\n",
       "    <tr>\n",
       "      <th>1</th>\n",
       "      <td>M2A</td>\n",
       "      <td>Not assigned</td>\n",
       "      <td>Not assigned</td>\n",
       "    </tr>\n",
       "    <tr>\n",
       "      <th>2</th>\n",
       "      <td>M3A</td>\n",
       "      <td>North York</td>\n",
       "      <td>Parkwoods</td>\n",
       "    </tr>\n",
       "    <tr>\n",
       "      <th>3</th>\n",
       "      <td>M4A</td>\n",
       "      <td>North York</td>\n",
       "      <td>Victoria Village</td>\n",
       "    </tr>\n",
       "    <tr>\n",
       "      <th>4</th>\n",
       "      <td>M5A</td>\n",
       "      <td>Downtown Toronto</td>\n",
       "      <td>Regent Park, Harbourfront</td>\n",
       "    </tr>\n",
       "  </tbody>\n",
       "</table>\n",
       "</div>"
      ],
      "text/plain": [
       "  Postal Code           Borough               Neighborhood\n",
       "0         M1A      Not assigned               Not assigned\n",
       "1         M2A      Not assigned               Not assigned\n",
       "2         M3A        North York                  Parkwoods\n",
       "3         M4A        North York           Victoria Village\n",
       "4         M5A  Downtown Toronto  Regent Park, Harbourfront"
      ]
     },
     "execution_count": 3,
     "metadata": {},
     "output_type": "execute_result"
    }
   ],
   "source": [
    "pc=[]\n",
    "bor=[]\n",
    "nb=[]\n",
    "for i in range(0,len(table_body),3):\n",
    "    pc.append((table_body[i].text).strip())\n",
    "    bor.append((table_body[i+1].text).strip())\n",
    "    nb.append((table_body[i+2].text).strip())\n",
    "    #print(table_body[i].text)\n",
    "#print(pc)\n",
    "#print(bor)\n",
    "#print(nb)\n",
    "\n",
    "Toronto = (pd.DataFrame({'Postal Code':pc,'Borough':bor,'Neighborhood':nb})).reset_index(drop=True)\n",
    "Toronto.head()\n"
   ]
  },
  {
   "cell_type": "markdown",
   "metadata": {},
   "source": [
    "**Removing Not Assigned Boroughs**"
   ]
  },
  {
   "cell_type": "code",
   "execution_count": 4,
   "metadata": {},
   "outputs": [
    {
     "data": {
      "text/html": [
       "<div>\n",
       "<style scoped>\n",
       "    .dataframe tbody tr th:only-of-type {\n",
       "        vertical-align: middle;\n",
       "    }\n",
       "\n",
       "    .dataframe tbody tr th {\n",
       "        vertical-align: top;\n",
       "    }\n",
       "\n",
       "    .dataframe thead th {\n",
       "        text-align: right;\n",
       "    }\n",
       "</style>\n",
       "<table border=\"1\" class=\"dataframe\">\n",
       "  <thead>\n",
       "    <tr style=\"text-align: right;\">\n",
       "      <th></th>\n",
       "      <th>Postal Code</th>\n",
       "      <th>Borough</th>\n",
       "      <th>Neighborhood</th>\n",
       "    </tr>\n",
       "  </thead>\n",
       "  <tbody>\n",
       "    <tr>\n",
       "      <th>count</th>\n",
       "      <td>103</td>\n",
       "      <td>103</td>\n",
       "      <td>103</td>\n",
       "    </tr>\n",
       "    <tr>\n",
       "      <th>unique</th>\n",
       "      <td>103</td>\n",
       "      <td>10</td>\n",
       "      <td>99</td>\n",
       "    </tr>\n",
       "    <tr>\n",
       "      <th>top</th>\n",
       "      <td>M5G</td>\n",
       "      <td>North York</td>\n",
       "      <td>Downsview</td>\n",
       "    </tr>\n",
       "    <tr>\n",
       "      <th>freq</th>\n",
       "      <td>1</td>\n",
       "      <td>24</td>\n",
       "      <td>4</td>\n",
       "    </tr>\n",
       "  </tbody>\n",
       "</table>\n",
       "</div>"
      ],
      "text/plain": [
       "       Postal Code     Borough Neighborhood\n",
       "count          103         103          103\n",
       "unique         103          10           99\n",
       "top            M5G  North York    Downsview\n",
       "freq             1          24            4"
      ]
     },
     "execution_count": 4,
     "metadata": {},
     "output_type": "execute_result"
    }
   ],
   "source": [
    "Toronto = Toronto[Toronto.Borough != 'Not assigned']\n",
    "Toronto.head()\n",
    "Toronto.describe(include='all')"
   ]
  },
  {
   "cell_type": "markdown",
   "metadata": {},
   "source": [
    "**Setting Not Assigned Neighborhoods to same Borough**"
   ]
  },
  {
   "cell_type": "code",
   "execution_count": 5,
   "metadata": {},
   "outputs": [
    {
     "data": {
      "text/html": [
       "<div>\n",
       "<style scoped>\n",
       "    .dataframe tbody tr th:only-of-type {\n",
       "        vertical-align: middle;\n",
       "    }\n",
       "\n",
       "    .dataframe tbody tr th {\n",
       "        vertical-align: top;\n",
       "    }\n",
       "\n",
       "    .dataframe thead th {\n",
       "        text-align: right;\n",
       "    }\n",
       "</style>\n",
       "<table border=\"1\" class=\"dataframe\">\n",
       "  <thead>\n",
       "    <tr style=\"text-align: right;\">\n",
       "      <th></th>\n",
       "      <th>Postal Code</th>\n",
       "      <th>Borough</th>\n",
       "      <th>Neighborhood</th>\n",
       "    </tr>\n",
       "  </thead>\n",
       "  <tbody>\n",
       "    <tr>\n",
       "      <th>count</th>\n",
       "      <td>103</td>\n",
       "      <td>103</td>\n",
       "      <td>103</td>\n",
       "    </tr>\n",
       "    <tr>\n",
       "      <th>unique</th>\n",
       "      <td>103</td>\n",
       "      <td>10</td>\n",
       "      <td>99</td>\n",
       "    </tr>\n",
       "    <tr>\n",
       "      <th>top</th>\n",
       "      <td>M5G</td>\n",
       "      <td>North York</td>\n",
       "      <td>Downsview</td>\n",
       "    </tr>\n",
       "    <tr>\n",
       "      <th>freq</th>\n",
       "      <td>1</td>\n",
       "      <td>24</td>\n",
       "      <td>4</td>\n",
       "    </tr>\n",
       "  </tbody>\n",
       "</table>\n",
       "</div>"
      ],
      "text/plain": [
       "       Postal Code     Borough Neighborhood\n",
       "count          103         103          103\n",
       "unique         103          10           99\n",
       "top            M5G  North York    Downsview\n",
       "freq             1          24            4"
      ]
     },
     "execution_count": 5,
     "metadata": {},
     "output_type": "execute_result"
    }
   ],
   "source": [
    "Toronto['Neighborhood'] = np.where(Toronto['Neighborhood'] == 'Not assigned', Toronto['Borough'], Toronto['Neighborhood'])\n",
    "Toronto.describe(include='all')"
   ]
  },
  {
   "cell_type": "markdown",
   "metadata": {},
   "source": [
    "**Created DataFrame Shape**"
   ]
  },
  {
   "cell_type": "code",
   "execution_count": 6,
   "metadata": {},
   "outputs": [
    {
     "data": {
      "text/plain": [
       "(103, 3)"
      ]
     },
     "execution_count": 6,
     "metadata": {},
     "output_type": "execute_result"
    }
   ],
   "source": [
    "Toronto.shape"
   ]
  },
  {
   "cell_type": "code",
   "execution_count": 7,
   "metadata": {},
   "outputs": [
    {
     "name": "stdout",
     "output_type": "stream",
     "text": [
      "The dataframe has 10 boroughs and 103 neighborhoods.\n"
     ]
    }
   ],
   "source": [
    "print('The dataframe has {} boroughs and {} neighborhoods.'.format(\n",
    "        len(Toronto['Borough'].unique()),\n",
    "        Toronto.shape[0]\n",
    "    )\n",
    ")"
   ]
  },
  {
   "cell_type": "code",
   "execution_count": 8,
   "metadata": {},
   "outputs": [],
   "source": [
    "geo = pd.read_csv('Geospatial_Coordinates.csv')\n",
    "geo.head()\n",
    "\n",
    "Toronto = pd.merge(left=Toronto, right=geo, left_on='Postal Code', right_on='Postal Code')\n",
    "\n",
    "#Toronto = Toronto.merge(geo, on='Postal Code')\n",
    "#Toronto\n",
    "#print('finished getting longitude and lattitude')"
   ]
  },
  {
   "cell_type": "code",
   "execution_count": 9,
   "metadata": {},
   "outputs": [
    {
     "data": {
      "text/plain": [
       "Postal Code      object\n",
       "Borough          object\n",
       "Neighborhood     object\n",
       "Latitude        float64\n",
       "Longitude       float64\n",
       "dtype: object"
      ]
     },
     "execution_count": 9,
     "metadata": {},
     "output_type": "execute_result"
    }
   ],
   "source": [
    "Toronto.dtypes"
   ]
  },
  {
   "cell_type": "code",
   "execution_count": 10,
   "metadata": {},
   "outputs": [
    {
     "name": "stdout",
     "output_type": "stream",
     "text": [
      "The geograpical coordinate of Toronto, Ontario are 43.6534817, -79.3839347.\n"
     ]
    }
   ],
   "source": [
    "address = 'Toronto, Ontario, Canada'\n",
    "\n",
    "geolocator = Nominatim(user_agent=\"ny_explorer\")\n",
    "location = geolocator.geocode(address)\n",
    "latitude = location.latitude\n",
    "longitude = location.longitude\n",
    "print('The geograpical coordinate of Toronto, Ontario are {}, {}.'.format(latitude, longitude))"
   ]
  },
  {
   "cell_type": "code",
   "execution_count": 15,
   "metadata": {},
   "outputs": [
    {
     "data": {
      "text/html": [
       "<div style=\"width:100%;\"><div style=\"position:relative;width:100%;height:0;padding-bottom:60%;\"><span style=\"color:#565656\">Make this Notebook Trusted to load map: File -> Trust Notebook</span><iframe src=\"about:blank\" style=\"position:absolute;width:100%;height:100%;left:0;top:0;border:none !important;\" data-html=PCFET0NUWVBFIGh0bWw+CjxoZWFkPiAgICAKICAgIDxtZXRhIGh0dHAtZXF1aXY9ImNvbnRlbnQtdHlwZSIgY29udGVudD0idGV4dC9odG1sOyBjaGFyc2V0PVVURi04IiAvPgogICAgCiAgICAgICAgPHNjcmlwdD4KICAgICAgICAgICAgTF9OT19UT1VDSCA9IGZhbHNlOwogICAgICAgICAgICBMX0RJU0FCTEVfM0QgPSBmYWxzZTsKICAgICAgICA8L3NjcmlwdD4KICAgIAogICAgPHNjcmlwdCBzcmM9Imh0dHBzOi8vY2RuLmpzZGVsaXZyLm5ldC9ucG0vbGVhZmxldEAxLjYuMC9kaXN0L2xlYWZsZXQuanMiPjwvc2NyaXB0PgogICAgPHNjcmlwdCBzcmM9Imh0dHBzOi8vY29kZS5qcXVlcnkuY29tL2pxdWVyeS0xLjEyLjQubWluLmpzIj48L3NjcmlwdD4KICAgIDxzY3JpcHQgc3JjPSJodHRwczovL21heGNkbi5ib290c3RyYXBjZG4uY29tL2Jvb3RzdHJhcC8zLjIuMC9qcy9ib290c3RyYXAubWluLmpzIj48L3NjcmlwdD4KICAgIDxzY3JpcHQgc3JjPSJodHRwczovL2NkbmpzLmNsb3VkZmxhcmUuY29tL2FqYXgvbGlicy9MZWFmbGV0LmF3ZXNvbWUtbWFya2Vycy8yLjAuMi9sZWFmbGV0LmF3ZXNvbWUtbWFya2Vycy5qcyI+PC9zY3JpcHQ+CiAgICA8bGluayByZWw9InN0eWxlc2hlZXQiIGhyZWY9Imh0dHBzOi8vY2RuLmpzZGVsaXZyLm5ldC9ucG0vbGVhZmxldEAxLjYuMC9kaXN0L2xlYWZsZXQuY3NzIi8+CiAgICA8bGluayByZWw9InN0eWxlc2hlZXQiIGhyZWY9Imh0dHBzOi8vbWF4Y2RuLmJvb3RzdHJhcGNkbi5jb20vYm9vdHN0cmFwLzMuMi4wL2Nzcy9ib290c3RyYXAubWluLmNzcyIvPgogICAgPGxpbmsgcmVsPSJzdHlsZXNoZWV0IiBocmVmPSJodHRwczovL21heGNkbi5ib290c3RyYXBjZG4uY29tL2Jvb3RzdHJhcC8zLjIuMC9jc3MvYm9vdHN0cmFwLXRoZW1lLm1pbi5jc3MiLz4KICAgIDxsaW5rIHJlbD0ic3R5bGVzaGVldCIgaHJlZj0iaHR0cHM6Ly9tYXhjZG4uYm9vdHN0cmFwY2RuLmNvbS9mb250LWF3ZXNvbWUvNC42LjMvY3NzL2ZvbnQtYXdlc29tZS5taW4uY3NzIi8+CiAgICA8bGluayByZWw9InN0eWxlc2hlZXQiIGhyZWY9Imh0dHBzOi8vY2RuanMuY2xvdWRmbGFyZS5jb20vYWpheC9saWJzL0xlYWZsZXQuYXdlc29tZS1tYXJrZXJzLzIuMC4yL2xlYWZsZXQuYXdlc29tZS1tYXJrZXJzLmNzcyIvPgogICAgPGxpbmsgcmVsPSJzdHlsZXNoZWV0IiBocmVmPSJodHRwczovL3Jhd2Nkbi5naXRoYWNrLmNvbS9weXRob24tdmlzdWFsaXphdGlvbi9mb2xpdW0vbWFzdGVyL2ZvbGl1bS90ZW1wbGF0ZXMvbGVhZmxldC5hd2Vzb21lLnJvdGF0ZS5jc3MiLz4KICAgIDxzdHlsZT5odG1sLCBib2R5IHt3aWR0aDogMTAwJTtoZWlnaHQ6IDEwMCU7bWFyZ2luOiAwO3BhZGRpbmc6IDA7fTwvc3R5bGU+CiAgICA8c3R5bGU+I21hcCB7cG9zaXRpb246YWJzb2x1dGU7dG9wOjA7Ym90dG9tOjA7cmlnaHQ6MDtsZWZ0OjA7fTwvc3R5bGU+CiAgICAKICAgICAgICAgICAgPG1ldGEgbmFtZT0idmlld3BvcnQiIGNvbnRlbnQ9IndpZHRoPWRldmljZS13aWR0aCwKICAgICAgICAgICAgICAgIGluaXRpYWwtc2NhbGU9MS4wLCBtYXhpbXVtLXNjYWxlPTEuMCwgdXNlci1zY2FsYWJsZT1ubyIgLz4KICAgICAgICAgICAgPHN0eWxlPgogICAgICAgICAgICAgICAgI21hcF9hNDg4OWZiODBiNWU0ZWY5YTdiM2RkMDRmYWNjMDhhYyB7CiAgICAgICAgICAgICAgICAgICAgcG9zaXRpb246IHJlbGF0aXZlOwogICAgICAgICAgICAgICAgICAgIHdpZHRoOiAxMDAuMCU7CiAgICAgICAgICAgICAgICAgICAgaGVpZ2h0OiAxMDAuMCU7CiAgICAgICAgICAgICAgICAgICAgbGVmdDogMC4wJTsKICAgICAgICAgICAgICAgICAgICB0b3A6IDAuMCU7CiAgICAgICAgICAgICAgICB9CiAgICAgICAgICAgIDwvc3R5bGU+CiAgICAgICAgCjwvaGVhZD4KPGJvZHk+ICAgIAogICAgCiAgICAgICAgICAgIDxkaXYgY2xhc3M9ImZvbGl1bS1tYXAiIGlkPSJtYXBfYTQ4ODlmYjgwYjVlNGVmOWE3YjNkZDA0ZmFjYzA4YWMiID48L2Rpdj4KICAgICAgICAKPC9ib2R5Pgo8c2NyaXB0PiAgICAKICAgIAogICAgICAgICAgICB2YXIgbWFwX2E0ODg5ZmI4MGI1ZTRlZjlhN2IzZGQwNGZhY2MwOGFjID0gTC5tYXAoCiAgICAgICAgICAgICAgICAibWFwX2E0ODg5ZmI4MGI1ZTRlZjlhN2IzZGQwNGZhY2MwOGFjIiwKICAgICAgICAgICAgICAgIHsKICAgICAgICAgICAgICAgICAgICBjZW50ZXI6IFs0My42NTM0ODE3LCAtNzkuMzgzOTM0N10sCiAgICAgICAgICAgICAgICAgICAgY3JzOiBMLkNSUy5FUFNHMzg1NywKICAgICAgICAgICAgICAgICAgICB6b29tOiAxMCwKICAgICAgICAgICAgICAgICAgICB6b29tQ29udHJvbDogdHJ1ZSwKICAgICAgICAgICAgICAgICAgICBwcmVmZXJDYW52YXM6IGZhbHNlLAogICAgICAgICAgICAgICAgfQogICAgICAgICAgICApOwoKICAgICAgICAgICAgCgogICAgICAgIAogICAgCiAgICAgICAgICAgIHZhciB0aWxlX2xheWVyXzBmNGE4M2E5OTEyMzQzYTM4ZTI0NmY1NWNmM2ViZTE2ID0gTC50aWxlTGF5ZXIoCiAgICAgICAgICAgICAgICAiaHR0cHM6Ly97c30udGlsZS5vcGVuc3RyZWV0bWFwLm9yZy97en0ve3h9L3t5fS5wbmciLAogICAgICAgICAgICAgICAgeyJhdHRyaWJ1dGlvbiI6ICJEYXRhIGJ5IFx1MDAyNmNvcHk7IFx1MDAzY2EgaHJlZj1cImh0dHA6Ly9vcGVuc3RyZWV0bWFwLm9yZ1wiXHUwMDNlT3BlblN0cmVldE1hcFx1MDAzYy9hXHUwMDNlLCB1bmRlciBcdTAwM2NhIGhyZWY9XCJodHRwOi8vd3d3Lm9wZW5zdHJlZXRtYXAub3JnL2NvcHlyaWdodFwiXHUwMDNlT0RiTFx1MDAzYy9hXHUwMDNlLiIsICJkZXRlY3RSZXRpbmEiOiBmYWxzZSwgIm1heE5hdGl2ZVpvb20iOiAxOCwgIm1heFpvb20iOiAxOCwgIm1pblpvb20iOiAwLCAibm9XcmFwIjogZmFsc2UsICJvcGFjaXR5IjogMSwgInN1YmRvbWFpbnMiOiAiYWJjIiwgInRtcyI6IGZhbHNlfQogICAgICAgICAgICApLmFkZFRvKG1hcF9hNDg4OWZiODBiNWU0ZWY5YTdiM2RkMDRmYWNjMDhhYyk7CiAgICAgICAgCiAgICAKICAgICAgICAgICAgdmFyIGNpcmNsZV9tYXJrZXJfOGY4YjZkNGVkNmIxNDZhYjk3ZDQzM2M3Nzk5Mzk4MjAgPSBMLmNpcmNsZU1hcmtlcigKICAgICAgICAgICAgICAgIFs0My43NTMyNTg2LCAtNzkuMzI5NjU2NV0sCiAgICAgICAgICAgICAgICB7ImJ1YmJsaW5nTW91c2VFdmVudHMiOiB0cnVlLCAiY29sb3IiOiAiYmx1ZSIsICJkYXNoQXJyYXkiOiBudWxsLCAiZGFzaE9mZnNldCI6IG51bGwsICJmaWxsIjogdHJ1ZSwgImZpbGxDb2xvciI6ICIjMzE4NmNjIiwgImZpbGxPcGFjaXR5IjogMC43LCAiZmlsbFJ1bGUiOiAiZXZlbm9kZCIsICJsaW5lQ2FwIjogInJvdW5kIiwgImxpbmVKb2luIjogInJvdW5kIiwgIm9wYWNpdHkiOiAxLjAsICJyYWRpdXMiOiA1LCAic3Ryb2tlIjogdHJ1ZSwgIndlaWdodCI6IDN9CiAgICAgICAgICAgICkuYWRkVG8obWFwX2E0ODg5ZmI4MGI1ZTRlZjlhN2IzZGQwNGZhY2MwOGFjKTsKICAgICAgICAKICAgIAogICAgICAgIHZhciBwb3B1cF82NTllZDFjZjViNmI0ZmYyYmI4YTY4MzJhNjA1MzZlYiA9IEwucG9wdXAoeyJtYXhXaWR0aCI6ICIxMDAlIn0pOwoKICAgICAgICAKICAgICAgICAgICAgdmFyIGh0bWxfZmI2YzZjNzA2MjhmNGFjNDliNjdjZjU2OGYzZjc3MmEgPSAkKGA8ZGl2IGlkPSJodG1sX2ZiNmM2YzcwNjI4ZjRhYzQ5YjY3Y2Y1NjhmM2Y3NzJhIiBzdHlsZT0id2lkdGg6IDEwMC4wJTsgaGVpZ2h0OiAxMDAuMCU7Ij5QYXJrd29vZHMsIE5vcnRoIFlvcms8L2Rpdj5gKVswXTsKICAgICAgICAgICAgcG9wdXBfNjU5ZWQxY2Y1YjZiNGZmMmJiOGE2ODMyYTYwNTM2ZWIuc2V0Q29udGVudChodG1sX2ZiNmM2YzcwNjI4ZjRhYzQ5YjY3Y2Y1NjhmM2Y3NzJhKTsKICAgICAgICAKCiAgICAgICAgY2lyY2xlX21hcmtlcl84ZjhiNmQ0ZWQ2YjE0NmFiOTdkNDMzYzc3OTkzOTgyMC5iaW5kUG9wdXAocG9wdXBfNjU5ZWQxY2Y1YjZiNGZmMmJiOGE2ODMyYTYwNTM2ZWIpCiAgICAgICAgOwoKICAgICAgICAKICAgIAogICAgCiAgICAgICAgICAgIHZhciBjaXJjbGVfbWFya2VyXzVhN2YxZTI5OThlMTQ3ZjNhZjllMDVmMGY2MTViYTMxID0gTC5jaXJjbGVNYXJrZXIoCiAgICAgICAgICAgICAgICBbNDMuNzI1ODgyMjk5OTk5OTk1LCAtNzkuMzE1NTcxNTk5OTk5OThdLAogICAgICAgICAgICAgICAgeyJidWJibGluZ01vdXNlRXZlbnRzIjogdHJ1ZSwgImNvbG9yIjogImJsdWUiLCAiZGFzaEFycmF5IjogbnVsbCwgImRhc2hPZmZzZXQiOiBudWxsLCAiZmlsbCI6IHRydWUsICJmaWxsQ29sb3IiOiAiIzMxODZjYyIsICJmaWxsT3BhY2l0eSI6IDAuNywgImZpbGxSdWxlIjogImV2ZW5vZGQiLCAibGluZUNhcCI6ICJyb3VuZCIsICJsaW5lSm9pbiI6ICJyb3VuZCIsICJvcGFjaXR5IjogMS4wLCAicmFkaXVzIjogNSwgInN0cm9rZSI6IHRydWUsICJ3ZWlnaHQiOiAzfQogICAgICAgICAgICApLmFkZFRvKG1hcF9hNDg4OWZiODBiNWU0ZWY5YTdiM2RkMDRmYWNjMDhhYyk7CiAgICAgICAgCiAgICAKICAgICAgICB2YXIgcG9wdXBfYmU2ODMyNGM0OGRiNDAzY2JmMzdlOGRhMWJlZThjNTUgPSBMLnBvcHVwKHsibWF4V2lkdGgiOiAiMTAwJSJ9KTsKCiAgICAgICAgCiAgICAgICAgICAgIHZhciBodG1sXzhjMWNlYWY1ZGE5MDQyZjM4ZmRjZjk3YTcyN2E1ODI4ID0gJChgPGRpdiBpZD0iaHRtbF84YzFjZWFmNWRhOTA0MmYzOGZkY2Y5N2E3MjdhNTgyOCIgc3R5bGU9IndpZHRoOiAxMDAuMCU7IGhlaWdodDogMTAwLjAlOyI+VmljdG9yaWEgVmlsbGFnZSwgTm9ydGggWW9yazwvZGl2PmApWzBdOwogICAgICAgICAgICBwb3B1cF9iZTY4MzI0YzQ4ZGI0MDNjYmYzN2U4ZGExYmVlOGM1NS5zZXRDb250ZW50KGh0bWxfOGMxY2VhZjVkYTkwNDJmMzhmZGNmOTdhNzI3YTU4MjgpOwogICAgICAgIAoKICAgICAgICBjaXJjbGVfbWFya2VyXzVhN2YxZTI5OThlMTQ3ZjNhZjllMDVmMGY2MTViYTMxLmJpbmRQb3B1cChwb3B1cF9iZTY4MzI0YzQ4ZGI0MDNjYmYzN2U4ZGExYmVlOGM1NSkKICAgICAgICA7CgogICAgICAgIAogICAgCiAgICAKICAgICAgICAgICAgdmFyIGNpcmNsZV9tYXJrZXJfNWYxZmU2OTQxZmU1NGQ1MzhlYTQxYjZjZWM1YzA4NjAgPSBMLmNpcmNsZU1hcmtlcigKICAgICAgICAgICAgICAgIFs0My42NTQyNTk5LCAtNzkuMzYwNjM1OV0sCiAgICAgICAgICAgICAgICB7ImJ1YmJsaW5nTW91c2VFdmVudHMiOiB0cnVlLCAiY29sb3IiOiAiYmx1ZSIsICJkYXNoQXJyYXkiOiBudWxsLCAiZGFzaE9mZnNldCI6IG51bGwsICJmaWxsIjogdHJ1ZSwgImZpbGxDb2xvciI6ICIjMzE4NmNjIiwgImZpbGxPcGFjaXR5IjogMC43LCAiZmlsbFJ1bGUiOiAiZXZlbm9kZCIsICJsaW5lQ2FwIjogInJvdW5kIiwgImxpbmVKb2luIjogInJvdW5kIiwgIm9wYWNpdHkiOiAxLjAsICJyYWRpdXMiOiA1LCAic3Ryb2tlIjogdHJ1ZSwgIndlaWdodCI6IDN9CiAgICAgICAgICAgICkuYWRkVG8obWFwX2E0ODg5ZmI4MGI1ZTRlZjlhN2IzZGQwNGZhY2MwOGFjKTsKICAgICAgICAKICAgIAogICAgICAgIHZhciBwb3B1cF8yM2E2OTMyZWFkZGM0YjBkOTgyYmNiMDI1OTUxYmMwYiA9IEwucG9wdXAoeyJtYXhXaWR0aCI6ICIxMDAlIn0pOwoKICAgICAgICAKICAgICAgICAgICAgdmFyIGh0bWxfZjhhYTQwYzhjY2U0NGYxMDg4MDMxZTZkYzA1NDY5MDcgPSAkKGA8ZGl2IGlkPSJodG1sX2Y4YWE0MGM4Y2NlNDRmMTA4ODAzMWU2ZGMwNTQ2OTA3IiBzdHlsZT0id2lkdGg6IDEwMC4wJTsgaGVpZ2h0OiAxMDAuMCU7Ij5SZWdlbnQgUGFyaywgSGFyYm91cmZyb250LCBEb3dudG93biBUb3JvbnRvPC9kaXY+YClbMF07CiAgICAgICAgICAgIHBvcHVwXzIzYTY5MzJlYWRkYzRiMGQ5ODJiY2IwMjU5NTFiYzBiLnNldENvbnRlbnQoaHRtbF9mOGFhNDBjOGNjZTQ0ZjEwODgwMzFlNmRjMDU0NjkwNyk7CiAgICAgICAgCgogICAgICAgIGNpcmNsZV9tYXJrZXJfNWYxZmU2OTQxZmU1NGQ1MzhlYTQxYjZjZWM1YzA4NjAuYmluZFBvcHVwKHBvcHVwXzIzYTY5MzJlYWRkYzRiMGQ5ODJiY2IwMjU5NTFiYzBiKQogICAgICAgIDsKCiAgICAgICAgCiAgICAKICAgIAogICAgICAgICAgICB2YXIgY2lyY2xlX21hcmtlcl83YjM0ODQwZmRhNGQ0YzZhYWFkNzY5YzhiNzc1NTU4NCA9IEwuY2lyY2xlTWFya2VyKAogICAgICAgICAgICAgICAgWzQzLjcxODUxNzk5OTk5OTk5NiwgLTc5LjQ2NDc2MzI5OTk5OTk5XSwKICAgICAgICAgICAgICAgIHsiYnViYmxpbmdNb3VzZUV2ZW50cyI6IHRydWUsICJjb2xvciI6ICJibHVlIiwgImRhc2hBcnJheSI6IG51bGwsICJkYXNoT2Zmc2V0IjogbnVsbCwgImZpbGwiOiB0cnVlLCAiZmlsbENvbG9yIjogIiMzMTg2Y2MiLCAiZmlsbE9wYWNpdHkiOiAwLjcsICJmaWxsUnVsZSI6ICJldmVub2RkIiwgImxpbmVDYXAiOiAicm91bmQiLCAibGluZUpvaW4iOiAicm91bmQiLCAib3BhY2l0eSI6IDEuMCwgInJhZGl1cyI6IDUsICJzdHJva2UiOiB0cnVlLCAid2VpZ2h0IjogM30KICAgICAgICAgICAgKS5hZGRUbyhtYXBfYTQ4ODlmYjgwYjVlNGVmOWE3YjNkZDA0ZmFjYzA4YWMpOwogICAgICAgIAogICAgCiAgICAgICAgdmFyIHBvcHVwX2NiNDViNTdiZjdkNzRmNDBiZGQzNTI0ZmUzYjhmOWFjID0gTC5wb3B1cCh7Im1heFdpZHRoIjogIjEwMCUifSk7CgogICAgICAgIAogICAgICAgICAgICB2YXIgaHRtbF8xYWU2ZDg0YWJkMmE0YjgyOWJhNjIzNjcxNzFkNmI5NSA9ICQoYDxkaXYgaWQ9Imh0bWxfMWFlNmQ4NGFiZDJhNGI4MjliYTYyMzY3MTcxZDZiOTUiIHN0eWxlPSJ3aWR0aDogMTAwLjAlOyBoZWlnaHQ6IDEwMC4wJTsiPkxhd3JlbmNlIE1hbm9yLCBMYXdyZW5jZSBIZWlnaHRzLCBOb3J0aCBZb3JrPC9kaXY+YClbMF07CiAgICAgICAgICAgIHBvcHVwX2NiNDViNTdiZjdkNzRmNDBiZGQzNTI0ZmUzYjhmOWFjLnNldENvbnRlbnQoaHRtbF8xYWU2ZDg0YWJkMmE0YjgyOWJhNjIzNjcxNzFkNmI5NSk7CiAgICAgICAgCgogICAgICAgIGNpcmNsZV9tYXJrZXJfN2IzNDg0MGZkYTRkNGM2YWFhZDc2OWM4Yjc3NTU1ODQuYmluZFBvcHVwKHBvcHVwX2NiNDViNTdiZjdkNzRmNDBiZGQzNTI0ZmUzYjhmOWFjKQogICAgICAgIDsKCiAgICAgICAgCiAgICAKICAgIAogICAgICAgICAgICB2YXIgY2lyY2xlX21hcmtlcl85YmIyYTJjMzcwZjA0YzE4OGE5OTYwNDFmM2FjZDYxNCA9IEwuY2lyY2xlTWFya2VyKAogICAgICAgICAgICAgICAgWzQzLjY2MjMwMTUsIC03OS4zODk0OTM4XSwKICAgICAgICAgICAgICAgIHsiYnViYmxpbmdNb3VzZUV2ZW50cyI6IHRydWUsICJjb2xvciI6ICJibHVlIiwgImRhc2hBcnJheSI6IG51bGwsICJkYXNoT2Zmc2V0IjogbnVsbCwgImZpbGwiOiB0cnVlLCAiZmlsbENvbG9yIjogIiMzMTg2Y2MiLCAiZmlsbE9wYWNpdHkiOiAwLjcsICJmaWxsUnVsZSI6ICJldmVub2RkIiwgImxpbmVDYXAiOiAicm91bmQiLCAibGluZUpvaW4iOiAicm91bmQiLCAib3BhY2l0eSI6IDEuMCwgInJhZGl1cyI6IDUsICJzdHJva2UiOiB0cnVlLCAid2VpZ2h0IjogM30KICAgICAgICAgICAgKS5hZGRUbyhtYXBfYTQ4ODlmYjgwYjVlNGVmOWE3YjNkZDA0ZmFjYzA4YWMpOwogICAgICAgIAogICAgCiAgICAgICAgdmFyIHBvcHVwXzJlMmQyNDI4NzY5ODQ0ODNhMjBkZjg2MjRiZTFkNjVmID0gTC5wb3B1cCh7Im1heFdpZHRoIjogIjEwMCUifSk7CgogICAgICAgIAogICAgICAgICAgICB2YXIgaHRtbF82N2U3YzMwMWVkODA0MTNkYWE2NzQxNGY1ZjNmMGFmZiA9ICQoYDxkaXYgaWQ9Imh0bWxfNjdlN2MzMDFlZDgwNDEzZGFhNjc0MTRmNWYzZjBhZmYiIHN0eWxlPSJ3aWR0aDogMTAwLjAlOyBoZWlnaHQ6IDEwMC4wJTsiPlF1ZWVuJiMzOTtzIFBhcmssIE9udGFyaW8gUHJvdmluY2lhbCBHb3Zlcm5tZW50LCBEb3dudG93biBUb3JvbnRvPC9kaXY+YClbMF07CiAgICAgICAgICAgIHBvcHVwXzJlMmQyNDI4NzY5ODQ0ODNhMjBkZjg2MjRiZTFkNjVmLnNldENvbnRlbnQoaHRtbF82N2U3YzMwMWVkODA0MTNkYWE2NzQxNGY1ZjNmMGFmZik7CiAgICAgICAgCgogICAgICAgIGNpcmNsZV9tYXJrZXJfOWJiMmEyYzM3MGYwNGMxODhhOTk2MDQxZjNhY2Q2MTQuYmluZFBvcHVwKHBvcHVwXzJlMmQyNDI4NzY5ODQ0ODNhMjBkZjg2MjRiZTFkNjVmKQogICAgICAgIDsKCiAgICAgICAgCiAgICAKICAgIAogICAgICAgICAgICB2YXIgY2lyY2xlX21hcmtlcl9mMzMzODNkZGM0ODU0YmRkYmFhOGQ0MzFiODI1MGFkMyA9IEwuY2lyY2xlTWFya2VyKAogICAgICAgICAgICAgICAgWzQzLjY2Nzg1NTYsIC03OS41MzIyNDI0MDAwMDAwMl0sCiAgICAgICAgICAgICAgICB7ImJ1YmJsaW5nTW91c2VFdmVudHMiOiB0cnVlLCAiY29sb3IiOiAiYmx1ZSIsICJkYXNoQXJyYXkiOiBudWxsLCAiZGFzaE9mZnNldCI6IG51bGwsICJmaWxsIjogdHJ1ZSwgImZpbGxDb2xvciI6ICIjMzE4NmNjIiwgImZpbGxPcGFjaXR5IjogMC43LCAiZmlsbFJ1bGUiOiAiZXZlbm9kZCIsICJsaW5lQ2FwIjogInJvdW5kIiwgImxpbmVKb2luIjogInJvdW5kIiwgIm9wYWNpdHkiOiAxLjAsICJyYWRpdXMiOiA1LCAic3Ryb2tlIjogdHJ1ZSwgIndlaWdodCI6IDN9CiAgICAgICAgICAgICkuYWRkVG8obWFwX2E0ODg5ZmI4MGI1ZTRlZjlhN2IzZGQwNGZhY2MwOGFjKTsKICAgICAgICAKICAgIAogICAgICAgIHZhciBwb3B1cF9lZmNjYWE2NjNiYWQ0YmNhYTE5NDFlOTgyOGNjZTkzNiA9IEwucG9wdXAoeyJtYXhXaWR0aCI6ICIxMDAlIn0pOwoKICAgICAgICAKICAgICAgICAgICAgdmFyIGh0bWxfOWM2NTQwZmFmODJlNGE5ZWI1MmY3ZWJjN2I3MmVhMDkgPSAkKGA8ZGl2IGlkPSJodG1sXzljNjU0MGZhZjgyZTRhOWViNTJmN2ViYzdiNzJlYTA5IiBzdHlsZT0id2lkdGg6IDEwMC4wJTsgaGVpZ2h0OiAxMDAuMCU7Ij5Jc2xpbmd0b24gQXZlbnVlLCBIdW1iZXIgVmFsbGV5IFZpbGxhZ2UsIEV0b2JpY29rZTwvZGl2PmApWzBdOwogICAgICAgICAgICBwb3B1cF9lZmNjYWE2NjNiYWQ0YmNhYTE5NDFlOTgyOGNjZTkzNi5zZXRDb250ZW50KGh0bWxfOWM2NTQwZmFmODJlNGE5ZWI1MmY3ZWJjN2I3MmVhMDkpOwogICAgICAgIAoKICAgICAgICBjaXJjbGVfbWFya2VyX2YzMzM4M2RkYzQ4NTRiZGRiYWE4ZDQzMWI4MjUwYWQzLmJpbmRQb3B1cChwb3B1cF9lZmNjYWE2NjNiYWQ0YmNhYTE5NDFlOTgyOGNjZTkzNikKICAgICAgICA7CgogICAgICAgIAogICAgCiAgICAKICAgICAgICAgICAgdmFyIGNpcmNsZV9tYXJrZXJfZjhhY2I1MjhmNmRiNGI5ZTk3NjA0ZmY4NTg3NzEyM2IgPSBMLmNpcmNsZU1hcmtlcigKICAgICAgICAgICAgICAgIFs0My44MDY2ODYyOTk5OTk5OTYsIC03OS4xOTQzNTM0MDAwMDAwMV0sCiAgICAgICAgICAgICAgICB7ImJ1YmJsaW5nTW91c2VFdmVudHMiOiB0cnVlLCAiY29sb3IiOiAiYmx1ZSIsICJkYXNoQXJyYXkiOiBudWxsLCAiZGFzaE9mZnNldCI6IG51bGwsICJmaWxsIjogdHJ1ZSwgImZpbGxDb2xvciI6ICIjMzE4NmNjIiwgImZpbGxPcGFjaXR5IjogMC43LCAiZmlsbFJ1bGUiOiAiZXZlbm9kZCIsICJsaW5lQ2FwIjogInJvdW5kIiwgImxpbmVKb2luIjogInJvdW5kIiwgIm9wYWNpdHkiOiAxLjAsICJyYWRpdXMiOiA1LCAic3Ryb2tlIjogdHJ1ZSwgIndlaWdodCI6IDN9CiAgICAgICAgICAgICkuYWRkVG8obWFwX2E0ODg5ZmI4MGI1ZTRlZjlhN2IzZGQwNGZhY2MwOGFjKTsKICAgICAgICAKICAgIAogICAgICAgIHZhciBwb3B1cF9mZjI2MDJlNDcyNGQ0YWI3YWVmODJhY2IyNjY1YWFkMCA9IEwucG9wdXAoeyJtYXhXaWR0aCI6ICIxMDAlIn0pOwoKICAgICAgICAKICAgICAgICAgICAgdmFyIGh0bWxfM2I5MDQ4YjI1ZDM4NDBjYThmYWQwMDUxNjllNjU5ZGEgPSAkKGA8ZGl2IGlkPSJodG1sXzNiOTA0OGIyNWQzODQwY2E4ZmFkMDA1MTY5ZTY1OWRhIiBzdHlsZT0id2lkdGg6IDEwMC4wJTsgaGVpZ2h0OiAxMDAuMCU7Ij5NYWx2ZXJuLCBSb3VnZSwgU2NhcmJvcm91Z2g8L2Rpdj5gKVswXTsKICAgICAgICAgICAgcG9wdXBfZmYyNjAyZTQ3MjRkNGFiN2FlZjgyYWNiMjY2NWFhZDAuc2V0Q29udGVudChodG1sXzNiOTA0OGIyNWQzODQwY2E4ZmFkMDA1MTY5ZTY1OWRhKTsKICAgICAgICAKCiAgICAgICAgY2lyY2xlX21hcmtlcl9mOGFjYjUyOGY2ZGI0YjllOTc2MDRmZjg1ODc3MTIzYi5iaW5kUG9wdXAocG9wdXBfZmYyNjAyZTQ3MjRkNGFiN2FlZjgyYWNiMjY2NWFhZDApCiAgICAgICAgOwoKICAgICAgICAKICAgIAogICAgCiAgICAgICAgICAgIHZhciBjaXJjbGVfbWFya2VyXzc2ZGVjYjI3MjVlMDQ0MTI5YWU0YjAzZWNhMmFhNGNmID0gTC5jaXJjbGVNYXJrZXIoCiAgICAgICAgICAgICAgICBbNDMuNzQ1OTA1Nzk5OTk5OTk2LCAtNzkuMzUyMTg4XSwKICAgICAgICAgICAgICAgIHsiYnViYmxpbmdNb3VzZUV2ZW50cyI6IHRydWUsICJjb2xvciI6ICJibHVlIiwgImRhc2hBcnJheSI6IG51bGwsICJkYXNoT2Zmc2V0IjogbnVsbCwgImZpbGwiOiB0cnVlLCAiZmlsbENvbG9yIjogIiMzMTg2Y2MiLCAiZmlsbE9wYWNpdHkiOiAwLjcsICJmaWxsUnVsZSI6ICJldmVub2RkIiwgImxpbmVDYXAiOiAicm91bmQiLCAibGluZUpvaW4iOiAicm91bmQiLCAib3BhY2l0eSI6IDEuMCwgInJhZGl1cyI6IDUsICJzdHJva2UiOiB0cnVlLCAid2VpZ2h0IjogM30KICAgICAgICAgICAgKS5hZGRUbyhtYXBfYTQ4ODlmYjgwYjVlNGVmOWE3YjNkZDA0ZmFjYzA4YWMpOwogICAgICAgIAogICAgCiAgICAgICAgdmFyIHBvcHVwX2IxMzFmZTNjMzk4YzRhYjI4ZDZhMTcxYmJkOGRlMTkyID0gTC5wb3B1cCh7Im1heFdpZHRoIjogIjEwMCUifSk7CgogICAgICAgIAogICAgICAgICAgICB2YXIgaHRtbF8xMzhlZjViNDc3MWE0MGM2OWE4ZmM4ZjliZjQxODNlYiA9ICQoYDxkaXYgaWQ9Imh0bWxfMTM4ZWY1YjQ3NzFhNDBjNjlhOGZjOGY5YmY0MTgzZWIiIHN0eWxlPSJ3aWR0aDogMTAwLjAlOyBoZWlnaHQ6IDEwMC4wJTsiPkRvbiBNaWxscywgTm9ydGggWW9yazwvZGl2PmApWzBdOwogICAgICAgICAgICBwb3B1cF9iMTMxZmUzYzM5OGM0YWIyOGQ2YTE3MWJiZDhkZTE5Mi5zZXRDb250ZW50KGh0bWxfMTM4ZWY1YjQ3NzFhNDBjNjlhOGZjOGY5YmY0MTgzZWIpOwogICAgICAgIAoKICAgICAgICBjaXJjbGVfbWFya2VyXzc2ZGVjYjI3MjVlMDQ0MTI5YWU0YjAzZWNhMmFhNGNmLmJpbmRQb3B1cChwb3B1cF9iMTMxZmUzYzM5OGM0YWIyOGQ2YTE3MWJiZDhkZTE5MikKICAgICAgICA7CgogICAgICAgIAogICAgCiAgICAKICAgICAgICAgICAgdmFyIGNpcmNsZV9tYXJrZXJfMmFjZDNiMjZlZTczNGI5MDkxM2I2ZWUxYTYzNGJhMWMgPSBMLmNpcmNsZU1hcmtlcigKICAgICAgICAgICAgICAgIFs0My43MDYzOTcyLCAtNzkuMzA5OTM3XSwKICAgICAgICAgICAgICAgIHsiYnViYmxpbmdNb3VzZUV2ZW50cyI6IHRydWUsICJjb2xvciI6ICJibHVlIiwgImRhc2hBcnJheSI6IG51bGwsICJkYXNoT2Zmc2V0IjogbnVsbCwgImZpbGwiOiB0cnVlLCAiZmlsbENvbG9yIjogIiMzMTg2Y2MiLCAiZmlsbE9wYWNpdHkiOiAwLjcsICJmaWxsUnVsZSI6ICJldmVub2RkIiwgImxpbmVDYXAiOiAicm91bmQiLCAibGluZUpvaW4iOiAicm91bmQiLCAib3BhY2l0eSI6IDEuMCwgInJhZGl1cyI6IDUsICJzdHJva2UiOiB0cnVlLCAid2VpZ2h0IjogM30KICAgICAgICAgICAgKS5hZGRUbyhtYXBfYTQ4ODlmYjgwYjVlNGVmOWE3YjNkZDA0ZmFjYzA4YWMpOwogICAgICAgIAogICAgCiAgICAgICAgdmFyIHBvcHVwXzA2ZTlhMjBkZjhlNjQ2NGI5ZDQ4MDY0ZTNkOWI1ODA0ID0gTC5wb3B1cCh7Im1heFdpZHRoIjogIjEwMCUifSk7CgogICAgICAgIAogICAgICAgICAgICB2YXIgaHRtbF8xZjQ5MWE0MDdkNTU0ZjhlOWViYzlkYzcxM2EzNDJlYyA9ICQoYDxkaXYgaWQ9Imh0bWxfMWY0OTFhNDA3ZDU1NGY4ZTllYmM5ZGM3MTNhMzQyZWMiIHN0eWxlPSJ3aWR0aDogMTAwLjAlOyBoZWlnaHQ6IDEwMC4wJTsiPlBhcmt2aWV3IEhpbGwsIFdvb2RiaW5lIEdhcmRlbnMsIEVhc3QgWW9yazwvZGl2PmApWzBdOwogICAgICAgICAgICBwb3B1cF8wNmU5YTIwZGY4ZTY0NjRiOWQ0ODA2NGUzZDliNTgwNC5zZXRDb250ZW50KGh0bWxfMWY0OTFhNDA3ZDU1NGY4ZTllYmM5ZGM3MTNhMzQyZWMpOwogICAgICAgIAoKICAgICAgICBjaXJjbGVfbWFya2VyXzJhY2QzYjI2ZWU3MzRiOTA5MTNiNmVlMWE2MzRiYTFjLmJpbmRQb3B1cChwb3B1cF8wNmU5YTIwZGY4ZTY0NjRiOWQ0ODA2NGUzZDliNTgwNCkKICAgICAgICA7CgogICAgICAgIAogICAgCiAgICAKICAgICAgICAgICAgdmFyIGNpcmNsZV9tYXJrZXJfMTY0ZmRjZjIzOTA3NDM5Mzg4NzQ4NjZjMzQ1Y2JhMjYgPSBMLmNpcmNsZU1hcmtlcigKICAgICAgICAgICAgICAgIFs0My42NTcxNjE4LCAtNzkuMzc4OTM3MDk5OTk5OTldLAogICAgICAgICAgICAgICAgeyJidWJibGluZ01vdXNlRXZlbnRzIjogdHJ1ZSwgImNvbG9yIjogImJsdWUiLCAiZGFzaEFycmF5IjogbnVsbCwgImRhc2hPZmZzZXQiOiBudWxsLCAiZmlsbCI6IHRydWUsICJmaWxsQ29sb3IiOiAiIzMxODZjYyIsICJmaWxsT3BhY2l0eSI6IDAuNywgImZpbGxSdWxlIjogImV2ZW5vZGQiLCAibGluZUNhcCI6ICJyb3VuZCIsICJsaW5lSm9pbiI6ICJyb3VuZCIsICJvcGFjaXR5IjogMS4wLCAicmFkaXVzIjogNSwgInN0cm9rZSI6IHRydWUsICJ3ZWlnaHQiOiAzfQogICAgICAgICAgICApLmFkZFRvKG1hcF9hNDg4OWZiODBiNWU0ZWY5YTdiM2RkMDRmYWNjMDhhYyk7CiAgICAgICAgCiAgICAKICAgICAgICB2YXIgcG9wdXBfZDkwNDJiMDFkMWNhNDcwYjkxYmYwZTBmYTYwYjVhMjYgPSBMLnBvcHVwKHsibWF4V2lkdGgiOiAiMTAwJSJ9KTsKCiAgICAgICAgCiAgICAgICAgICAgIHZhciBodG1sX2EzNjEzMTdjNDk5NDRkMGM5NTAwMTU3YzA5M2VjZDU0ID0gJChgPGRpdiBpZD0iaHRtbF9hMzYxMzE3YzQ5OTQ0ZDBjOTUwMDE1N2MwOTNlY2Q1NCIgc3R5bGU9IndpZHRoOiAxMDAuMCU7IGhlaWdodDogMTAwLjAlOyI+R2FyZGVuIERpc3RyaWN0LCBSeWVyc29uLCBEb3dudG93biBUb3JvbnRvPC9kaXY+YClbMF07CiAgICAgICAgICAgIHBvcHVwX2Q5MDQyYjAxZDFjYTQ3MGI5MWJmMGUwZmE2MGI1YTI2LnNldENvbnRlbnQoaHRtbF9hMzYxMzE3YzQ5OTQ0ZDBjOTUwMDE1N2MwOTNlY2Q1NCk7CiAgICAgICAgCgogICAgICAgIGNpcmNsZV9tYXJrZXJfMTY0ZmRjZjIzOTA3NDM5Mzg4NzQ4NjZjMzQ1Y2JhMjYuYmluZFBvcHVwKHBvcHVwX2Q5MDQyYjAxZDFjYTQ3MGI5MWJmMGUwZmE2MGI1YTI2KQogICAgICAgIDsKCiAgICAgICAgCiAgICAKICAgIAogICAgICAgICAgICB2YXIgY2lyY2xlX21hcmtlcl81ZWU2NmVjMjg2ZDU0MTdjOTk1MTcyM2E2MTZmZDZlYSA9IEwuY2lyY2xlTWFya2VyKAogICAgICAgICAgICAgICAgWzQzLjcwOTU3NywgLTc5LjQ0NTA3MjU5OTk5OTk5XSwKICAgICAgICAgICAgICAgIHsiYnViYmxpbmdNb3VzZUV2ZW50cyI6IHRydWUsICJjb2xvciI6ICJibHVlIiwgImRhc2hBcnJheSI6IG51bGwsICJkYXNoT2Zmc2V0IjogbnVsbCwgImZpbGwiOiB0cnVlLCAiZmlsbENvbG9yIjogIiMzMTg2Y2MiLCAiZmlsbE9wYWNpdHkiOiAwLjcsICJmaWxsUnVsZSI6ICJldmVub2RkIiwgImxpbmVDYXAiOiAicm91bmQiLCAibGluZUpvaW4iOiAicm91bmQiLCAib3BhY2l0eSI6IDEuMCwgInJhZGl1cyI6IDUsICJzdHJva2UiOiB0cnVlLCAid2VpZ2h0IjogM30KICAgICAgICAgICAgKS5hZGRUbyhtYXBfYTQ4ODlmYjgwYjVlNGVmOWE3YjNkZDA0ZmFjYzA4YWMpOwogICAgICAgIAogICAgCiAgICAgICAgdmFyIHBvcHVwX2VkZGM4OWVhM2JiNDQ0ZjM4NmQxOWNkZjdjMjNhZTRjID0gTC5wb3B1cCh7Im1heFdpZHRoIjogIjEwMCUifSk7CgogICAgICAgIAogICAgICAgICAgICB2YXIgaHRtbF81OGQ3YzE5ZTBjNTM0YjZiOTk3OGEyODE2NzY2NjZkNCA9ICQoYDxkaXYgaWQ9Imh0bWxfNThkN2MxOWUwYzUzNGI2Yjk5NzhhMjgxNjc2NjY2ZDQiIHN0eWxlPSJ3aWR0aDogMTAwLjAlOyBoZWlnaHQ6IDEwMC4wJTsiPkdsZW5jYWlybiwgTm9ydGggWW9yazwvZGl2PmApWzBdOwogICAgICAgICAgICBwb3B1cF9lZGRjODllYTNiYjQ0NGYzODZkMTljZGY3YzIzYWU0Yy5zZXRDb250ZW50KGh0bWxfNThkN2MxOWUwYzUzNGI2Yjk5NzhhMjgxNjc2NjY2ZDQpOwogICAgICAgIAoKICAgICAgICBjaXJjbGVfbWFya2VyXzVlZTY2ZWMyODZkNTQxN2M5OTUxNzIzYTYxNmZkNmVhLmJpbmRQb3B1cChwb3B1cF9lZGRjODllYTNiYjQ0NGYzODZkMTljZGY3YzIzYWU0YykKICAgICAgICA7CgogICAgICAgIAogICAgCiAgICAKICAgICAgICAgICAgdmFyIGNpcmNsZV9tYXJrZXJfYTEzNWQ3MzVkZTdmNDg4ZDk1M2U0MTliOWYwYWIzOWUgPSBMLmNpcmNsZU1hcmtlcigKICAgICAgICAgICAgICAgIFs0My42NTA5NDMyLCAtNzkuNTU0NzI0NDAwMDAwMDFdLAogICAgICAgICAgICAgICAgeyJidWJibGluZ01vdXNlRXZlbnRzIjogdHJ1ZSwgImNvbG9yIjogImJsdWUiLCAiZGFzaEFycmF5IjogbnVsbCwgImRhc2hPZmZzZXQiOiBudWxsLCAiZmlsbCI6IHRydWUsICJmaWxsQ29sb3IiOiAiIzMxODZjYyIsICJmaWxsT3BhY2l0eSI6IDAuNywgImZpbGxSdWxlIjogImV2ZW5vZGQiLCAibGluZUNhcCI6ICJyb3VuZCIsICJsaW5lSm9pbiI6ICJyb3VuZCIsICJvcGFjaXR5IjogMS4wLCAicmFkaXVzIjogNSwgInN0cm9rZSI6IHRydWUsICJ3ZWlnaHQiOiAzfQogICAgICAgICAgICApLmFkZFRvKG1hcF9hNDg4OWZiODBiNWU0ZWY5YTdiM2RkMDRmYWNjMDhhYyk7CiAgICAgICAgCiAgICAKICAgICAgICB2YXIgcG9wdXBfMGFkOWJlN2Y3ZmUzNDRkY2I1NTAzMjZmNWNmNTJkYWMgPSBMLnBvcHVwKHsibWF4V2lkdGgiOiAiMTAwJSJ9KTsKCiAgICAgICAgCiAgICAgICAgICAgIHZhciBodG1sX2Y3OTRkNDRjNzYwYTRlMGQ5YmFlMWQwM2VjMzhmNWE3ID0gJChgPGRpdiBpZD0iaHRtbF9mNzk0ZDQ0Yzc2MGE0ZTBkOWJhZTFkMDNlYzM4ZjVhNyIgc3R5bGU9IndpZHRoOiAxMDAuMCU7IGhlaWdodDogMTAwLjAlOyI+V2VzdCBEZWFuZSBQYXJrLCBQcmluY2VzcyBHYXJkZW5zLCBNYXJ0aW4gR3JvdmUsIElzbGluZ3RvbiwgQ2xvdmVyZGFsZSwgRXRvYmljb2tlPC9kaXY+YClbMF07CiAgICAgICAgICAgIHBvcHVwXzBhZDliZTdmN2ZlMzQ0ZGNiNTUwMzI2ZjVjZjUyZGFjLnNldENvbnRlbnQoaHRtbF9mNzk0ZDQ0Yzc2MGE0ZTBkOWJhZTFkMDNlYzM4ZjVhNyk7CiAgICAgICAgCgogICAgICAgIGNpcmNsZV9tYXJrZXJfYTEzNWQ3MzVkZTdmNDg4ZDk1M2U0MTliOWYwYWIzOWUuYmluZFBvcHVwKHBvcHVwXzBhZDliZTdmN2ZlMzQ0ZGNiNTUwMzI2ZjVjZjUyZGFjKQogICAgICAgIDsKCiAgICAgICAgCiAgICAKICAgIAogICAgICAgICAgICB2YXIgY2lyY2xlX21hcmtlcl9lOTliNWQ2ZWNhMWI0NTAxYmQxNWE4NGY2ZmZjODZhNyA9IEwuY2lyY2xlTWFya2VyKAogICAgICAgICAgICAgICAgWzQzLjc4NDUzNTEsIC03OS4xNjA0OTcwOTk5OTk5OV0sCiAgICAgICAgICAgICAgICB7ImJ1YmJsaW5nTW91c2VFdmVudHMiOiB0cnVlLCAiY29sb3IiOiAiYmx1ZSIsICJkYXNoQXJyYXkiOiBudWxsLCAiZGFzaE9mZnNldCI6IG51bGwsICJmaWxsIjogdHJ1ZSwgImZpbGxDb2xvciI6ICIjMzE4NmNjIiwgImZpbGxPcGFjaXR5IjogMC43LCAiZmlsbFJ1bGUiOiAiZXZlbm9kZCIsICJsaW5lQ2FwIjogInJvdW5kIiwgImxpbmVKb2luIjogInJvdW5kIiwgIm9wYWNpdHkiOiAxLjAsICJyYWRpdXMiOiA1LCAic3Ryb2tlIjogdHJ1ZSwgIndlaWdodCI6IDN9CiAgICAgICAgICAgICkuYWRkVG8obWFwX2E0ODg5ZmI4MGI1ZTRlZjlhN2IzZGQwNGZhY2MwOGFjKTsKICAgICAgICAKICAgIAogICAgICAgIHZhciBwb3B1cF84OTdiYjk4ODI3ODg0YjYyOGIyOGFmNzBiZDJiMGVlMCA9IEwucG9wdXAoeyJtYXhXaWR0aCI6ICIxMDAlIn0pOwoKICAgICAgICAKICAgICAgICAgICAgdmFyIGh0bWxfNmRhMTFiZGE2YzdmNDI2ZDgzMmQzZWRhM2U3ZjE0YzEgPSAkKGA8ZGl2IGlkPSJodG1sXzZkYTExYmRhNmM3ZjQyNmQ4MzJkM2VkYTNlN2YxNGMxIiBzdHlsZT0id2lkdGg6IDEwMC4wJTsgaGVpZ2h0OiAxMDAuMCU7Ij5Sb3VnZSBIaWxsLCBQb3J0IFVuaW9uLCBIaWdobGFuZCBDcmVlaywgU2NhcmJvcm91Z2g8L2Rpdj5gKVswXTsKICAgICAgICAgICAgcG9wdXBfODk3YmI5ODgyNzg4NGI2MjhiMjhhZjcwYmQyYjBlZTAuc2V0Q29udGVudChodG1sXzZkYTExYmRhNmM3ZjQyNmQ4MzJkM2VkYTNlN2YxNGMxKTsKICAgICAgICAKCiAgICAgICAgY2lyY2xlX21hcmtlcl9lOTliNWQ2ZWNhMWI0NTAxYmQxNWE4NGY2ZmZjODZhNy5iaW5kUG9wdXAocG9wdXBfODk3YmI5ODgyNzg4NGI2MjhiMjhhZjcwYmQyYjBlZTApCiAgICAgICAgOwoKICAgICAgICAKICAgIAogICAgCiAgICAgICAgICAgIHZhciBjaXJjbGVfbWFya2VyXzI2YTJkNDllYTljYjRiZjU5N2UyMzVkMzgzNWYwYTFlID0gTC5jaXJjbGVNYXJrZXIoCiAgICAgICAgICAgICAgICBbNDMuNzI1ODk5NzAwMDAwMDEsIC03OS4zNDA5MjNdLAogICAgICAgICAgICAgICAgeyJidWJibGluZ01vdXNlRXZlbnRzIjogdHJ1ZSwgImNvbG9yIjogImJsdWUiLCAiZGFzaEFycmF5IjogbnVsbCwgImRhc2hPZmZzZXQiOiBudWxsLCAiZmlsbCI6IHRydWUsICJmaWxsQ29sb3IiOiAiIzMxODZjYyIsICJmaWxsT3BhY2l0eSI6IDAuNywgImZpbGxSdWxlIjogImV2ZW5vZGQiLCAibGluZUNhcCI6ICJyb3VuZCIsICJsaW5lSm9pbiI6ICJyb3VuZCIsICJvcGFjaXR5IjogMS4wLCAicmFkaXVzIjogNSwgInN0cm9rZSI6IHRydWUsICJ3ZWlnaHQiOiAzfQogICAgICAgICAgICApLmFkZFRvKG1hcF9hNDg4OWZiODBiNWU0ZWY5YTdiM2RkMDRmYWNjMDhhYyk7CiAgICAgICAgCiAgICAKICAgICAgICB2YXIgcG9wdXBfMTcxMTM5M2VkMzdjNDQ5MDkzM2E0ODJmOTZjMTU4YjkgPSBMLnBvcHVwKHsibWF4V2lkdGgiOiAiMTAwJSJ9KTsKCiAgICAgICAgCiAgICAgICAgICAgIHZhciBodG1sXzRlYWEzNTcyMjk5ZTQyNDFiMjRiMGUwMzc3MWQwYTc2ID0gJChgPGRpdiBpZD0iaHRtbF80ZWFhMzU3MjI5OWU0MjQxYjI0YjBlMDM3NzFkMGE3NiIgc3R5bGU9IndpZHRoOiAxMDAuMCU7IGhlaWdodDogMTAwLjAlOyI+RG9uIE1pbGxzLCBOb3J0aCBZb3JrPC9kaXY+YClbMF07CiAgICAgICAgICAgIHBvcHVwXzE3MTEzOTNlZDM3YzQ0OTA5MzNhNDgyZjk2YzE1OGI5LnNldENvbnRlbnQoaHRtbF80ZWFhMzU3MjI5OWU0MjQxYjI0YjBlMDM3NzFkMGE3Nik7CiAgICAgICAgCgogICAgICAgIGNpcmNsZV9tYXJrZXJfMjZhMmQ0OWVhOWNiNGJmNTk3ZTIzNWQzODM1ZjBhMWUuYmluZFBvcHVwKHBvcHVwXzE3MTEzOTNlZDM3YzQ0OTA5MzNhNDgyZjk2YzE1OGI5KQogICAgICAgIDsKCiAgICAgICAgCiAgICAKICAgIAogICAgICAgICAgICB2YXIgY2lyY2xlX21hcmtlcl82ZGNlODEyMjM0ZDk0ODA5YWMzMTkzNTRhZmVmM2NjZiA9IEwuY2lyY2xlTWFya2VyKAogICAgICAgICAgICAgICAgWzQzLjY5NTM0MzkwMDAwMDAwNSwgLTc5LjMxODM4ODddLAogICAgICAgICAgICAgICAgeyJidWJibGluZ01vdXNlRXZlbnRzIjogdHJ1ZSwgImNvbG9yIjogImJsdWUiLCAiZGFzaEFycmF5IjogbnVsbCwgImRhc2hPZmZzZXQiOiBudWxsLCAiZmlsbCI6IHRydWUsICJmaWxsQ29sb3IiOiAiIzMxODZjYyIsICJmaWxsT3BhY2l0eSI6IDAuNywgImZpbGxSdWxlIjogImV2ZW5vZGQiLCAibGluZUNhcCI6ICJyb3VuZCIsICJsaW5lSm9pbiI6ICJyb3VuZCIsICJvcGFjaXR5IjogMS4wLCAicmFkaXVzIjogNSwgInN0cm9rZSI6IHRydWUsICJ3ZWlnaHQiOiAzfQogICAgICAgICAgICApLmFkZFRvKG1hcF9hNDg4OWZiODBiNWU0ZWY5YTdiM2RkMDRmYWNjMDhhYyk7CiAgICAgICAgCiAgICAKICAgICAgICB2YXIgcG9wdXBfNTRkZGZlNmQ5ZmNiNDY5MGI1NjExYjNhNzI0NDZjZDEgPSBMLnBvcHVwKHsibWF4V2lkdGgiOiAiMTAwJSJ9KTsKCiAgICAgICAgCiAgICAgICAgICAgIHZhciBodG1sXzcwMzFhM2VjM2Y2NTQzY2E5NWQ3ZmM0YzM4YTAzYzEwID0gJChgPGRpdiBpZD0iaHRtbF83MDMxYTNlYzNmNjU0M2NhOTVkN2ZjNGMzOGEwM2MxMCIgc3R5bGU9IndpZHRoOiAxMDAuMCU7IGhlaWdodDogMTAwLjAlOyI+V29vZGJpbmUgSGVpZ2h0cywgRWFzdCBZb3JrPC9kaXY+YClbMF07CiAgICAgICAgICAgIHBvcHVwXzU0ZGRmZTZkOWZjYjQ2OTBiNTYxMWIzYTcyNDQ2Y2QxLnNldENvbnRlbnQoaHRtbF83MDMxYTNlYzNmNjU0M2NhOTVkN2ZjNGMzOGEwM2MxMCk7CiAgICAgICAgCgogICAgICAgIGNpcmNsZV9tYXJrZXJfNmRjZTgxMjIzNGQ5NDgwOWFjMzE5MzU0YWZlZjNjY2YuYmluZFBvcHVwKHBvcHVwXzU0ZGRmZTZkOWZjYjQ2OTBiNTYxMWIzYTcyNDQ2Y2QxKQogICAgICAgIDsKCiAgICAgICAgCiAgICAKICAgIAogICAgICAgICAgICB2YXIgY2lyY2xlX21hcmtlcl80NzZhNjI3NDRjZjE0MTdmODI3YmMwODY4MWY3ZGFjYSA9IEwuY2lyY2xlTWFya2VyKAogICAgICAgICAgICAgICAgWzQzLjY1MTQ5MzksIC03OS4zNzU0MTc5XSwKICAgICAgICAgICAgICAgIHsiYnViYmxpbmdNb3VzZUV2ZW50cyI6IHRydWUsICJjb2xvciI6ICJibHVlIiwgImRhc2hBcnJheSI6IG51bGwsICJkYXNoT2Zmc2V0IjogbnVsbCwgImZpbGwiOiB0cnVlLCAiZmlsbENvbG9yIjogIiMzMTg2Y2MiLCAiZmlsbE9wYWNpdHkiOiAwLjcsICJmaWxsUnVsZSI6ICJldmVub2RkIiwgImxpbmVDYXAiOiAicm91bmQiLCAibGluZUpvaW4iOiAicm91bmQiLCAib3BhY2l0eSI6IDEuMCwgInJhZGl1cyI6IDUsICJzdHJva2UiOiB0cnVlLCAid2VpZ2h0IjogM30KICAgICAgICAgICAgKS5hZGRUbyhtYXBfYTQ4ODlmYjgwYjVlNGVmOWE3YjNkZDA0ZmFjYzA4YWMpOwogICAgICAgIAogICAgCiAgICAgICAgdmFyIHBvcHVwX2M2Y2E3YjNiYzMzMzRlZjY4Mzg3MTE5NmM2MzUyOTI0ID0gTC5wb3B1cCh7Im1heFdpZHRoIjogIjEwMCUifSk7CgogICAgICAgIAogICAgICAgICAgICB2YXIgaHRtbF9jNWYwOGIwNTQ3NjM0ODcyYWYyNzY5NWUyNDRkMDhlNiA9ICQoYDxkaXYgaWQ9Imh0bWxfYzVmMDhiMDU0NzYzNDg3MmFmMjc2OTVlMjQ0ZDA4ZTYiIHN0eWxlPSJ3aWR0aDogMTAwLjAlOyBoZWlnaHQ6IDEwMC4wJTsiPlN0LiBKYW1lcyBUb3duLCBEb3dudG93biBUb3JvbnRvPC9kaXY+YClbMF07CiAgICAgICAgICAgIHBvcHVwX2M2Y2E3YjNiYzMzMzRlZjY4Mzg3MTE5NmM2MzUyOTI0LnNldENvbnRlbnQoaHRtbF9jNWYwOGIwNTQ3NjM0ODcyYWYyNzY5NWUyNDRkMDhlNik7CiAgICAgICAgCgogICAgICAgIGNpcmNsZV9tYXJrZXJfNDc2YTYyNzQ0Y2YxNDE3ZjgyN2JjMDg2ODFmN2RhY2EuYmluZFBvcHVwKHBvcHVwX2M2Y2E3YjNiYzMzMzRlZjY4Mzg3MTE5NmM2MzUyOTI0KQogICAgICAgIDsKCiAgICAgICAgCiAgICAKICAgIAogICAgICAgICAgICB2YXIgY2lyY2xlX21hcmtlcl8wMWUxMGRkMzM1N2M0ZDBmYWNjMzUwOGU0YmM3YmZjNyA9IEwuY2lyY2xlTWFya2VyKAogICAgICAgICAgICAgICAgWzQzLjY5Mzc4MTMsIC03OS40MjgxOTE0MDAwMDAwMl0sCiAgICAgICAgICAgICAgICB7ImJ1YmJsaW5nTW91c2VFdmVudHMiOiB0cnVlLCAiY29sb3IiOiAiYmx1ZSIsICJkYXNoQXJyYXkiOiBudWxsLCAiZGFzaE9mZnNldCI6IG51bGwsICJmaWxsIjogdHJ1ZSwgImZpbGxDb2xvciI6ICIjMzE4NmNjIiwgImZpbGxPcGFjaXR5IjogMC43LCAiZmlsbFJ1bGUiOiAiZXZlbm9kZCIsICJsaW5lQ2FwIjogInJvdW5kIiwgImxpbmVKb2luIjogInJvdW5kIiwgIm9wYWNpdHkiOiAxLjAsICJyYWRpdXMiOiA1LCAic3Ryb2tlIjogdHJ1ZSwgIndlaWdodCI6IDN9CiAgICAgICAgICAgICkuYWRkVG8obWFwX2E0ODg5ZmI4MGI1ZTRlZjlhN2IzZGQwNGZhY2MwOGFjKTsKICAgICAgICAKICAgIAogICAgICAgIHZhciBwb3B1cF84ZDRmZWMxZTU2NTQ0NTEwOWJmNTdjMDBjNzM4MGNiZCA9IEwucG9wdXAoeyJtYXhXaWR0aCI6ICIxMDAlIn0pOwoKICAgICAgICAKICAgICAgICAgICAgdmFyIGh0bWxfNjk3ZGZjNThiZjUxNDMzZTliNGM4NjQ3NjFkNzNkOGMgPSAkKGA8ZGl2IGlkPSJodG1sXzY5N2RmYzU4YmY1MTQzM2U5YjRjODY0NzYxZDczZDhjIiBzdHlsZT0id2lkdGg6IDEwMC4wJTsgaGVpZ2h0OiAxMDAuMCU7Ij5IdW1ld29vZC1DZWRhcnZhbGUsIFlvcms8L2Rpdj5gKVswXTsKICAgICAgICAgICAgcG9wdXBfOGQ0ZmVjMWU1NjU0NDUxMDliZjU3YzAwYzczODBjYmQuc2V0Q29udGVudChodG1sXzY5N2RmYzU4YmY1MTQzM2U5YjRjODY0NzYxZDczZDhjKTsKICAgICAgICAKCiAgICAgICAgY2lyY2xlX21hcmtlcl8wMWUxMGRkMzM1N2M0ZDBmYWNjMzUwOGU0YmM3YmZjNy5iaW5kUG9wdXAocG9wdXBfOGQ0ZmVjMWU1NjU0NDUxMDliZjU3YzAwYzczODBjYmQpCiAgICAgICAgOwoKICAgICAgICAKICAgIAogICAgCiAgICAgICAgICAgIHZhciBjaXJjbGVfbWFya2VyXzBkNzVlYWMwYzUxYzRjN2Q5YTEwYmMyZGU3YzI2MjdhID0gTC5jaXJjbGVNYXJrZXIoCiAgICAgICAgICAgICAgICBbNDMuNjQzNTE1MiwgLTc5LjU3NzIwMDc5OTk5OTk5XSwKICAgICAgICAgICAgICAgIHsiYnViYmxpbmdNb3VzZUV2ZW50cyI6IHRydWUsICJjb2xvciI6ICJibHVlIiwgImRhc2hBcnJheSI6IG51bGwsICJkYXNoT2Zmc2V0IjogbnVsbCwgImZpbGwiOiB0cnVlLCAiZmlsbENvbG9yIjogIiMzMTg2Y2MiLCAiZmlsbE9wYWNpdHkiOiAwLjcsICJmaWxsUnVsZSI6ICJldmVub2RkIiwgImxpbmVDYXAiOiAicm91bmQiLCAibGluZUpvaW4iOiAicm91bmQiLCAib3BhY2l0eSI6IDEuMCwgInJhZGl1cyI6IDUsICJzdHJva2UiOiB0cnVlLCAid2VpZ2h0IjogM30KICAgICAgICAgICAgKS5hZGRUbyhtYXBfYTQ4ODlmYjgwYjVlNGVmOWE3YjNkZDA0ZmFjYzA4YWMpOwogICAgICAgIAogICAgCiAgICAgICAgdmFyIHBvcHVwX2MzOWI0MTUxYjYzOTQ4MzNhY2M1ZjE2YTFiZjk0ZDhkID0gTC5wb3B1cCh7Im1heFdpZHRoIjogIjEwMCUifSk7CgogICAgICAgIAogICAgICAgICAgICB2YXIgaHRtbF83NmRmYTc3YzY5MGM0NzljYWFjMTMzZDVmOWI4MmI5ZSA9ICQoYDxkaXYgaWQ9Imh0bWxfNzZkZmE3N2M2OTBjNDc5Y2FhYzEzM2Q1ZjliODJiOWUiIHN0eWxlPSJ3aWR0aDogMTAwLjAlOyBoZWlnaHQ6IDEwMC4wJTsiPkVyaW5nYXRlLCBCbG9vcmRhbGUgR2FyZGVucywgT2xkIEJ1cm5oYW10aG9ycGUsIE1hcmtsYW5kIFdvb2QsIEV0b2JpY29rZTwvZGl2PmApWzBdOwogICAgICAgICAgICBwb3B1cF9jMzliNDE1MWI2Mzk0ODMzYWNjNWYxNmExYmY5NGQ4ZC5zZXRDb250ZW50KGh0bWxfNzZkZmE3N2M2OTBjNDc5Y2FhYzEzM2Q1ZjliODJiOWUpOwogICAgICAgIAoKICAgICAgICBjaXJjbGVfbWFya2VyXzBkNzVlYWMwYzUxYzRjN2Q5YTEwYmMyZGU3YzI2MjdhLmJpbmRQb3B1cChwb3B1cF9jMzliNDE1MWI2Mzk0ODMzYWNjNWYxNmExYmY5NGQ4ZCkKICAgICAgICA7CgogICAgICAgIAogICAgCiAgICAKICAgICAgICAgICAgdmFyIGNpcmNsZV9tYXJrZXJfYjE0MjU0MDUxNTY4NGY1ZGIxZjJkZjg0ZjMzMDM3ZTkgPSBMLmNpcmNsZU1hcmtlcigKICAgICAgICAgICAgICAgIFs0My43NjM1NzI2LCAtNzkuMTg4NzExNV0sCiAgICAgICAgICAgICAgICB7ImJ1YmJsaW5nTW91c2VFdmVudHMiOiB0cnVlLCAiY29sb3IiOiAiYmx1ZSIsICJkYXNoQXJyYXkiOiBudWxsLCAiZGFzaE9mZnNldCI6IG51bGwsICJmaWxsIjogdHJ1ZSwgImZpbGxDb2xvciI6ICIjMzE4NmNjIiwgImZpbGxPcGFjaXR5IjogMC43LCAiZmlsbFJ1bGUiOiAiZXZlbm9kZCIsICJsaW5lQ2FwIjogInJvdW5kIiwgImxpbmVKb2luIjogInJvdW5kIiwgIm9wYWNpdHkiOiAxLjAsICJyYWRpdXMiOiA1LCAic3Ryb2tlIjogdHJ1ZSwgIndlaWdodCI6IDN9CiAgICAgICAgICAgICkuYWRkVG8obWFwX2E0ODg5ZmI4MGI1ZTRlZjlhN2IzZGQwNGZhY2MwOGFjKTsKICAgICAgICAKICAgIAogICAgICAgIHZhciBwb3B1cF8xNTdkYWY2ZTYyZmI0MWYwODIyZGQ5MGM2N2IxZTJlZiA9IEwucG9wdXAoeyJtYXhXaWR0aCI6ICIxMDAlIn0pOwoKICAgICAgICAKICAgICAgICAgICAgdmFyIGh0bWxfNjFlOWJiYjI1NWZlNGZlOGE5NjY5YTVhYjdjZWE3NDAgPSAkKGA8ZGl2IGlkPSJodG1sXzYxZTliYmIyNTVmZTRmZThhOTY2OWE1YWI3Y2VhNzQwIiBzdHlsZT0id2lkdGg6IDEwMC4wJTsgaGVpZ2h0OiAxMDAuMCU7Ij5HdWlsZHdvb2QsIE1vcm5pbmdzaWRlLCBXZXN0IEhpbGwsIFNjYXJib3JvdWdoPC9kaXY+YClbMF07CiAgICAgICAgICAgIHBvcHVwXzE1N2RhZjZlNjJmYjQxZjA4MjJkZDkwYzY3YjFlMmVmLnNldENvbnRlbnQoaHRtbF82MWU5YmJiMjU1ZmU0ZmU4YTk2NjlhNWFiN2NlYTc0MCk7CiAgICAgICAgCgogICAgICAgIGNpcmNsZV9tYXJrZXJfYjE0MjU0MDUxNTY4NGY1ZGIxZjJkZjg0ZjMzMDM3ZTkuYmluZFBvcHVwKHBvcHVwXzE1N2RhZjZlNjJmYjQxZjA4MjJkZDkwYzY3YjFlMmVmKQogICAgICAgIDsKCiAgICAgICAgCiAgICAKICAgIAogICAgICAgICAgICB2YXIgY2lyY2xlX21hcmtlcl8xYTIwOGY5MjkxMzc0NGE4OWM4MDNhMDcyMjg0ZGYwZCA9IEwuY2lyY2xlTWFya2VyKAogICAgICAgICAgICAgICAgWzQzLjY3NjM1NzM5OTk5OTk5LCAtNzkuMjkzMDMxMl0sCiAgICAgICAgICAgICAgICB7ImJ1YmJsaW5nTW91c2VFdmVudHMiOiB0cnVlLCAiY29sb3IiOiAiYmx1ZSIsICJkYXNoQXJyYXkiOiBudWxsLCAiZGFzaE9mZnNldCI6IG51bGwsICJmaWxsIjogdHJ1ZSwgImZpbGxDb2xvciI6ICIjMzE4NmNjIiwgImZpbGxPcGFjaXR5IjogMC43LCAiZmlsbFJ1bGUiOiAiZXZlbm9kZCIsICJsaW5lQ2FwIjogInJvdW5kIiwgImxpbmVKb2luIjogInJvdW5kIiwgIm9wYWNpdHkiOiAxLjAsICJyYWRpdXMiOiA1LCAic3Ryb2tlIjogdHJ1ZSwgIndlaWdodCI6IDN9CiAgICAgICAgICAgICkuYWRkVG8obWFwX2E0ODg5ZmI4MGI1ZTRlZjlhN2IzZGQwNGZhY2MwOGFjKTsKICAgICAgICAKICAgIAogICAgICAgIHZhciBwb3B1cF9jMGMwNjEwODcxOGY0MTRiOGZjMGQyMjljZDFhZGExYyA9IEwucG9wdXAoeyJtYXhXaWR0aCI6ICIxMDAlIn0pOwoKICAgICAgICAKICAgICAgICAgICAgdmFyIGh0bWxfOTBhZjc5ZTg1Yzc5NDg4OTllNGY5NzBjZDI3YjFmYjEgPSAkKGA8ZGl2IGlkPSJodG1sXzkwYWY3OWU4NWM3OTQ4ODk5ZTRmOTcwY2QyN2IxZmIxIiBzdHlsZT0id2lkdGg6IDEwMC4wJTsgaGVpZ2h0OiAxMDAuMCU7Ij5UaGUgQmVhY2hlcywgRWFzdCBUb3JvbnRvPC9kaXY+YClbMF07CiAgICAgICAgICAgIHBvcHVwX2MwYzA2MTA4NzE4ZjQxNGI4ZmMwZDIyOWNkMWFkYTFjLnNldENvbnRlbnQoaHRtbF85MGFmNzllODVjNzk0ODg5OWU0Zjk3MGNkMjdiMWZiMSk7CiAgICAgICAgCgogICAgICAgIGNpcmNsZV9tYXJrZXJfMWEyMDhmOTI5MTM3NDRhODljODAzYTA3MjI4NGRmMGQuYmluZFBvcHVwKHBvcHVwX2MwYzA2MTA4NzE4ZjQxNGI4ZmMwZDIyOWNkMWFkYTFjKQogICAgICAgIDsKCiAgICAgICAgCiAgICAKICAgIAogICAgICAgICAgICB2YXIgY2lyY2xlX21hcmtlcl9kMjJmZjI3NzBlMmY0MzYwYTkwYTE1MGU4Y2QwNjdkOCA9IEwuY2lyY2xlTWFya2VyKAogICAgICAgICAgICAgICAgWzQzLjY0NDc3MDc5OTk5OTk5NiwgLTc5LjM3MzMwNjRdLAogICAgICAgICAgICAgICAgeyJidWJibGluZ01vdXNlRXZlbnRzIjogdHJ1ZSwgImNvbG9yIjogImJsdWUiLCAiZGFzaEFycmF5IjogbnVsbCwgImRhc2hPZmZzZXQiOiBudWxsLCAiZmlsbCI6IHRydWUsICJmaWxsQ29sb3IiOiAiIzMxODZjYyIsICJmaWxsT3BhY2l0eSI6IDAuNywgImZpbGxSdWxlIjogImV2ZW5vZGQiLCAibGluZUNhcCI6ICJyb3VuZCIsICJsaW5lSm9pbiI6ICJyb3VuZCIsICJvcGFjaXR5IjogMS4wLCAicmFkaXVzIjogNSwgInN0cm9rZSI6IHRydWUsICJ3ZWlnaHQiOiAzfQogICAgICAgICAgICApLmFkZFRvKG1hcF9hNDg4OWZiODBiNWU0ZWY5YTdiM2RkMDRmYWNjMDhhYyk7CiAgICAgICAgCiAgICAKICAgICAgICB2YXIgcG9wdXBfZjBmNWUzNTFmOGUwNDJhMWJjNjJhZjYzYWIzMzRkMTAgPSBMLnBvcHVwKHsibWF4V2lkdGgiOiAiMTAwJSJ9KTsKCiAgICAgICAgCiAgICAgICAgICAgIHZhciBodG1sXzg1ZTkwMjQ4MTRmYzQwYWNiYWQ4MWZiZGZmNDk5NWFhID0gJChgPGRpdiBpZD0iaHRtbF84NWU5MDI0ODE0ZmM0MGFjYmFkODFmYmRmZjQ5OTVhYSIgc3R5bGU9IndpZHRoOiAxMDAuMCU7IGhlaWdodDogMTAwLjAlOyI+QmVyY3p5IFBhcmssIERvd250b3duIFRvcm9udG88L2Rpdj5gKVswXTsKICAgICAgICAgICAgcG9wdXBfZjBmNWUzNTFmOGUwNDJhMWJjNjJhZjYzYWIzMzRkMTAuc2V0Q29udGVudChodG1sXzg1ZTkwMjQ4MTRmYzQwYWNiYWQ4MWZiZGZmNDk5NWFhKTsKICAgICAgICAKCiAgICAgICAgY2lyY2xlX21hcmtlcl9kMjJmZjI3NzBlMmY0MzYwYTkwYTE1MGU4Y2QwNjdkOC5iaW5kUG9wdXAocG9wdXBfZjBmNWUzNTFmOGUwNDJhMWJjNjJhZjYzYWIzMzRkMTApCiAgICAgICAgOwoKICAgICAgICAKICAgIAogICAgCiAgICAgICAgICAgIHZhciBjaXJjbGVfbWFya2VyXzY4ZGIwNWU3ODE0YzRmYmU5ZWNjZjQ4ZmI0MjgwM2IzID0gTC5jaXJjbGVNYXJrZXIoCiAgICAgICAgICAgICAgICBbNDMuNjg5MDI1NiwgLTc5LjQ1MzUxMl0sCiAgICAgICAgICAgICAgICB7ImJ1YmJsaW5nTW91c2VFdmVudHMiOiB0cnVlLCAiY29sb3IiOiAiYmx1ZSIsICJkYXNoQXJyYXkiOiBudWxsLCAiZGFzaE9mZnNldCI6IG51bGwsICJmaWxsIjogdHJ1ZSwgImZpbGxDb2xvciI6ICIjMzE4NmNjIiwgImZpbGxPcGFjaXR5IjogMC43LCAiZmlsbFJ1bGUiOiAiZXZlbm9kZCIsICJsaW5lQ2FwIjogInJvdW5kIiwgImxpbmVKb2luIjogInJvdW5kIiwgIm9wYWNpdHkiOiAxLjAsICJyYWRpdXMiOiA1LCAic3Ryb2tlIjogdHJ1ZSwgIndlaWdodCI6IDN9CiAgICAgICAgICAgICkuYWRkVG8obWFwX2E0ODg5ZmI4MGI1ZTRlZjlhN2IzZGQwNGZhY2MwOGFjKTsKICAgICAgICAKICAgIAogICAgICAgIHZhciBwb3B1cF8xNGUxZjc3YzI2YjM0MjU0OTRkYTU1YmU2ODY0ZmE3MiA9IEwucG9wdXAoeyJtYXhXaWR0aCI6ICIxMDAlIn0pOwoKICAgICAgICAKICAgICAgICAgICAgdmFyIGh0bWxfMzdjNzVhMjE2MjgxNGVkYWExNzc3ZWY0MWIwODRlOWYgPSAkKGA8ZGl2IGlkPSJodG1sXzM3Yzc1YTIxNjI4MTRlZGFhMTc3N2VmNDFiMDg0ZTlmIiBzdHlsZT0id2lkdGg6IDEwMC4wJTsgaGVpZ2h0OiAxMDAuMCU7Ij5DYWxlZG9uaWEtRmFpcmJhbmtzLCBZb3JrPC9kaXY+YClbMF07CiAgICAgICAgICAgIHBvcHVwXzE0ZTFmNzdjMjZiMzQyNTQ5NGRhNTViZTY4NjRmYTcyLnNldENvbnRlbnQoaHRtbF8zN2M3NWEyMTYyODE0ZWRhYTE3NzdlZjQxYjA4NGU5Zik7CiAgICAgICAgCgogICAgICAgIGNpcmNsZV9tYXJrZXJfNjhkYjA1ZTc4MTRjNGZiZTllY2NmNDhmYjQyODAzYjMuYmluZFBvcHVwKHBvcHVwXzE0ZTFmNzdjMjZiMzQyNTQ5NGRhNTViZTY4NjRmYTcyKQogICAgICAgIDsKCiAgICAgICAgCiAgICAKICAgIAogICAgICAgICAgICB2YXIgY2lyY2xlX21hcmtlcl9jYzc3ZjQ4Yjc5MjU0YzhkYTJlYjM2NDZiMjA0NjA3OCA9IEwuY2lyY2xlTWFya2VyKAogICAgICAgICAgICAgICAgWzQzLjc3MDk5MjEsIC03OS4yMTY5MTc0MDAwMDAwMV0sCiAgICAgICAgICAgICAgICB7ImJ1YmJsaW5nTW91c2VFdmVudHMiOiB0cnVlLCAiY29sb3IiOiAiYmx1ZSIsICJkYXNoQXJyYXkiOiBudWxsLCAiZGFzaE9mZnNldCI6IG51bGwsICJmaWxsIjogdHJ1ZSwgImZpbGxDb2xvciI6ICIjMzE4NmNjIiwgImZpbGxPcGFjaXR5IjogMC43LCAiZmlsbFJ1bGUiOiAiZXZlbm9kZCIsICJsaW5lQ2FwIjogInJvdW5kIiwgImxpbmVKb2luIjogInJvdW5kIiwgIm9wYWNpdHkiOiAxLjAsICJyYWRpdXMiOiA1LCAic3Ryb2tlIjogdHJ1ZSwgIndlaWdodCI6IDN9CiAgICAgICAgICAgICkuYWRkVG8obWFwX2E0ODg5ZmI4MGI1ZTRlZjlhN2IzZGQwNGZhY2MwOGFjKTsKICAgICAgICAKICAgIAogICAgICAgIHZhciBwb3B1cF8zYWMxYjQxYzFjMDk0NTBjYTZkOTBiMmVlMmZjNmFmZiA9IEwucG9wdXAoeyJtYXhXaWR0aCI6ICIxMDAlIn0pOwoKICAgICAgICAKICAgICAgICAgICAgdmFyIGh0bWxfM2FiZDYwM2M0ODkwNDRlM2EwMjIzYjYzZjU5MzQ3YTIgPSAkKGA8ZGl2IGlkPSJodG1sXzNhYmQ2MDNjNDg5MDQ0ZTNhMDIyM2I2M2Y1OTM0N2EyIiBzdHlsZT0id2lkdGg6IDEwMC4wJTsgaGVpZ2h0OiAxMDAuMCU7Ij5Xb2J1cm4sIFNjYXJib3JvdWdoPC9kaXY+YClbMF07CiAgICAgICAgICAgIHBvcHVwXzNhYzFiNDFjMWMwOTQ1MGNhNmQ5MGIyZWUyZmM2YWZmLnNldENvbnRlbnQoaHRtbF8zYWJkNjAzYzQ4OTA0NGUzYTAyMjNiNjNmNTkzNDdhMik7CiAgICAgICAgCgogICAgICAgIGNpcmNsZV9tYXJrZXJfY2M3N2Y0OGI3OTI1NGM4ZGEyZWIzNjQ2YjIwNDYwNzguYmluZFBvcHVwKHBvcHVwXzNhYzFiNDFjMWMwOTQ1MGNhNmQ5MGIyZWUyZmM2YWZmKQogICAgICAgIDsKCiAgICAgICAgCiAgICAKICAgIAogICAgICAgICAgICB2YXIgY2lyY2xlX21hcmtlcl80Nzg2MjYxODI4NDU0ODk1YjRlYTJjN2M3NWFlMjFhMCA9IEwuY2lyY2xlTWFya2VyKAogICAgICAgICAgICAgICAgWzQzLjcwOTA2MDQsIC03OS4zNjM0NTE3XSwKICAgICAgICAgICAgICAgIHsiYnViYmxpbmdNb3VzZUV2ZW50cyI6IHRydWUsICJjb2xvciI6ICJibHVlIiwgImRhc2hBcnJheSI6IG51bGwsICJkYXNoT2Zmc2V0IjogbnVsbCwgImZpbGwiOiB0cnVlLCAiZmlsbENvbG9yIjogIiMzMTg2Y2MiLCAiZmlsbE9wYWNpdHkiOiAwLjcsICJmaWxsUnVsZSI6ICJldmVub2RkIiwgImxpbmVDYXAiOiAicm91bmQiLCAibGluZUpvaW4iOiAicm91bmQiLCAib3BhY2l0eSI6IDEuMCwgInJhZGl1cyI6IDUsICJzdHJva2UiOiB0cnVlLCAid2VpZ2h0IjogM30KICAgICAgICAgICAgKS5hZGRUbyhtYXBfYTQ4ODlmYjgwYjVlNGVmOWE3YjNkZDA0ZmFjYzA4YWMpOwogICAgICAgIAogICAgCiAgICAgICAgdmFyIHBvcHVwXzU4NzBjYThjNjhiMDQxMjE4MTNmNjA3NDQ4MmQ0YzRlID0gTC5wb3B1cCh7Im1heFdpZHRoIjogIjEwMCUifSk7CgogICAgICAgIAogICAgICAgICAgICB2YXIgaHRtbF84ZDllNTEyNWUwYjM0ZmM3OWViNzIyMjNjMjk2OTZlMiA9ICQoYDxkaXYgaWQ9Imh0bWxfOGQ5ZTUxMjVlMGIzNGZjNzllYjcyMjIzYzI5Njk2ZTIiIHN0eWxlPSJ3aWR0aDogMTAwLjAlOyBoZWlnaHQ6IDEwMC4wJTsiPkxlYXNpZGUsIEVhc3QgWW9yazwvZGl2PmApWzBdOwogICAgICAgICAgICBwb3B1cF81ODcwY2E4YzY4YjA0MTIxODEzZjYwNzQ0ODJkNGM0ZS5zZXRDb250ZW50KGh0bWxfOGQ5ZTUxMjVlMGIzNGZjNzllYjcyMjIzYzI5Njk2ZTIpOwogICAgICAgIAoKICAgICAgICBjaXJjbGVfbWFya2VyXzQ3ODYyNjE4Mjg0NTQ4OTViNGVhMmM3Yzc1YWUyMWEwLmJpbmRQb3B1cChwb3B1cF81ODcwY2E4YzY4YjA0MTIxODEzZjYwNzQ0ODJkNGM0ZSkKICAgICAgICA7CgogICAgICAgIAogICAgCiAgICAKICAgICAgICAgICAgdmFyIGNpcmNsZV9tYXJrZXJfYTY4MWU5YzZkOTJkNDJkNjgwMTU1YTkyMTA1MTBkZWUgPSBMLmNpcmNsZU1hcmtlcigKICAgICAgICAgICAgICAgIFs0My42NTc5NTI0LCAtNzkuMzg3MzgyNl0sCiAgICAgICAgICAgICAgICB7ImJ1YmJsaW5nTW91c2VFdmVudHMiOiB0cnVlLCAiY29sb3IiOiAiYmx1ZSIsICJkYXNoQXJyYXkiOiBudWxsLCAiZGFzaE9mZnNldCI6IG51bGwsICJmaWxsIjogdHJ1ZSwgImZpbGxDb2xvciI6ICIjMzE4NmNjIiwgImZpbGxPcGFjaXR5IjogMC43LCAiZmlsbFJ1bGUiOiAiZXZlbm9kZCIsICJsaW5lQ2FwIjogInJvdW5kIiwgImxpbmVKb2luIjogInJvdW5kIiwgIm9wYWNpdHkiOiAxLjAsICJyYWRpdXMiOiA1LCAic3Ryb2tlIjogdHJ1ZSwgIndlaWdodCI6IDN9CiAgICAgICAgICAgICkuYWRkVG8obWFwX2E0ODg5ZmI4MGI1ZTRlZjlhN2IzZGQwNGZhY2MwOGFjKTsKICAgICAgICAKICAgIAogICAgICAgIHZhciBwb3B1cF8xNzk1ZDlhMDI4YTY0YWFkOTYyZWQ0ZjFmMjU4MmIwNSA9IEwucG9wdXAoeyJtYXhXaWR0aCI6ICIxMDAlIn0pOwoKICAgICAgICAKICAgICAgICAgICAgdmFyIGh0bWxfYjAzMjY3MTRkNDc0NDY4Mzk0MzAzNjExYzA0MDdmNjIgPSAkKGA8ZGl2IGlkPSJodG1sX2IwMzI2NzE0ZDQ3NDQ2ODM5NDMwMzYxMWMwNDA3ZjYyIiBzdHlsZT0id2lkdGg6IDEwMC4wJTsgaGVpZ2h0OiAxMDAuMCU7Ij5DZW50cmFsIEJheSBTdHJlZXQsIERvd250b3duIFRvcm9udG88L2Rpdj5gKVswXTsKICAgICAgICAgICAgcG9wdXBfMTc5NWQ5YTAyOGE2NGFhZDk2MmVkNGYxZjI1ODJiMDUuc2V0Q29udGVudChodG1sX2IwMzI2NzE0ZDQ3NDQ2ODM5NDMwMzYxMWMwNDA3ZjYyKTsKICAgICAgICAKCiAgICAgICAgY2lyY2xlX21hcmtlcl9hNjgxZTljNmQ5MmQ0MmQ2ODAxNTVhOTIxMDUxMGRlZS5iaW5kUG9wdXAocG9wdXBfMTc5NWQ5YTAyOGE2NGFhZDk2MmVkNGYxZjI1ODJiMDUpCiAgICAgICAgOwoKICAgICAgICAKICAgIAogICAgCiAgICAgICAgICAgIHZhciBjaXJjbGVfbWFya2VyXzg4ZTBmZTdlYmQ2MDQ4Y2JhZDZiMmE4N2NmOTk0YTc2ID0gTC5jaXJjbGVNYXJrZXIoCiAgICAgICAgICAgICAgICBbNDMuNjY5NTQyLCAtNzkuNDIyNTYzN10sCiAgICAgICAgICAgICAgICB7ImJ1YmJsaW5nTW91c2VFdmVudHMiOiB0cnVlLCAiY29sb3IiOiAiYmx1ZSIsICJkYXNoQXJyYXkiOiBudWxsLCAiZGFzaE9mZnNldCI6IG51bGwsICJmaWxsIjogdHJ1ZSwgImZpbGxDb2xvciI6ICIjMzE4NmNjIiwgImZpbGxPcGFjaXR5IjogMC43LCAiZmlsbFJ1bGUiOiAiZXZlbm9kZCIsICJsaW5lQ2FwIjogInJvdW5kIiwgImxpbmVKb2luIjogInJvdW5kIiwgIm9wYWNpdHkiOiAxLjAsICJyYWRpdXMiOiA1LCAic3Ryb2tlIjogdHJ1ZSwgIndlaWdodCI6IDN9CiAgICAgICAgICAgICkuYWRkVG8obWFwX2E0ODg5ZmI4MGI1ZTRlZjlhN2IzZGQwNGZhY2MwOGFjKTsKICAgICAgICAKICAgIAogICAgICAgIHZhciBwb3B1cF8wNzMyYzAyMmE1N2Y0YzBmYTYzZjUyMGVkYjFmOThhYiA9IEwucG9wdXAoeyJtYXhXaWR0aCI6ICIxMDAlIn0pOwoKICAgICAgICAKICAgICAgICAgICAgdmFyIGh0bWxfMTk0OTVjNWFlNDdmNDBkMWJlMjZiMGFiNzc1NzkwMGIgPSAkKGA8ZGl2IGlkPSJodG1sXzE5NDk1YzVhZTQ3ZjQwZDFiZTI2YjBhYjc3NTc5MDBiIiBzdHlsZT0id2lkdGg6IDEwMC4wJTsgaGVpZ2h0OiAxMDAuMCU7Ij5DaHJpc3RpZSwgRG93bnRvd24gVG9yb250bzwvZGl2PmApWzBdOwogICAgICAgICAgICBwb3B1cF8wNzMyYzAyMmE1N2Y0YzBmYTYzZjUyMGVkYjFmOThhYi5zZXRDb250ZW50KGh0bWxfMTk0OTVjNWFlNDdmNDBkMWJlMjZiMGFiNzc1NzkwMGIpOwogICAgICAgIAoKICAgICAgICBjaXJjbGVfbWFya2VyXzg4ZTBmZTdlYmQ2MDQ4Y2JhZDZiMmE4N2NmOTk0YTc2LmJpbmRQb3B1cChwb3B1cF8wNzMyYzAyMmE1N2Y0YzBmYTYzZjUyMGVkYjFmOThhYikKICAgICAgICA7CgogICAgICAgIAogICAgCiAgICAKICAgICAgICAgICAgdmFyIGNpcmNsZV9tYXJrZXJfM2YwOGQ2ODEzZjdmNDZlMWI5NzE2MDU0YTRjYmMyMDIgPSBMLmNpcmNsZU1hcmtlcigKICAgICAgICAgICAgICAgIFs0My43NzMxMzYsIC03OS4yMzk0NzYwOTk5OTk5OV0sCiAgICAgICAgICAgICAgICB7ImJ1YmJsaW5nTW91c2VFdmVudHMiOiB0cnVlLCAiY29sb3IiOiAiYmx1ZSIsICJkYXNoQXJyYXkiOiBudWxsLCAiZGFzaE9mZnNldCI6IG51bGwsICJmaWxsIjogdHJ1ZSwgImZpbGxDb2xvciI6ICIjMzE4NmNjIiwgImZpbGxPcGFjaXR5IjogMC43LCAiZmlsbFJ1bGUiOiAiZXZlbm9kZCIsICJsaW5lQ2FwIjogInJvdW5kIiwgImxpbmVKb2luIjogInJvdW5kIiwgIm9wYWNpdHkiOiAxLjAsICJyYWRpdXMiOiA1LCAic3Ryb2tlIjogdHJ1ZSwgIndlaWdodCI6IDN9CiAgICAgICAgICAgICkuYWRkVG8obWFwX2E0ODg5ZmI4MGI1ZTRlZjlhN2IzZGQwNGZhY2MwOGFjKTsKICAgICAgICAKICAgIAogICAgICAgIHZhciBwb3B1cF8yYTZiMjZhNjA1MWM0ZGM2ODk1ZmRkNThhODI1YWNkNyA9IEwucG9wdXAoeyJtYXhXaWR0aCI6ICIxMDAlIn0pOwoKICAgICAgICAKICAgICAgICAgICAgdmFyIGh0bWxfMGJkNDY1Yzc5NzFiNGQ5YzhlNTM0YWNhYzIyNTU4MDYgPSAkKGA8ZGl2IGlkPSJodG1sXzBiZDQ2NWM3OTcxYjRkOWM4ZTUzNGFjYWMyMjU1ODA2IiBzdHlsZT0id2lkdGg6IDEwMC4wJTsgaGVpZ2h0OiAxMDAuMCU7Ij5DZWRhcmJyYWUsIFNjYXJib3JvdWdoPC9kaXY+YClbMF07CiAgICAgICAgICAgIHBvcHVwXzJhNmIyNmE2MDUxYzRkYzY4OTVmZGQ1OGE4MjVhY2Q3LnNldENvbnRlbnQoaHRtbF8wYmQ0NjVjNzk3MWI0ZDljOGU1MzRhY2FjMjI1NTgwNik7CiAgICAgICAgCgogICAgICAgIGNpcmNsZV9tYXJrZXJfM2YwOGQ2ODEzZjdmNDZlMWI5NzE2MDU0YTRjYmMyMDIuYmluZFBvcHVwKHBvcHVwXzJhNmIyNmE2MDUxYzRkYzY4OTVmZGQ1OGE4MjVhY2Q3KQogICAgICAgIDsKCiAgICAgICAgCiAgICAKICAgIAogICAgICAgICAgICB2YXIgY2lyY2xlX21hcmtlcl9hODZlMjEyZTQyYTE0MjhkYWRiYmMxNmQ4MDllNGZkNiA9IEwuY2lyY2xlTWFya2VyKAogICAgICAgICAgICAgICAgWzQzLjgwMzc2MjIsIC03OS4zNjM0NTE3XSwKICAgICAgICAgICAgICAgIHsiYnViYmxpbmdNb3VzZUV2ZW50cyI6IHRydWUsICJjb2xvciI6ICJibHVlIiwgImRhc2hBcnJheSI6IG51bGwsICJkYXNoT2Zmc2V0IjogbnVsbCwgImZpbGwiOiB0cnVlLCAiZmlsbENvbG9yIjogIiMzMTg2Y2MiLCAiZmlsbE9wYWNpdHkiOiAwLjcsICJmaWxsUnVsZSI6ICJldmVub2RkIiwgImxpbmVDYXAiOiAicm91bmQiLCAibGluZUpvaW4iOiAicm91bmQiLCAib3BhY2l0eSI6IDEuMCwgInJhZGl1cyI6IDUsICJzdHJva2UiOiB0cnVlLCAid2VpZ2h0IjogM30KICAgICAgICAgICAgKS5hZGRUbyhtYXBfYTQ4ODlmYjgwYjVlNGVmOWE3YjNkZDA0ZmFjYzA4YWMpOwogICAgICAgIAogICAgCiAgICAgICAgdmFyIHBvcHVwX2Y0ZDBiNjNhZDg5MTRhZWM4NTllMWYyYzhkN2UzZTFhID0gTC5wb3B1cCh7Im1heFdpZHRoIjogIjEwMCUifSk7CgogICAgICAgIAogICAgICAgICAgICB2YXIgaHRtbF9iN2NkYmNlNzE2ZjM0ZTBhODIzMzE4ZTlmOTRmZjg5ZiA9ICQoYDxkaXYgaWQ9Imh0bWxfYjdjZGJjZTcxNmYzNGUwYTgyMzMxOGU5Zjk0ZmY4OWYiIHN0eWxlPSJ3aWR0aDogMTAwLjAlOyBoZWlnaHQ6IDEwMC4wJTsiPkhpbGxjcmVzdCBWaWxsYWdlLCBOb3J0aCBZb3JrPC9kaXY+YClbMF07CiAgICAgICAgICAgIHBvcHVwX2Y0ZDBiNjNhZDg5MTRhZWM4NTllMWYyYzhkN2UzZTFhLnNldENvbnRlbnQoaHRtbF9iN2NkYmNlNzE2ZjM0ZTBhODIzMzE4ZTlmOTRmZjg5Zik7CiAgICAgICAgCgogICAgICAgIGNpcmNsZV9tYXJrZXJfYTg2ZTIxMmU0MmExNDI4ZGFkYmJjMTZkODA5ZTRmZDYuYmluZFBvcHVwKHBvcHVwX2Y0ZDBiNjNhZDg5MTRhZWM4NTllMWYyYzhkN2UzZTFhKQogICAgICAgIDsKCiAgICAgICAgCiAgICAKICAgIAogICAgICAgICAgICB2YXIgY2lyY2xlX21hcmtlcl8wN2Q1NDc2NWI1ODI0MWMxYmE2Y2MwMjkyMWE2NzcwMSA9IEwuY2lyY2xlTWFya2VyKAogICAgICAgICAgICAgICAgWzQzLjc1NDMyODMsIC03OS40NDIyNTkzXSwKICAgICAgICAgICAgICAgIHsiYnViYmxpbmdNb3VzZUV2ZW50cyI6IHRydWUsICJjb2xvciI6ICJibHVlIiwgImRhc2hBcnJheSI6IG51bGwsICJkYXNoT2Zmc2V0IjogbnVsbCwgImZpbGwiOiB0cnVlLCAiZmlsbENvbG9yIjogIiMzMTg2Y2MiLCAiZmlsbE9wYWNpdHkiOiAwLjcsICJmaWxsUnVsZSI6ICJldmVub2RkIiwgImxpbmVDYXAiOiAicm91bmQiLCAibGluZUpvaW4iOiAicm91bmQiLCAib3BhY2l0eSI6IDEuMCwgInJhZGl1cyI6IDUsICJzdHJva2UiOiB0cnVlLCAid2VpZ2h0IjogM30KICAgICAgICAgICAgKS5hZGRUbyhtYXBfYTQ4ODlmYjgwYjVlNGVmOWE3YjNkZDA0ZmFjYzA4YWMpOwogICAgICAgIAogICAgCiAgICAgICAgdmFyIHBvcHVwX2Q0MGI4MmIxYjVhNTQ1NjJiYTA2ZGIyODQyZWIxMTFjID0gTC5wb3B1cCh7Im1heFdpZHRoIjogIjEwMCUifSk7CgogICAgICAgIAogICAgICAgICAgICB2YXIgaHRtbF85OTk1N2JiZDQ5ODA0MTAzYTRmNTFjMmMxZDk1NDg5OCA9ICQoYDxkaXYgaWQ9Imh0bWxfOTk5NTdiYmQ0OTgwNDEwM2E0ZjUxYzJjMWQ5NTQ4OTgiIHN0eWxlPSJ3aWR0aDogMTAwLjAlOyBoZWlnaHQ6IDEwMC4wJTsiPkJhdGh1cnN0IE1hbm9yLCBXaWxzb24gSGVpZ2h0cywgRG93bnN2aWV3IE5vcnRoLCBOb3J0aCBZb3JrPC9kaXY+YClbMF07CiAgICAgICAgICAgIHBvcHVwX2Q0MGI4MmIxYjVhNTQ1NjJiYTA2ZGIyODQyZWIxMTFjLnNldENvbnRlbnQoaHRtbF85OTk1N2JiZDQ5ODA0MTAzYTRmNTFjMmMxZDk1NDg5OCk7CiAgICAgICAgCgogICAgICAgIGNpcmNsZV9tYXJrZXJfMDdkNTQ3NjViNTgyNDFjMWJhNmNjMDI5MjFhNjc3MDEuYmluZFBvcHVwKHBvcHVwX2Q0MGI4MmIxYjVhNTQ1NjJiYTA2ZGIyODQyZWIxMTFjKQogICAgICAgIDsKCiAgICAgICAgCiAgICAKICAgIAogICAgICAgICAgICB2YXIgY2lyY2xlX21hcmtlcl9mOWFlZTUxNjU4OTI0NWJhYmU2Y2I1MmZlZmEwOWE4NiA9IEwuY2lyY2xlTWFya2VyKAogICAgICAgICAgICAgICAgWzQzLjcwNTM2ODksIC03OS4zNDkzNzE5MDAwMDAwMV0sCiAgICAgICAgICAgICAgICB7ImJ1YmJsaW5nTW91c2VFdmVudHMiOiB0cnVlLCAiY29sb3IiOiAiYmx1ZSIsICJkYXNoQXJyYXkiOiBudWxsLCAiZGFzaE9mZnNldCI6IG51bGwsICJmaWxsIjogdHJ1ZSwgImZpbGxDb2xvciI6ICIjMzE4NmNjIiwgImZpbGxPcGFjaXR5IjogMC43LCAiZmlsbFJ1bGUiOiAiZXZlbm9kZCIsICJsaW5lQ2FwIjogInJvdW5kIiwgImxpbmVKb2luIjogInJvdW5kIiwgIm9wYWNpdHkiOiAxLjAsICJyYWRpdXMiOiA1LCAic3Ryb2tlIjogdHJ1ZSwgIndlaWdodCI6IDN9CiAgICAgICAgICAgICkuYWRkVG8obWFwX2E0ODg5ZmI4MGI1ZTRlZjlhN2IzZGQwNGZhY2MwOGFjKTsKICAgICAgICAKICAgIAogICAgICAgIHZhciBwb3B1cF9mN2IzODg5OTU2MGY0MjkwYTNhYjI1YjI2ZjBiNjlhOSA9IEwucG9wdXAoeyJtYXhXaWR0aCI6ICIxMDAlIn0pOwoKICAgICAgICAKICAgICAgICAgICAgdmFyIGh0bWxfYTkwYTU4NzRjNmU1NGMwYjlkZWU2ODNlMGExNmQxMWIgPSAkKGA8ZGl2IGlkPSJodG1sX2E5MGE1ODc0YzZlNTRjMGI5ZGVlNjgzZTBhMTZkMTFiIiBzdHlsZT0id2lkdGg6IDEwMC4wJTsgaGVpZ2h0OiAxMDAuMCU7Ij5UaG9ybmNsaWZmZSBQYXJrLCBFYXN0IFlvcms8L2Rpdj5gKVswXTsKICAgICAgICAgICAgcG9wdXBfZjdiMzg4OTk1NjBmNDI5MGEzYWIyNWIyNmYwYjY5YTkuc2V0Q29udGVudChodG1sX2E5MGE1ODc0YzZlNTRjMGI5ZGVlNjgzZTBhMTZkMTFiKTsKICAgICAgICAKCiAgICAgICAgY2lyY2xlX21hcmtlcl9mOWFlZTUxNjU4OTI0NWJhYmU2Y2I1MmZlZmEwOWE4Ni5iaW5kUG9wdXAocG9wdXBfZjdiMzg4OTk1NjBmNDI5MGEzYWIyNWIyNmYwYjY5YTkpCiAgICAgICAgOwoKICAgICAgICAKICAgIAogICAgCiAgICAgICAgICAgIHZhciBjaXJjbGVfbWFya2VyXzAxM2ZjMjc1NDEzNzRiNmFiNTUyNDc1ZTE5ZmRjYThlID0gTC5jaXJjbGVNYXJrZXIoCiAgICAgICAgICAgICAgICBbNDMuNjUwNTcxMjAwMDAwMDEsIC03OS4zODQ1Njc1XSwKICAgICAgICAgICAgICAgIHsiYnViYmxpbmdNb3VzZUV2ZW50cyI6IHRydWUsICJjb2xvciI6ICJibHVlIiwgImRhc2hBcnJheSI6IG51bGwsICJkYXNoT2Zmc2V0IjogbnVsbCwgImZpbGwiOiB0cnVlLCAiZmlsbENvbG9yIjogIiMzMTg2Y2MiLCAiZmlsbE9wYWNpdHkiOiAwLjcsICJmaWxsUnVsZSI6ICJldmVub2RkIiwgImxpbmVDYXAiOiAicm91bmQiLCAibGluZUpvaW4iOiAicm91bmQiLCAib3BhY2l0eSI6IDEuMCwgInJhZGl1cyI6IDUsICJzdHJva2UiOiB0cnVlLCAid2VpZ2h0IjogM30KICAgICAgICAgICAgKS5hZGRUbyhtYXBfYTQ4ODlmYjgwYjVlNGVmOWE3YjNkZDA0ZmFjYzA4YWMpOwogICAgICAgIAogICAgCiAgICAgICAgdmFyIHBvcHVwX2ZkZjc2MWI3ZjU0NTRiYzI5MzYwNDQwZjgxMjEyYTg5ID0gTC5wb3B1cCh7Im1heFdpZHRoIjogIjEwMCUifSk7CgogICAgICAgIAogICAgICAgICAgICB2YXIgaHRtbF9jZjdlZGVhNDVlY2U0MGJjOTcxZWZmZWRiZDQyMzkwNCA9ICQoYDxkaXYgaWQ9Imh0bWxfY2Y3ZWRlYTQ1ZWNlNDBiYzk3MWVmZmVkYmQ0MjM5MDQiIHN0eWxlPSJ3aWR0aDogMTAwLjAlOyBoZWlnaHQ6IDEwMC4wJTsiPlJpY2htb25kLCBBZGVsYWlkZSwgS2luZywgRG93bnRvd24gVG9yb250bzwvZGl2PmApWzBdOwogICAgICAgICAgICBwb3B1cF9mZGY3NjFiN2Y1NDU0YmMyOTM2MDQ0MGY4MTIxMmE4OS5zZXRDb250ZW50KGh0bWxfY2Y3ZWRlYTQ1ZWNlNDBiYzk3MWVmZmVkYmQ0MjM5MDQpOwogICAgICAgIAoKICAgICAgICBjaXJjbGVfbWFya2VyXzAxM2ZjMjc1NDEzNzRiNmFiNTUyNDc1ZTE5ZmRjYThlLmJpbmRQb3B1cChwb3B1cF9mZGY3NjFiN2Y1NDU0YmMyOTM2MDQ0MGY4MTIxMmE4OSkKICAgICAgICA7CgogICAgICAgIAogICAgCiAgICAKICAgICAgICAgICAgdmFyIGNpcmNsZV9tYXJrZXJfNzdjMWI4MDE4ZGU0NGVlZWFhYWY0ODRkNDA5ZjA2NmUgPSBMLmNpcmNsZU1hcmtlcigKICAgICAgICAgICAgICAgIFs0My42NjkwMDUxMDAwMDAwMSwgLTc5LjQ0MjI1OTNdLAogICAgICAgICAgICAgICAgeyJidWJibGluZ01vdXNlRXZlbnRzIjogdHJ1ZSwgImNvbG9yIjogImJsdWUiLCAiZGFzaEFycmF5IjogbnVsbCwgImRhc2hPZmZzZXQiOiBudWxsLCAiZmlsbCI6IHRydWUsICJmaWxsQ29sb3IiOiAiIzMxODZjYyIsICJmaWxsT3BhY2l0eSI6IDAuNywgImZpbGxSdWxlIjogImV2ZW5vZGQiLCAibGluZUNhcCI6ICJyb3VuZCIsICJsaW5lSm9pbiI6ICJyb3VuZCIsICJvcGFjaXR5IjogMS4wLCAicmFkaXVzIjogNSwgInN0cm9rZSI6IHRydWUsICJ3ZWlnaHQiOiAzfQogICAgICAgICAgICApLmFkZFRvKG1hcF9hNDg4OWZiODBiNWU0ZWY5YTdiM2RkMDRmYWNjMDhhYyk7CiAgICAgICAgCiAgICAKICAgICAgICB2YXIgcG9wdXBfNTgwOGE2NWIzYWNjNDYzYThlMTFhODM1ZGVkZDY2ZmYgPSBMLnBvcHVwKHsibWF4V2lkdGgiOiAiMTAwJSJ9KTsKCiAgICAgICAgCiAgICAgICAgICAgIHZhciBodG1sXzdjOTgxOGM5NWRmMTRkMjg4YjE1OWU5NDg0ZTNhZmJlID0gJChgPGRpdiBpZD0iaHRtbF83Yzk4MThjOTVkZjE0ZDI4OGIxNTllOTQ4NGUzYWZiZSIgc3R5bGU9IndpZHRoOiAxMDAuMCU7IGhlaWdodDogMTAwLjAlOyI+RHVmZmVyaW4sIERvdmVyY291cnQgVmlsbGFnZSwgV2VzdCBUb3JvbnRvPC9kaXY+YClbMF07CiAgICAgICAgICAgIHBvcHVwXzU4MDhhNjViM2FjYzQ2M2E4ZTExYTgzNWRlZGQ2NmZmLnNldENvbnRlbnQoaHRtbF83Yzk4MThjOTVkZjE0ZDI4OGIxNTllOTQ4NGUzYWZiZSk7CiAgICAgICAgCgogICAgICAgIGNpcmNsZV9tYXJrZXJfNzdjMWI4MDE4ZGU0NGVlZWFhYWY0ODRkNDA5ZjA2NmUuYmluZFBvcHVwKHBvcHVwXzU4MDhhNjViM2FjYzQ2M2E4ZTExYTgzNWRlZGQ2NmZmKQogICAgICAgIDsKCiAgICAgICAgCiAgICAKICAgIAogICAgICAgICAgICB2YXIgY2lyY2xlX21hcmtlcl84ZTI2MzI1MDhmY2Q0MmU0YThjMDk3MjlhNDliZDk2OSA9IEwuY2lyY2xlTWFya2VyKAogICAgICAgICAgICAgICAgWzQzLjc0NDczNDIsIC03OS4yMzk0NzYwOTk5OTk5OV0sCiAgICAgICAgICAgICAgICB7ImJ1YmJsaW5nTW91c2VFdmVudHMiOiB0cnVlLCAiY29sb3IiOiAiYmx1ZSIsICJkYXNoQXJyYXkiOiBudWxsLCAiZGFzaE9mZnNldCI6IG51bGwsICJmaWxsIjogdHJ1ZSwgImZpbGxDb2xvciI6ICIjMzE4NmNjIiwgImZpbGxPcGFjaXR5IjogMC43LCAiZmlsbFJ1bGUiOiAiZXZlbm9kZCIsICJsaW5lQ2FwIjogInJvdW5kIiwgImxpbmVKb2luIjogInJvdW5kIiwgIm9wYWNpdHkiOiAxLjAsICJyYWRpdXMiOiA1LCAic3Ryb2tlIjogdHJ1ZSwgIndlaWdodCI6IDN9CiAgICAgICAgICAgICkuYWRkVG8obWFwX2E0ODg5ZmI4MGI1ZTRlZjlhN2IzZGQwNGZhY2MwOGFjKTsKICAgICAgICAKICAgIAogICAgICAgIHZhciBwb3B1cF85Y2RlNWI2ZmIwY2I0YzE1YmE2ZTNhOWEzZTA1MGU0OCA9IEwucG9wdXAoeyJtYXhXaWR0aCI6ICIxMDAlIn0pOwoKICAgICAgICAKICAgICAgICAgICAgdmFyIGh0bWxfNjJjNzFiMGRjMzMyNDNiNGExNzI2MTMyMzFkYTdiMDMgPSAkKGA8ZGl2IGlkPSJodG1sXzYyYzcxYjBkYzMzMjQzYjRhMTcyNjEzMjMxZGE3YjAzIiBzdHlsZT0id2lkdGg6IDEwMC4wJTsgaGVpZ2h0OiAxMDAuMCU7Ij5TY2FyYm9yb3VnaCBWaWxsYWdlLCBTY2FyYm9yb3VnaDwvZGl2PmApWzBdOwogICAgICAgICAgICBwb3B1cF85Y2RlNWI2ZmIwY2I0YzE1YmE2ZTNhOWEzZTA1MGU0OC5zZXRDb250ZW50KGh0bWxfNjJjNzFiMGRjMzMyNDNiNGExNzI2MTMyMzFkYTdiMDMpOwogICAgICAgIAoKICAgICAgICBjaXJjbGVfbWFya2VyXzhlMjYzMjUwOGZjZDQyZTRhOGMwOTcyOWE0OWJkOTY5LmJpbmRQb3B1cChwb3B1cF85Y2RlNWI2ZmIwY2I0YzE1YmE2ZTNhOWEzZTA1MGU0OCkKICAgICAgICA7CgogICAgICAgIAogICAgCiAgICAKICAgICAgICAgICAgdmFyIGNpcmNsZV9tYXJrZXJfODQ3ODJiZjIyMWQ4NDJlMThkNzcyODM4M2QwZDhlMDAgPSBMLmNpcmNsZU1hcmtlcigKICAgICAgICAgICAgICAgIFs0My43Nzg1MTc1LCAtNzkuMzQ2NTU1N10sCiAgICAgICAgICAgICAgICB7ImJ1YmJsaW5nTW91c2VFdmVudHMiOiB0cnVlLCAiY29sb3IiOiAiYmx1ZSIsICJkYXNoQXJyYXkiOiBudWxsLCAiZGFzaE9mZnNldCI6IG51bGwsICJmaWxsIjogdHJ1ZSwgImZpbGxDb2xvciI6ICIjMzE4NmNjIiwgImZpbGxPcGFjaXR5IjogMC43LCAiZmlsbFJ1bGUiOiAiZXZlbm9kZCIsICJsaW5lQ2FwIjogInJvdW5kIiwgImxpbmVKb2luIjogInJvdW5kIiwgIm9wYWNpdHkiOiAxLjAsICJyYWRpdXMiOiA1LCAic3Ryb2tlIjogdHJ1ZSwgIndlaWdodCI6IDN9CiAgICAgICAgICAgICkuYWRkVG8obWFwX2E0ODg5ZmI4MGI1ZTRlZjlhN2IzZGQwNGZhY2MwOGFjKTsKICAgICAgICAKICAgIAogICAgICAgIHZhciBwb3B1cF83YmI0OWFmNjVjN2U0MGI0OTUzYWVlODJmMTI3ZjI4YiA9IEwucG9wdXAoeyJtYXhXaWR0aCI6ICIxMDAlIn0pOwoKICAgICAgICAKICAgICAgICAgICAgdmFyIGh0bWxfYTRmMDkyYTAxNDJlNGNhZmFiMWVlYWM4ZmJhYTRmZjcgPSAkKGA8ZGl2IGlkPSJodG1sX2E0ZjA5MmEwMTQyZTRjYWZhYjFlZWFjOGZiYWE0ZmY3IiBzdHlsZT0id2lkdGg6IDEwMC4wJTsgaGVpZ2h0OiAxMDAuMCU7Ij5GYWlydmlldywgSGVucnkgRmFybSwgT3Jpb2xlLCBOb3J0aCBZb3JrPC9kaXY+YClbMF07CiAgICAgICAgICAgIHBvcHVwXzdiYjQ5YWY2NWM3ZTQwYjQ5NTNhZWU4MmYxMjdmMjhiLnNldENvbnRlbnQoaHRtbF9hNGYwOTJhMDE0MmU0Y2FmYWIxZWVhYzhmYmFhNGZmNyk7CiAgICAgICAgCgogICAgICAgIGNpcmNsZV9tYXJrZXJfODQ3ODJiZjIyMWQ4NDJlMThkNzcyODM4M2QwZDhlMDAuYmluZFBvcHVwKHBvcHVwXzdiYjQ5YWY2NWM3ZTQwYjQ5NTNhZWU4MmYxMjdmMjhiKQogICAgICAgIDsKCiAgICAgICAgCiAgICAKICAgIAogICAgICAgICAgICB2YXIgY2lyY2xlX21hcmtlcl85YmQwOTRiNjE3OGQ0NzkxYTFjOTU2YjRkYmEyZmU0MCA9IEwuY2lyY2xlTWFya2VyKAogICAgICAgICAgICAgICAgWzQzLjc2Nzk4MDMsIC03OS40ODcyNjE5MDAwMDAwMV0sCiAgICAgICAgICAgICAgICB7ImJ1YmJsaW5nTW91c2VFdmVudHMiOiB0cnVlLCAiY29sb3IiOiAiYmx1ZSIsICJkYXNoQXJyYXkiOiBudWxsLCAiZGFzaE9mZnNldCI6IG51bGwsICJmaWxsIjogdHJ1ZSwgImZpbGxDb2xvciI6ICIjMzE4NmNjIiwgImZpbGxPcGFjaXR5IjogMC43LCAiZmlsbFJ1bGUiOiAiZXZlbm9kZCIsICJsaW5lQ2FwIjogInJvdW5kIiwgImxpbmVKb2luIjogInJvdW5kIiwgIm9wYWNpdHkiOiAxLjAsICJyYWRpdXMiOiA1LCAic3Ryb2tlIjogdHJ1ZSwgIndlaWdodCI6IDN9CiAgICAgICAgICAgICkuYWRkVG8obWFwX2E0ODg5ZmI4MGI1ZTRlZjlhN2IzZGQwNGZhY2MwOGFjKTsKICAgICAgICAKICAgIAogICAgICAgIHZhciBwb3B1cF8zY2FhYzRkMmEzMmQ0ZTc1YjJlYzAxNzNjZTEwNGY2ZSA9IEwucG9wdXAoeyJtYXhXaWR0aCI6ICIxMDAlIn0pOwoKICAgICAgICAKICAgICAgICAgICAgdmFyIGh0bWxfMmFhOTEwNmIxZWYwNGY1MThkN2RiYmM2MDNlYmQ4M2IgPSAkKGA8ZGl2IGlkPSJodG1sXzJhYTkxMDZiMWVmMDRmNTE4ZDdkYmJjNjAzZWJkODNiIiBzdHlsZT0id2lkdGg6IDEwMC4wJTsgaGVpZ2h0OiAxMDAuMCU7Ij5Ob3J0aHdvb2QgUGFyaywgWW9yayBVbml2ZXJzaXR5LCBOb3J0aCBZb3JrPC9kaXY+YClbMF07CiAgICAgICAgICAgIHBvcHVwXzNjYWFjNGQyYTMyZDRlNzViMmVjMDE3M2NlMTA0ZjZlLnNldENvbnRlbnQoaHRtbF8yYWE5MTA2YjFlZjA0ZjUxOGQ3ZGJiYzYwM2ViZDgzYik7CiAgICAgICAgCgogICAgICAgIGNpcmNsZV9tYXJrZXJfOWJkMDk0YjYxNzhkNDc5MWExYzk1NmI0ZGJhMmZlNDAuYmluZFBvcHVwKHBvcHVwXzNjYWFjNGQyYTMyZDRlNzViMmVjMDE3M2NlMTA0ZjZlKQogICAgICAgIDsKCiAgICAgICAgCiAgICAKICAgIAogICAgICAgICAgICB2YXIgY2lyY2xlX21hcmtlcl9iMWQwOGFjZjdlYjA0MmQ3YmM0YTA5YmZkNmNlNTI5ZCA9IEwuY2lyY2xlTWFya2VyKAogICAgICAgICAgICAgICAgWzQzLjY4NTM0NywgLTc5LjMzODEwNjVdLAogICAgICAgICAgICAgICAgeyJidWJibGluZ01vdXNlRXZlbnRzIjogdHJ1ZSwgImNvbG9yIjogImJsdWUiLCAiZGFzaEFycmF5IjogbnVsbCwgImRhc2hPZmZzZXQiOiBudWxsLCAiZmlsbCI6IHRydWUsICJmaWxsQ29sb3IiOiAiIzMxODZjYyIsICJmaWxsT3BhY2l0eSI6IDAuNywgImZpbGxSdWxlIjogImV2ZW5vZGQiLCAibGluZUNhcCI6ICJyb3VuZCIsICJsaW5lSm9pbiI6ICJyb3VuZCIsICJvcGFjaXR5IjogMS4wLCAicmFkaXVzIjogNSwgInN0cm9rZSI6IHRydWUsICJ3ZWlnaHQiOiAzfQogICAgICAgICAgICApLmFkZFRvKG1hcF9hNDg4OWZiODBiNWU0ZWY5YTdiM2RkMDRmYWNjMDhhYyk7CiAgICAgICAgCiAgICAKICAgICAgICB2YXIgcG9wdXBfZDE1MDkwNzVlYTYyNGJjM2E1ZDUzMThkNzg3MWVmZDUgPSBMLnBvcHVwKHsibWF4V2lkdGgiOiAiMTAwJSJ9KTsKCiAgICAgICAgCiAgICAgICAgICAgIHZhciBodG1sXzdjNmUyZGU2YTQwZDQ0YWZiNmZmM2IxMGQ4YjFjNGM3ID0gJChgPGRpdiBpZD0iaHRtbF83YzZlMmRlNmE0MGQ0NGFmYjZmZjNiMTBkOGIxYzRjNyIgc3R5bGU9IndpZHRoOiAxMDAuMCU7IGhlaWdodDogMTAwLjAlOyI+RWFzdCBUb3JvbnRvLCBCcm9hZHZpZXcgTm9ydGggKE9sZCBFYXN0IFlvcmspLCBFYXN0IFlvcms8L2Rpdj5gKVswXTsKICAgICAgICAgICAgcG9wdXBfZDE1MDkwNzVlYTYyNGJjM2E1ZDUzMThkNzg3MWVmZDUuc2V0Q29udGVudChodG1sXzdjNmUyZGU2YTQwZDQ0YWZiNmZmM2IxMGQ4YjFjNGM3KTsKICAgICAgICAKCiAgICAgICAgY2lyY2xlX21hcmtlcl9iMWQwOGFjZjdlYjA0MmQ3YmM0YTA5YmZkNmNlNTI5ZC5iaW5kUG9wdXAocG9wdXBfZDE1MDkwNzVlYTYyNGJjM2E1ZDUzMThkNzg3MWVmZDUpCiAgICAgICAgOwoKICAgICAgICAKICAgIAogICAgCiAgICAgICAgICAgIHZhciBjaXJjbGVfbWFya2VyXzA1N2Y1MzE2ODM0ZjRiOGJhZDUzYjU1ZWVlNmZiNDZhID0gTC5jaXJjbGVNYXJrZXIoCiAgICAgICAgICAgICAgICBbNDMuNjQwODE1NywgLTc5LjM4MTc1MjI5OTk5OTk5XSwKICAgICAgICAgICAgICAgIHsiYnViYmxpbmdNb3VzZUV2ZW50cyI6IHRydWUsICJjb2xvciI6ICJibHVlIiwgImRhc2hBcnJheSI6IG51bGwsICJkYXNoT2Zmc2V0IjogbnVsbCwgImZpbGwiOiB0cnVlLCAiZmlsbENvbG9yIjogIiMzMTg2Y2MiLCAiZmlsbE9wYWNpdHkiOiAwLjcsICJmaWxsUnVsZSI6ICJldmVub2RkIiwgImxpbmVDYXAiOiAicm91bmQiLCAibGluZUpvaW4iOiAicm91bmQiLCAib3BhY2l0eSI6IDEuMCwgInJhZGl1cyI6IDUsICJzdHJva2UiOiB0cnVlLCAid2VpZ2h0IjogM30KICAgICAgICAgICAgKS5hZGRUbyhtYXBfYTQ4ODlmYjgwYjVlNGVmOWE3YjNkZDA0ZmFjYzA4YWMpOwogICAgICAgIAogICAgCiAgICAgICAgdmFyIHBvcHVwXzI4NTBlY2YzMThmMDQ0ZmI5MGE5MzQ2Y2UzN2E3YzM3ID0gTC5wb3B1cCh7Im1heFdpZHRoIjogIjEwMCUifSk7CgogICAgICAgIAogICAgICAgICAgICB2YXIgaHRtbF80MjMwOWEwNDNjNmY0MjIxYmRlMWM4MDQ4OWNkZTkxNiA9ICQoYDxkaXYgaWQ9Imh0bWxfNDIzMDlhMDQzYzZmNDIyMWJkZTFjODA0ODljZGU5MTYiIHN0eWxlPSJ3aWR0aDogMTAwLjAlOyBoZWlnaHQ6IDEwMC4wJTsiPkhhcmJvdXJmcm9udCBFYXN0LCBVbmlvbiBTdGF0aW9uLCBUb3JvbnRvIElzbGFuZHMsIERvd250b3duIFRvcm9udG88L2Rpdj5gKVswXTsKICAgICAgICAgICAgcG9wdXBfMjg1MGVjZjMxOGYwNDRmYjkwYTkzNDZjZTM3YTdjMzcuc2V0Q29udGVudChodG1sXzQyMzA5YTA0M2M2ZjQyMjFiZGUxYzgwNDg5Y2RlOTE2KTsKICAgICAgICAKCiAgICAgICAgY2lyY2xlX21hcmtlcl8wNTdmNTMxNjgzNGY0YjhiYWQ1M2I1NWVlZTZmYjQ2YS5iaW5kUG9wdXAocG9wdXBfMjg1MGVjZjMxOGYwNDRmYjkwYTkzNDZjZTM3YTdjMzcpCiAgICAgICAgOwoKICAgICAgICAKICAgIAogICAgCiAgICAgICAgICAgIHZhciBjaXJjbGVfbWFya2VyXzk1OGNmMjU4NTIyODRkNTU5ZmNiMWIyOTdjZTE4MWI5ID0gTC5jaXJjbGVNYXJrZXIoCiAgICAgICAgICAgICAgICBbNDMuNjQ3OTI2NzAwMDAwMDA2LCAtNzkuNDE5NzQ5N10sCiAgICAgICAgICAgICAgICB7ImJ1YmJsaW5nTW91c2VFdmVudHMiOiB0cnVlLCAiY29sb3IiOiAiYmx1ZSIsICJkYXNoQXJyYXkiOiBudWxsLCAiZGFzaE9mZnNldCI6IG51bGwsICJmaWxsIjogdHJ1ZSwgImZpbGxDb2xvciI6ICIjMzE4NmNjIiwgImZpbGxPcGFjaXR5IjogMC43LCAiZmlsbFJ1bGUiOiAiZXZlbm9kZCIsICJsaW5lQ2FwIjogInJvdW5kIiwgImxpbmVKb2luIjogInJvdW5kIiwgIm9wYWNpdHkiOiAxLjAsICJyYWRpdXMiOiA1LCAic3Ryb2tlIjogdHJ1ZSwgIndlaWdodCI6IDN9CiAgICAgICAgICAgICkuYWRkVG8obWFwX2E0ODg5ZmI4MGI1ZTRlZjlhN2IzZGQwNGZhY2MwOGFjKTsKICAgICAgICAKICAgIAogICAgICAgIHZhciBwb3B1cF83ZWQ2NWRkNTk2Y2M0YjJjYjZkM2I0NmQ2YmE2ZjA0MSA9IEwucG9wdXAoeyJtYXhXaWR0aCI6ICIxMDAlIn0pOwoKICAgICAgICAKICAgICAgICAgICAgdmFyIGh0bWxfMjg5ZTk0ZjJkNmVkNDc1Y2ExNDU5ZmI2ZjYyNDQ0M2YgPSAkKGA8ZGl2IGlkPSJodG1sXzI4OWU5NGYyZDZlZDQ3NWNhMTQ1OWZiNmY2MjQ0NDNmIiBzdHlsZT0id2lkdGg6IDEwMC4wJTsgaGVpZ2h0OiAxMDAuMCU7Ij5MaXR0bGUgUG9ydHVnYWwsIFRyaW5pdHksIFdlc3QgVG9yb250bzwvZGl2PmApWzBdOwogICAgICAgICAgICBwb3B1cF83ZWQ2NWRkNTk2Y2M0YjJjYjZkM2I0NmQ2YmE2ZjA0MS5zZXRDb250ZW50KGh0bWxfMjg5ZTk0ZjJkNmVkNDc1Y2ExNDU5ZmI2ZjYyNDQ0M2YpOwogICAgICAgIAoKICAgICAgICBjaXJjbGVfbWFya2VyXzk1OGNmMjU4NTIyODRkNTU5ZmNiMWIyOTdjZTE4MWI5LmJpbmRQb3B1cChwb3B1cF83ZWQ2NWRkNTk2Y2M0YjJjYjZkM2I0NmQ2YmE2ZjA0MSkKICAgICAgICA7CgogICAgICAgIAogICAgCiAgICAKICAgICAgICAgICAgdmFyIGNpcmNsZV9tYXJrZXJfYWYzYWM5NGFkODg1NDA3ZmJiMGJiMmY5MmQzNmM4MmIgPSBMLmNpcmNsZU1hcmtlcigKICAgICAgICAgICAgICAgIFs0My43Mjc5MjkyLCAtNzkuMjYyMDI5NDAwMDAwMDJdLAogICAgICAgICAgICAgICAgeyJidWJibGluZ01vdXNlRXZlbnRzIjogdHJ1ZSwgImNvbG9yIjogImJsdWUiLCAiZGFzaEFycmF5IjogbnVsbCwgImRhc2hPZmZzZXQiOiBudWxsLCAiZmlsbCI6IHRydWUsICJmaWxsQ29sb3IiOiAiIzMxODZjYyIsICJmaWxsT3BhY2l0eSI6IDAuNywgImZpbGxSdWxlIjogImV2ZW5vZGQiLCAibGluZUNhcCI6ICJyb3VuZCIsICJsaW5lSm9pbiI6ICJyb3VuZCIsICJvcGFjaXR5IjogMS4wLCAicmFkaXVzIjogNSwgInN0cm9rZSI6IHRydWUsICJ3ZWlnaHQiOiAzfQogICAgICAgICAgICApLmFkZFRvKG1hcF9hNDg4OWZiODBiNWU0ZWY5YTdiM2RkMDRmYWNjMDhhYyk7CiAgICAgICAgCiAgICAKICAgICAgICB2YXIgcG9wdXBfMWMwZjU5MWJjYTdmNDU2ZGJkOTFlMGVhZDE2MzllMTMgPSBMLnBvcHVwKHsibWF4V2lkdGgiOiAiMTAwJSJ9KTsKCiAgICAgICAgCiAgICAgICAgICAgIHZhciBodG1sXzA3Njk3MzM5Yzg0MDQ2YmRiMWNjZDI3ZDA2YWQxNjM4ID0gJChgPGRpdiBpZD0iaHRtbF8wNzY5NzMzOWM4NDA0NmJkYjFjY2QyN2QwNmFkMTYzOCIgc3R5bGU9IndpZHRoOiAxMDAuMCU7IGhlaWdodDogMTAwLjAlOyI+S2VubmVkeSBQYXJrLCBJb252aWV3LCBFYXN0IEJpcmNobW91bnQgUGFyaywgU2NhcmJvcm91Z2g8L2Rpdj5gKVswXTsKICAgICAgICAgICAgcG9wdXBfMWMwZjU5MWJjYTdmNDU2ZGJkOTFlMGVhZDE2MzllMTMuc2V0Q29udGVudChodG1sXzA3Njk3MzM5Yzg0MDQ2YmRiMWNjZDI3ZDA2YWQxNjM4KTsKICAgICAgICAKCiAgICAgICAgY2lyY2xlX21hcmtlcl9hZjNhYzk0YWQ4ODU0MDdmYmIwYmIyZjkyZDM2YzgyYi5iaW5kUG9wdXAocG9wdXBfMWMwZjU5MWJjYTdmNDU2ZGJkOTFlMGVhZDE2MzllMTMpCiAgICAgICAgOwoKICAgICAgICAKICAgIAogICAgCiAgICAgICAgICAgIHZhciBjaXJjbGVfbWFya2VyXzU0YWFlN2FjNTQxZTQ1ODJhNDI3ZmJmYzVkNjYwZThhID0gTC5jaXJjbGVNYXJrZXIoCiAgICAgICAgICAgICAgICBbNDMuNzg2OTQ3MywgLTc5LjM4NTk3NV0sCiAgICAgICAgICAgICAgICB7ImJ1YmJsaW5nTW91c2VFdmVudHMiOiB0cnVlLCAiY29sb3IiOiAiYmx1ZSIsICJkYXNoQXJyYXkiOiBudWxsLCAiZGFzaE9mZnNldCI6IG51bGwsICJmaWxsIjogdHJ1ZSwgImZpbGxDb2xvciI6ICIjMzE4NmNjIiwgImZpbGxPcGFjaXR5IjogMC43LCAiZmlsbFJ1bGUiOiAiZXZlbm9kZCIsICJsaW5lQ2FwIjogInJvdW5kIiwgImxpbmVKb2luIjogInJvdW5kIiwgIm9wYWNpdHkiOiAxLjAsICJyYWRpdXMiOiA1LCAic3Ryb2tlIjogdHJ1ZSwgIndlaWdodCI6IDN9CiAgICAgICAgICAgICkuYWRkVG8obWFwX2E0ODg5ZmI4MGI1ZTRlZjlhN2IzZGQwNGZhY2MwOGFjKTsKICAgICAgICAKICAgIAogICAgICAgIHZhciBwb3B1cF9kN2Y5YjQxOWFkYTQ0YzMwODRiMTcxMDk2OWRhZDZiNSA9IEwucG9wdXAoeyJtYXhXaWR0aCI6ICIxMDAlIn0pOwoKICAgICAgICAKICAgICAgICAgICAgdmFyIGh0bWxfNWRlMmEwNDZlMjg4NDFkMmJjOGEyNmZiZGU2OWFlYmQgPSAkKGA8ZGl2IGlkPSJodG1sXzVkZTJhMDQ2ZTI4ODQxZDJiYzhhMjZmYmRlNjlhZWJkIiBzdHlsZT0id2lkdGg6IDEwMC4wJTsgaGVpZ2h0OiAxMDAuMCU7Ij5CYXl2aWV3IFZpbGxhZ2UsIE5vcnRoIFlvcms8L2Rpdj5gKVswXTsKICAgICAgICAgICAgcG9wdXBfZDdmOWI0MTlhZGE0NGMzMDg0YjE3MTA5NjlkYWQ2YjUuc2V0Q29udGVudChodG1sXzVkZTJhMDQ2ZTI4ODQxZDJiYzhhMjZmYmRlNjlhZWJkKTsKICAgICAgICAKCiAgICAgICAgY2lyY2xlX21hcmtlcl81NGFhZTdhYzU0MWU0NTgyYTQyN2ZiZmM1ZDY2MGU4YS5iaW5kUG9wdXAocG9wdXBfZDdmOWI0MTlhZGE0NGMzMDg0YjE3MTA5NjlkYWQ2YjUpCiAgICAgICAgOwoKICAgICAgICAKICAgIAogICAgCiAgICAgICAgICAgIHZhciBjaXJjbGVfbWFya2VyXzhjMTQwNGUyZjBkNjRiM2ViMWMzNjU2ZWQ4MDE4ZTFiID0gTC5jaXJjbGVNYXJrZXIoCiAgICAgICAgICAgICAgICBbNDMuNzM3NDczMjAwMDAwMDA0LCAtNzkuNDY0NzYzMjk5OTk5OTldLAogICAgICAgICAgICAgICAgeyJidWJibGluZ01vdXNlRXZlbnRzIjogdHJ1ZSwgImNvbG9yIjogImJsdWUiLCAiZGFzaEFycmF5IjogbnVsbCwgImRhc2hPZmZzZXQiOiBudWxsLCAiZmlsbCI6IHRydWUsICJmaWxsQ29sb3IiOiAiIzMxODZjYyIsICJmaWxsT3BhY2l0eSI6IDAuNywgImZpbGxSdWxlIjogImV2ZW5vZGQiLCAibGluZUNhcCI6ICJyb3VuZCIsICJsaW5lSm9pbiI6ICJyb3VuZCIsICJvcGFjaXR5IjogMS4wLCAicmFkaXVzIjogNSwgInN0cm9rZSI6IHRydWUsICJ3ZWlnaHQiOiAzfQogICAgICAgICAgICApLmFkZFRvKG1hcF9hNDg4OWZiODBiNWU0ZWY5YTdiM2RkMDRmYWNjMDhhYyk7CiAgICAgICAgCiAgICAKICAgICAgICB2YXIgcG9wdXBfMjc5MTc1OTc0MzgyNGU4NDhkZmM3ZjAxMjdmOGFmZmMgPSBMLnBvcHVwKHsibWF4V2lkdGgiOiAiMTAwJSJ9KTsKCiAgICAgICAgCiAgICAgICAgICAgIHZhciBodG1sXzhkMzJhZGFhMGRmMTRjODU5MzVmYjJjNWU4NTRhNTk4ID0gJChgPGRpdiBpZD0iaHRtbF84ZDMyYWRhYTBkZjE0Yzg1OTM1ZmIyYzVlODU0YTU5OCIgc3R5bGU9IndpZHRoOiAxMDAuMCU7IGhlaWdodDogMTAwLjAlOyI+RG93bnN2aWV3LCBOb3J0aCBZb3JrPC9kaXY+YClbMF07CiAgICAgICAgICAgIHBvcHVwXzI3OTE3NTk3NDM4MjRlODQ4ZGZjN2YwMTI3ZjhhZmZjLnNldENvbnRlbnQoaHRtbF84ZDMyYWRhYTBkZjE0Yzg1OTM1ZmIyYzVlODU0YTU5OCk7CiAgICAgICAgCgogICAgICAgIGNpcmNsZV9tYXJrZXJfOGMxNDA0ZTJmMGQ2NGIzZWIxYzM2NTZlZDgwMThlMWIuYmluZFBvcHVwKHBvcHVwXzI3OTE3NTk3NDM4MjRlODQ4ZGZjN2YwMTI3ZjhhZmZjKQogICAgICAgIDsKCiAgICAgICAgCiAgICAKICAgIAogICAgICAgICAgICB2YXIgY2lyY2xlX21hcmtlcl8wODA2MzFmNjE3NTQ0ZWEzYWViZDA4OTg3NzlhNzY1OCA9IEwuY2lyY2xlTWFya2VyKAogICAgICAgICAgICAgICAgWzQzLjY3OTU1NzEsIC03OS4zNTIxODhdLAogICAgICAgICAgICAgICAgeyJidWJibGluZ01vdXNlRXZlbnRzIjogdHJ1ZSwgImNvbG9yIjogImJsdWUiLCAiZGFzaEFycmF5IjogbnVsbCwgImRhc2hPZmZzZXQiOiBudWxsLCAiZmlsbCI6IHRydWUsICJmaWxsQ29sb3IiOiAiIzMxODZjYyIsICJmaWxsT3BhY2l0eSI6IDAuNywgImZpbGxSdWxlIjogImV2ZW5vZGQiLCAibGluZUNhcCI6ICJyb3VuZCIsICJsaW5lSm9pbiI6ICJyb3VuZCIsICJvcGFjaXR5IjogMS4wLCAicmFkaXVzIjogNSwgInN0cm9rZSI6IHRydWUsICJ3ZWlnaHQiOiAzfQogICAgICAgICAgICApLmFkZFRvKG1hcF9hNDg4OWZiODBiNWU0ZWY5YTdiM2RkMDRmYWNjMDhhYyk7CiAgICAgICAgCiAgICAKICAgICAgICB2YXIgcG9wdXBfNTU2NWY4MzkzODU4NGIwNWIwMDQ4NTI5YzkxOWFhNDggPSBMLnBvcHVwKHsibWF4V2lkdGgiOiAiMTAwJSJ9KTsKCiAgICAgICAgCiAgICAgICAgICAgIHZhciBodG1sXzI1M2MxZWM3YzY2MzQyZThiNzM5M2RhYTA1MmVkMWQ2ID0gJChgPGRpdiBpZD0iaHRtbF8yNTNjMWVjN2M2NjM0MmU4YjczOTNkYWEwNTJlZDFkNiIgc3R5bGU9IndpZHRoOiAxMDAuMCU7IGhlaWdodDogMTAwLjAlOyI+VGhlIERhbmZvcnRoIFdlc3QsIFJpdmVyZGFsZSwgRWFzdCBUb3JvbnRvPC9kaXY+YClbMF07CiAgICAgICAgICAgIHBvcHVwXzU1NjVmODM5Mzg1ODRiMDViMDA0ODUyOWM5MTlhYTQ4LnNldENvbnRlbnQoaHRtbF8yNTNjMWVjN2M2NjM0MmU4YjczOTNkYWEwNTJlZDFkNik7CiAgICAgICAgCgogICAgICAgIGNpcmNsZV9tYXJrZXJfMDgwNjMxZjYxNzU0NGVhM2FlYmQwODk4Nzc5YTc2NTguYmluZFBvcHVwKHBvcHVwXzU1NjVmODM5Mzg1ODRiMDViMDA0ODUyOWM5MTlhYTQ4KQogICAgICAgIDsKCiAgICAgICAgCiAgICAKICAgIAogICAgICAgICAgICB2YXIgY2lyY2xlX21hcmtlcl8zOWMyNzVmY2M4OTQ0MmEyOWQ2NDZkYjViODk3NDQ3ZSA9IEwuY2lyY2xlTWFya2VyKAogICAgICAgICAgICAgICAgWzQzLjY0NzE3NjgsIC03OS4zODE1NzY0MDAwMDAwMV0sCiAgICAgICAgICAgICAgICB7ImJ1YmJsaW5nTW91c2VFdmVudHMiOiB0cnVlLCAiY29sb3IiOiAiYmx1ZSIsICJkYXNoQXJyYXkiOiBudWxsLCAiZGFzaE9mZnNldCI6IG51bGwsICJmaWxsIjogdHJ1ZSwgImZpbGxDb2xvciI6ICIjMzE4NmNjIiwgImZpbGxPcGFjaXR5IjogMC43LCAiZmlsbFJ1bGUiOiAiZXZlbm9kZCIsICJsaW5lQ2FwIjogInJvdW5kIiwgImxpbmVKb2luIjogInJvdW5kIiwgIm9wYWNpdHkiOiAxLjAsICJyYWRpdXMiOiA1LCAic3Ryb2tlIjogdHJ1ZSwgIndlaWdodCI6IDN9CiAgICAgICAgICAgICkuYWRkVG8obWFwX2E0ODg5ZmI4MGI1ZTRlZjlhN2IzZGQwNGZhY2MwOGFjKTsKICAgICAgICAKICAgIAogICAgICAgIHZhciBwb3B1cF8xMGQyZDM3NDQxMjU0M2EwOGI3YjM2YmI5N2MwNTYxYiA9IEwucG9wdXAoeyJtYXhXaWR0aCI6ICIxMDAlIn0pOwoKICAgICAgICAKICAgICAgICAgICAgdmFyIGh0bWxfOGNlZTI3MmQzMzY5NGE5MDhkN2RhNGFjYzI0MzEzZDggPSAkKGA8ZGl2IGlkPSJodG1sXzhjZWUyNzJkMzM2OTRhOTA4ZDdkYTRhY2MyNDMxM2Q4IiBzdHlsZT0id2lkdGg6IDEwMC4wJTsgaGVpZ2h0OiAxMDAuMCU7Ij5Ub3JvbnRvIERvbWluaW9uIENlbnRyZSwgRGVzaWduIEV4Y2hhbmdlLCBEb3dudG93biBUb3JvbnRvPC9kaXY+YClbMF07CiAgICAgICAgICAgIHBvcHVwXzEwZDJkMzc0NDEyNTQzYTA4YjdiMzZiYjk3YzA1NjFiLnNldENvbnRlbnQoaHRtbF84Y2VlMjcyZDMzNjk0YTkwOGQ3ZGE0YWNjMjQzMTNkOCk7CiAgICAgICAgCgogICAgICAgIGNpcmNsZV9tYXJrZXJfMzljMjc1ZmNjODk0NDJhMjlkNjQ2ZGI1Yjg5NzQ0N2UuYmluZFBvcHVwKHBvcHVwXzEwZDJkMzc0NDEyNTQzYTA4YjdiMzZiYjk3YzA1NjFiKQogICAgICAgIDsKCiAgICAgICAgCiAgICAKICAgIAogICAgICAgICAgICB2YXIgY2lyY2xlX21hcmtlcl80MGY5ZTRhNDUyMmY0NjZkOWRmMmE0MTMzODcyMjlhMCA9IEwuY2lyY2xlTWFya2VyKAogICAgICAgICAgICAgICAgWzQzLjYzNjg0NzIsIC03OS40MjgxOTE0MDAwMDAwMl0sCiAgICAgICAgICAgICAgICB7ImJ1YmJsaW5nTW91c2VFdmVudHMiOiB0cnVlLCAiY29sb3IiOiAiYmx1ZSIsICJkYXNoQXJyYXkiOiBudWxsLCAiZGFzaE9mZnNldCI6IG51bGwsICJmaWxsIjogdHJ1ZSwgImZpbGxDb2xvciI6ICIjMzE4NmNjIiwgImZpbGxPcGFjaXR5IjogMC43LCAiZmlsbFJ1bGUiOiAiZXZlbm9kZCIsICJsaW5lQ2FwIjogInJvdW5kIiwgImxpbmVKb2luIjogInJvdW5kIiwgIm9wYWNpdHkiOiAxLjAsICJyYWRpdXMiOiA1LCAic3Ryb2tlIjogdHJ1ZSwgIndlaWdodCI6IDN9CiAgICAgICAgICAgICkuYWRkVG8obWFwX2E0ODg5ZmI4MGI1ZTRlZjlhN2IzZGQwNGZhY2MwOGFjKTsKICAgICAgICAKICAgIAogICAgICAgIHZhciBwb3B1cF9mYWQ4MDY3ZjU1NTI0ZWVkOTVlYmY5NjA0YTdiM2RmYSA9IEwucG9wdXAoeyJtYXhXaWR0aCI6ICIxMDAlIn0pOwoKICAgICAgICAKICAgICAgICAgICAgdmFyIGh0bWxfODIzOTY4OTYyNTg5NDI2YmE4ZWU0ZTdiMzU3YWQ1NzMgPSAkKGA8ZGl2IGlkPSJodG1sXzgyMzk2ODk2MjU4OTQyNmJhOGVlNGU3YjM1N2FkNTczIiBzdHlsZT0id2lkdGg6IDEwMC4wJTsgaGVpZ2h0OiAxMDAuMCU7Ij5Ccm9ja3RvbiwgUGFya2RhbGUgVmlsbGFnZSwgRXhoaWJpdGlvbiBQbGFjZSwgV2VzdCBUb3JvbnRvPC9kaXY+YClbMF07CiAgICAgICAgICAgIHBvcHVwX2ZhZDgwNjdmNTU1MjRlZWQ5NWViZjk2MDRhN2IzZGZhLnNldENvbnRlbnQoaHRtbF84MjM5Njg5NjI1ODk0MjZiYThlZTRlN2IzNTdhZDU3Myk7CiAgICAgICAgCgogICAgICAgIGNpcmNsZV9tYXJrZXJfNDBmOWU0YTQ1MjJmNDY2ZDlkZjJhNDEzMzg3MjI5YTAuYmluZFBvcHVwKHBvcHVwX2ZhZDgwNjdmNTU1MjRlZWQ5NWViZjk2MDRhN2IzZGZhKQogICAgICAgIDsKCiAgICAgICAgCiAgICAKICAgIAogICAgICAgICAgICB2YXIgY2lyY2xlX21hcmtlcl9mNjgzYjI0NzhmNzU0Y2Q0YWYyZDg2ZjBiNDJmODE2ZSA9IEwuY2lyY2xlTWFya2VyKAogICAgICAgICAgICAgICAgWzQzLjcxMTExMTcwMDAwMDAwNCwgLTc5LjI4NDU3NzJdLAogICAgICAgICAgICAgICAgeyJidWJibGluZ01vdXNlRXZlbnRzIjogdHJ1ZSwgImNvbG9yIjogImJsdWUiLCAiZGFzaEFycmF5IjogbnVsbCwgImRhc2hPZmZzZXQiOiBudWxsLCAiZmlsbCI6IHRydWUsICJmaWxsQ29sb3IiOiAiIzMxODZjYyIsICJmaWxsT3BhY2l0eSI6IDAuNywgImZpbGxSdWxlIjogImV2ZW5vZGQiLCAibGluZUNhcCI6ICJyb3VuZCIsICJsaW5lSm9pbiI6ICJyb3VuZCIsICJvcGFjaXR5IjogMS4wLCAicmFkaXVzIjogNSwgInN0cm9rZSI6IHRydWUsICJ3ZWlnaHQiOiAzfQogICAgICAgICAgICApLmFkZFRvKG1hcF9hNDg4OWZiODBiNWU0ZWY5YTdiM2RkMDRmYWNjMDhhYyk7CiAgICAgICAgCiAgICAKICAgICAgICB2YXIgcG9wdXBfZWRjZGE3Y2MwYmE2NGIzZTg3N2FhZTYxMzA4ZjlkZWUgPSBMLnBvcHVwKHsibWF4V2lkdGgiOiAiMTAwJSJ9KTsKCiAgICAgICAgCiAgICAgICAgICAgIHZhciBodG1sXzJmMjQzNGFhZDYyOTQ2ZDM4OWU2NGY0N2I1MGE2NzcwID0gJChgPGRpdiBpZD0iaHRtbF8yZjI0MzRhYWQ2Mjk0NmQzODllNjRmNDdiNTBhNjc3MCIgc3R5bGU9IndpZHRoOiAxMDAuMCU7IGhlaWdodDogMTAwLjAlOyI+R29sZGVuIE1pbGUsIENsYWlybGVhLCBPYWtyaWRnZSwgU2NhcmJvcm91Z2g8L2Rpdj5gKVswXTsKICAgICAgICAgICAgcG9wdXBfZWRjZGE3Y2MwYmE2NGIzZTg3N2FhZTYxMzA4ZjlkZWUuc2V0Q29udGVudChodG1sXzJmMjQzNGFhZDYyOTQ2ZDM4OWU2NGY0N2I1MGE2NzcwKTsKICAgICAgICAKCiAgICAgICAgY2lyY2xlX21hcmtlcl9mNjgzYjI0NzhmNzU0Y2Q0YWYyZDg2ZjBiNDJmODE2ZS5iaW5kUG9wdXAocG9wdXBfZWRjZGE3Y2MwYmE2NGIzZTg3N2FhZTYxMzA4ZjlkZWUpCiAgICAgICAgOwoKICAgICAgICAKICAgIAogICAgCiAgICAgICAgICAgIHZhciBjaXJjbGVfbWFya2VyXzE0ZDYxZDJmNjNjYjQ3NDhhNWI0MGMwZmNhNzkzMjc0ID0gTC5jaXJjbGVNYXJrZXIoCiAgICAgICAgICAgICAgICBbNDMuNzU3NDkwMiwgLTc5LjM3NDcxNDA5OTk5OTk5XSwKICAgICAgICAgICAgICAgIHsiYnViYmxpbmdNb3VzZUV2ZW50cyI6IHRydWUsICJjb2xvciI6ICJibHVlIiwgImRhc2hBcnJheSI6IG51bGwsICJkYXNoT2Zmc2V0IjogbnVsbCwgImZpbGwiOiB0cnVlLCAiZmlsbENvbG9yIjogIiMzMTg2Y2MiLCAiZmlsbE9wYWNpdHkiOiAwLjcsICJmaWxsUnVsZSI6ICJldmVub2RkIiwgImxpbmVDYXAiOiAicm91bmQiLCAibGluZUpvaW4iOiAicm91bmQiLCAib3BhY2l0eSI6IDEuMCwgInJhZGl1cyI6IDUsICJzdHJva2UiOiB0cnVlLCAid2VpZ2h0IjogM30KICAgICAgICAgICAgKS5hZGRUbyhtYXBfYTQ4ODlmYjgwYjVlNGVmOWE3YjNkZDA0ZmFjYzA4YWMpOwogICAgICAgIAogICAgCiAgICAgICAgdmFyIHBvcHVwXzIyN2YxZDY0ZjI0ZTQ1NmE4NjkxZWZmZmRhZTg4MDExID0gTC5wb3B1cCh7Im1heFdpZHRoIjogIjEwMCUifSk7CgogICAgICAgIAogICAgICAgICAgICB2YXIgaHRtbF8xNjk1YWJjMDk1MWI0NDUyYjIxOWRjNDY0ODJhYzY0YSA9ICQoYDxkaXYgaWQ9Imh0bWxfMTY5NWFiYzA5NTFiNDQ1MmIyMTlkYzQ2NDgyYWM2NGEiIHN0eWxlPSJ3aWR0aDogMTAwLjAlOyBoZWlnaHQ6IDEwMC4wJTsiPllvcmsgTWlsbHMsIFNpbHZlciBIaWxscywgTm9ydGggWW9yazwvZGl2PmApWzBdOwogICAgICAgICAgICBwb3B1cF8yMjdmMWQ2NGYyNGU0NTZhODY5MWVmZmZkYWU4ODAxMS5zZXRDb250ZW50KGh0bWxfMTY5NWFiYzA5NTFiNDQ1MmIyMTlkYzQ2NDgyYWM2NGEpOwogICAgICAgIAoKICAgICAgICBjaXJjbGVfbWFya2VyXzE0ZDYxZDJmNjNjYjQ3NDhhNWI0MGMwZmNhNzkzMjc0LmJpbmRQb3B1cChwb3B1cF8yMjdmMWQ2NGYyNGU0NTZhODY5MWVmZmZkYWU4ODAxMSkKICAgICAgICA7CgogICAgICAgIAogICAgCiAgICAKICAgICAgICAgICAgdmFyIGNpcmNsZV9tYXJrZXJfNzk2M2VmMTlmYmJkNGViOTgyZDBkMGY1OWEzZjAxZWMgPSBMLmNpcmNsZU1hcmtlcigKICAgICAgICAgICAgICAgIFs0My43MzkwMTQ2LCAtNzkuNTA2OTQzNl0sCiAgICAgICAgICAgICAgICB7ImJ1YmJsaW5nTW91c2VFdmVudHMiOiB0cnVlLCAiY29sb3IiOiAiYmx1ZSIsICJkYXNoQXJyYXkiOiBudWxsLCAiZGFzaE9mZnNldCI6IG51bGwsICJmaWxsIjogdHJ1ZSwgImZpbGxDb2xvciI6ICIjMzE4NmNjIiwgImZpbGxPcGFjaXR5IjogMC43LCAiZmlsbFJ1bGUiOiAiZXZlbm9kZCIsICJsaW5lQ2FwIjogInJvdW5kIiwgImxpbmVKb2luIjogInJvdW5kIiwgIm9wYWNpdHkiOiAxLjAsICJyYWRpdXMiOiA1LCAic3Ryb2tlIjogdHJ1ZSwgIndlaWdodCI6IDN9CiAgICAgICAgICAgICkuYWRkVG8obWFwX2E0ODg5ZmI4MGI1ZTRlZjlhN2IzZGQwNGZhY2MwOGFjKTsKICAgICAgICAKICAgIAogICAgICAgIHZhciBwb3B1cF9jYzMyMjZhZjc4MTE0YTNlYWRlYTI3NTRlNjdjNmQyNiA9IEwucG9wdXAoeyJtYXhXaWR0aCI6ICIxMDAlIn0pOwoKICAgICAgICAKICAgICAgICAgICAgdmFyIGh0bWxfYTUyZWE5YWQ4NWE0NDk0YWFiZjljNTU2MmVhYTQ1ZTIgPSAkKGA8ZGl2IGlkPSJodG1sX2E1MmVhOWFkODVhNDQ5NGFhYmY5YzU1NjJlYWE0NWUyIiBzdHlsZT0id2lkdGg6IDEwMC4wJTsgaGVpZ2h0OiAxMDAuMCU7Ij5Eb3duc3ZpZXcsIE5vcnRoIFlvcms8L2Rpdj5gKVswXTsKICAgICAgICAgICAgcG9wdXBfY2MzMjI2YWY3ODExNGEzZWFkZWEyNzU0ZTY3YzZkMjYuc2V0Q29udGVudChodG1sX2E1MmVhOWFkODVhNDQ5NGFhYmY5YzU1NjJlYWE0NWUyKTsKICAgICAgICAKCiAgICAgICAgY2lyY2xlX21hcmtlcl83OTYzZWYxOWZiYmQ0ZWI5ODJkMGQwZjU5YTNmMDFlYy5iaW5kUG9wdXAocG9wdXBfY2MzMjI2YWY3ODExNGEzZWFkZWEyNzU0ZTY3YzZkMjYpCiAgICAgICAgOwoKICAgICAgICAKICAgIAogICAgCiAgICAgICAgICAgIHZhciBjaXJjbGVfbWFya2VyXzcyODk0Y2ZlNDlkNTQ2Mjc5MGI0MDQxMTAwMDE0NGQ0ID0gTC5jaXJjbGVNYXJrZXIoCiAgICAgICAgICAgICAgICBbNDMuNjY4OTk4NSwgLTc5LjMxNTU3MTU5OTk5OTk4XSwKICAgICAgICAgICAgICAgIHsiYnViYmxpbmdNb3VzZUV2ZW50cyI6IHRydWUsICJjb2xvciI6ICJibHVlIiwgImRhc2hBcnJheSI6IG51bGwsICJkYXNoT2Zmc2V0IjogbnVsbCwgImZpbGwiOiB0cnVlLCAiZmlsbENvbG9yIjogIiMzMTg2Y2MiLCAiZmlsbE9wYWNpdHkiOiAwLjcsICJmaWxsUnVsZSI6ICJldmVub2RkIiwgImxpbmVDYXAiOiAicm91bmQiLCAibGluZUpvaW4iOiAicm91bmQiLCAib3BhY2l0eSI6IDEuMCwgInJhZGl1cyI6IDUsICJzdHJva2UiOiB0cnVlLCAid2VpZ2h0IjogM30KICAgICAgICAgICAgKS5hZGRUbyhtYXBfYTQ4ODlmYjgwYjVlNGVmOWE3YjNkZDA0ZmFjYzA4YWMpOwogICAgICAgIAogICAgCiAgICAgICAgdmFyIHBvcHVwX2NmZWJiOWVhY2ZmMDQ4ZjFhM2ZhMDVjNTY5YzcyZjlmID0gTC5wb3B1cCh7Im1heFdpZHRoIjogIjEwMCUifSk7CgogICAgICAgIAogICAgICAgICAgICB2YXIgaHRtbF83YjIxZThiZDBiYzc0NjVmODcyMjcxZjdiZTQ2MjQ4OSA9ICQoYDxkaXYgaWQ9Imh0bWxfN2IyMWU4YmQwYmM3NDY1Zjg3MjI3MWY3YmU0NjI0ODkiIHN0eWxlPSJ3aWR0aDogMTAwLjAlOyBoZWlnaHQ6IDEwMC4wJTsiPkluZGlhIEJhemFhciwgVGhlIEJlYWNoZXMgV2VzdCwgRWFzdCBUb3JvbnRvPC9kaXY+YClbMF07CiAgICAgICAgICAgIHBvcHVwX2NmZWJiOWVhY2ZmMDQ4ZjFhM2ZhMDVjNTY5YzcyZjlmLnNldENvbnRlbnQoaHRtbF83YjIxZThiZDBiYzc0NjVmODcyMjcxZjdiZTQ2MjQ4OSk7CiAgICAgICAgCgogICAgICAgIGNpcmNsZV9tYXJrZXJfNzI4OTRjZmU0OWQ1NDYyNzkwYjQwNDExMDAwMTQ0ZDQuYmluZFBvcHVwKHBvcHVwX2NmZWJiOWVhY2ZmMDQ4ZjFhM2ZhMDVjNTY5YzcyZjlmKQogICAgICAgIDsKCiAgICAgICAgCiAgICAKICAgIAogICAgICAgICAgICB2YXIgY2lyY2xlX21hcmtlcl81ZGFjODhjYTQ4NTE0NjMyYTgzNGQ2YTJhZjVlMDM1MyA9IEwuY2lyY2xlTWFya2VyKAogICAgICAgICAgICAgICAgWzQzLjY0ODE5ODUsIC03OS4zNzk4MTY5MDAwMDAwMV0sCiAgICAgICAgICAgICAgICB7ImJ1YmJsaW5nTW91c2VFdmVudHMiOiB0cnVlLCAiY29sb3IiOiAiYmx1ZSIsICJkYXNoQXJyYXkiOiBudWxsLCAiZGFzaE9mZnNldCI6IG51bGwsICJmaWxsIjogdHJ1ZSwgImZpbGxDb2xvciI6ICIjMzE4NmNjIiwgImZpbGxPcGFjaXR5IjogMC43LCAiZmlsbFJ1bGUiOiAiZXZlbm9kZCIsICJsaW5lQ2FwIjogInJvdW5kIiwgImxpbmVKb2luIjogInJvdW5kIiwgIm9wYWNpdHkiOiAxLjAsICJyYWRpdXMiOiA1LCAic3Ryb2tlIjogdHJ1ZSwgIndlaWdodCI6IDN9CiAgICAgICAgICAgICkuYWRkVG8obWFwX2E0ODg5ZmI4MGI1ZTRlZjlhN2IzZGQwNGZhY2MwOGFjKTsKICAgICAgICAKICAgIAogICAgICAgIHZhciBwb3B1cF81MDJhMDYxMWQzNzg0ZTRiODY4NTFmM2E1MWYwMmU2NSA9IEwucG9wdXAoeyJtYXhXaWR0aCI6ICIxMDAlIn0pOwoKICAgICAgICAKICAgICAgICAgICAgdmFyIGh0bWxfOWZmN2Q5MWZlNzk4NDdmYmI1NzYzNWM3ZDM2NDhhZTEgPSAkKGA8ZGl2IGlkPSJodG1sXzlmZjdkOTFmZTc5ODQ3ZmJiNTc2MzVjN2QzNjQ4YWUxIiBzdHlsZT0id2lkdGg6IDEwMC4wJTsgaGVpZ2h0OiAxMDAuMCU7Ij5Db21tZXJjZSBDb3VydCwgVmljdG9yaWEgSG90ZWwsIERvd250b3duIFRvcm9udG88L2Rpdj5gKVswXTsKICAgICAgICAgICAgcG9wdXBfNTAyYTA2MTFkMzc4NGU0Yjg2ODUxZjNhNTFmMDJlNjUuc2V0Q29udGVudChodG1sXzlmZjdkOTFmZTc5ODQ3ZmJiNTc2MzVjN2QzNjQ4YWUxKTsKICAgICAgICAKCiAgICAgICAgY2lyY2xlX21hcmtlcl81ZGFjODhjYTQ4NTE0NjMyYTgzNGQ2YTJhZjVlMDM1My5iaW5kUG9wdXAocG9wdXBfNTAyYTA2MTFkMzc4NGU0Yjg2ODUxZjNhNTFmMDJlNjUpCiAgICAgICAgOwoKICAgICAgICAKICAgIAogICAgCiAgICAgICAgICAgIHZhciBjaXJjbGVfbWFya2VyX2M1YTNmZGFlYWE1NjRkYjY4NmM0NTExYjI1MGIxYWJjID0gTC5jaXJjbGVNYXJrZXIoCiAgICAgICAgICAgICAgICBbNDMuNzEzNzU2MjAwMDAwMDA2LCAtNzkuNDkwMDczOF0sCiAgICAgICAgICAgICAgICB7ImJ1YmJsaW5nTW91c2VFdmVudHMiOiB0cnVlLCAiY29sb3IiOiAiYmx1ZSIsICJkYXNoQXJyYXkiOiBudWxsLCAiZGFzaE9mZnNldCI6IG51bGwsICJmaWxsIjogdHJ1ZSwgImZpbGxDb2xvciI6ICIjMzE4NmNjIiwgImZpbGxPcGFjaXR5IjogMC43LCAiZmlsbFJ1bGUiOiAiZXZlbm9kZCIsICJsaW5lQ2FwIjogInJvdW5kIiwgImxpbmVKb2luIjogInJvdW5kIiwgIm9wYWNpdHkiOiAxLjAsICJyYWRpdXMiOiA1LCAic3Ryb2tlIjogdHJ1ZSwgIndlaWdodCI6IDN9CiAgICAgICAgICAgICkuYWRkVG8obWFwX2E0ODg5ZmI4MGI1ZTRlZjlhN2IzZGQwNGZhY2MwOGFjKTsKICAgICAgICAKICAgIAogICAgICAgIHZhciBwb3B1cF9iOTE2ZjFhYjkzNGY0MjY2ODIzY2VhYjYyNzcxMTZmYSA9IEwucG9wdXAoeyJtYXhXaWR0aCI6ICIxMDAlIn0pOwoKICAgICAgICAKICAgICAgICAgICAgdmFyIGh0bWxfMDdjYWIyOTMzNzRhNGMyYWFkMmFiNzBlMmY4YTU3ZDQgPSAkKGA8ZGl2IGlkPSJodG1sXzA3Y2FiMjkzMzc0YTRjMmFhZDJhYjcwZTJmOGE1N2Q0IiBzdHlsZT0id2lkdGg6IDEwMC4wJTsgaGVpZ2h0OiAxMDAuMCU7Ij5Ob3J0aCBQYXJrLCBNYXBsZSBMZWFmIFBhcmssIFVwd29vZCBQYXJrLCBOb3J0aCBZb3JrPC9kaXY+YClbMF07CiAgICAgICAgICAgIHBvcHVwX2I5MTZmMWFiOTM0ZjQyNjY4MjNjZWFiNjI3NzExNmZhLnNldENvbnRlbnQoaHRtbF8wN2NhYjI5MzM3NGE0YzJhYWQyYWI3MGUyZjhhNTdkNCk7CiAgICAgICAgCgogICAgICAgIGNpcmNsZV9tYXJrZXJfYzVhM2ZkYWVhYTU2NGRiNjg2YzQ1MTFiMjUwYjFhYmMuYmluZFBvcHVwKHBvcHVwX2I5MTZmMWFiOTM0ZjQyNjY4MjNjZWFiNjI3NzExNmZhKQogICAgICAgIDsKCiAgICAgICAgCiAgICAKICAgIAogICAgICAgICAgICB2YXIgY2lyY2xlX21hcmtlcl8yOTY0NmE3YjBjYzc0YTNhOGI5Njk1MzhhNWI3ZDZlOSA9IEwuY2lyY2xlTWFya2VyKAogICAgICAgICAgICAgICAgWzQzLjc1NjMwMzMsIC03OS41NjU5NjMyOTk5OTk5OV0sCiAgICAgICAgICAgICAgICB7ImJ1YmJsaW5nTW91c2VFdmVudHMiOiB0cnVlLCAiY29sb3IiOiAiYmx1ZSIsICJkYXNoQXJyYXkiOiBudWxsLCAiZGFzaE9mZnNldCI6IG51bGwsICJmaWxsIjogdHJ1ZSwgImZpbGxDb2xvciI6ICIjMzE4NmNjIiwgImZpbGxPcGFjaXR5IjogMC43LCAiZmlsbFJ1bGUiOiAiZXZlbm9kZCIsICJsaW5lQ2FwIjogInJvdW5kIiwgImxpbmVKb2luIjogInJvdW5kIiwgIm9wYWNpdHkiOiAxLjAsICJyYWRpdXMiOiA1LCAic3Ryb2tlIjogdHJ1ZSwgIndlaWdodCI6IDN9CiAgICAgICAgICAgICkuYWRkVG8obWFwX2E0ODg5ZmI4MGI1ZTRlZjlhN2IzZGQwNGZhY2MwOGFjKTsKICAgICAgICAKICAgIAogICAgICAgIHZhciBwb3B1cF81ZTUyYzU1ZjBlODk0M2ExYmNhMDE0ZjY2ZDIyNzZhOSA9IEwucG9wdXAoeyJtYXhXaWR0aCI6ICIxMDAlIn0pOwoKICAgICAgICAKICAgICAgICAgICAgdmFyIGh0bWxfZjlhOTcxZmJhNmEyNDBmNjg0OGNlOTJmMGQ4YjhjZWIgPSAkKGA8ZGl2IGlkPSJodG1sX2Y5YTk3MWZiYTZhMjQwZjY4NDhjZTkyZjBkOGI4Y2ViIiBzdHlsZT0id2lkdGg6IDEwMC4wJTsgaGVpZ2h0OiAxMDAuMCU7Ij5IdW1iZXIgU3VtbWl0LCBOb3J0aCBZb3JrPC9kaXY+YClbMF07CiAgICAgICAgICAgIHBvcHVwXzVlNTJjNTVmMGU4OTQzYTFiY2EwMTRmNjZkMjI3NmE5LnNldENvbnRlbnQoaHRtbF9mOWE5NzFmYmE2YTI0MGY2ODQ4Y2U5MmYwZDhiOGNlYik7CiAgICAgICAgCgogICAgICAgIGNpcmNsZV9tYXJrZXJfMjk2NDZhN2IwY2M3NGEzYThiOTY5NTM4YTViN2Q2ZTkuYmluZFBvcHVwKHBvcHVwXzVlNTJjNTVmMGU4OTQzYTFiY2EwMTRmNjZkMjI3NmE5KQogICAgICAgIDsKCiAgICAgICAgCiAgICAKICAgIAogICAgICAgICAgICB2YXIgY2lyY2xlX21hcmtlcl9kZTgxYzljNDFiNDE0MmY2OGI1MDQ3MWM3MmM2OWQ0YyA9IEwuY2lyY2xlTWFya2VyKAogICAgICAgICAgICAgICAgWzQzLjcxNjMxNiwgLTc5LjIzOTQ3NjA5OTk5OTk5XSwKICAgICAgICAgICAgICAgIHsiYnViYmxpbmdNb3VzZUV2ZW50cyI6IHRydWUsICJjb2xvciI6ICJibHVlIiwgImRhc2hBcnJheSI6IG51bGwsICJkYXNoT2Zmc2V0IjogbnVsbCwgImZpbGwiOiB0cnVlLCAiZmlsbENvbG9yIjogIiMzMTg2Y2MiLCAiZmlsbE9wYWNpdHkiOiAwLjcsICJmaWxsUnVsZSI6ICJldmVub2RkIiwgImxpbmVDYXAiOiAicm91bmQiLCAibGluZUpvaW4iOiAicm91bmQiLCAib3BhY2l0eSI6IDEuMCwgInJhZGl1cyI6IDUsICJzdHJva2UiOiB0cnVlLCAid2VpZ2h0IjogM30KICAgICAgICAgICAgKS5hZGRUbyhtYXBfYTQ4ODlmYjgwYjVlNGVmOWE3YjNkZDA0ZmFjYzA4YWMpOwogICAgICAgIAogICAgCiAgICAgICAgdmFyIHBvcHVwXzc4MmIzODIyZmM3YzRiNGRiYTRhNDBjMTFiZjAxMGY3ID0gTC5wb3B1cCh7Im1heFdpZHRoIjogIjEwMCUifSk7CgogICAgICAgIAogICAgICAgICAgICB2YXIgaHRtbF8wNDE3ODhiYzUwYTg0ZTEzOWQxMmNiMjBjYWUwZDVmYyA9ICQoYDxkaXYgaWQ9Imh0bWxfMDQxNzg4YmM1MGE4NGUxMzlkMTJjYjIwY2FlMGQ1ZmMiIHN0eWxlPSJ3aWR0aDogMTAwLjAlOyBoZWlnaHQ6IDEwMC4wJTsiPkNsaWZmc2lkZSwgQ2xpZmZjcmVzdCwgU2NhcmJvcm91Z2ggVmlsbGFnZSBXZXN0LCBTY2FyYm9yb3VnaDwvZGl2PmApWzBdOwogICAgICAgICAgICBwb3B1cF83ODJiMzgyMmZjN2M0YjRkYmE0YTQwYzExYmYwMTBmNy5zZXRDb250ZW50KGh0bWxfMDQxNzg4YmM1MGE4NGUxMzlkMTJjYjIwY2FlMGQ1ZmMpOwogICAgICAgIAoKICAgICAgICBjaXJjbGVfbWFya2VyX2RlODFjOWM0MWI0MTQyZjY4YjUwNDcxYzcyYzY5ZDRjLmJpbmRQb3B1cChwb3B1cF83ODJiMzgyMmZjN2M0YjRkYmE0YTQwYzExYmYwMTBmNykKICAgICAgICA7CgogICAgICAgIAogICAgCiAgICAKICAgICAgICAgICAgdmFyIGNpcmNsZV9tYXJrZXJfNzllYzAxMTQxODQ2NGNjYTlmNDBkNGIxMjAyOTY1Y2UgPSBMLmNpcmNsZU1hcmtlcigKICAgICAgICAgICAgICAgIFs0My43ODkwNTMsIC03OS40MDg0OTI3OTk5OTk5OV0sCiAgICAgICAgICAgICAgICB7ImJ1YmJsaW5nTW91c2VFdmVudHMiOiB0cnVlLCAiY29sb3IiOiAiYmx1ZSIsICJkYXNoQXJyYXkiOiBudWxsLCAiZGFzaE9mZnNldCI6IG51bGwsICJmaWxsIjogdHJ1ZSwgImZpbGxDb2xvciI6ICIjMzE4NmNjIiwgImZpbGxPcGFjaXR5IjogMC43LCAiZmlsbFJ1bGUiOiAiZXZlbm9kZCIsICJsaW5lQ2FwIjogInJvdW5kIiwgImxpbmVKb2luIjogInJvdW5kIiwgIm9wYWNpdHkiOiAxLjAsICJyYWRpdXMiOiA1LCAic3Ryb2tlIjogdHJ1ZSwgIndlaWdodCI6IDN9CiAgICAgICAgICAgICkuYWRkVG8obWFwX2E0ODg5ZmI4MGI1ZTRlZjlhN2IzZGQwNGZhY2MwOGFjKTsKICAgICAgICAKICAgIAogICAgICAgIHZhciBwb3B1cF8yZmNkMGNjNzE5NDc0NDg5ODM0NDNiODk2MjAxMTdmNyA9IEwucG9wdXAoeyJtYXhXaWR0aCI6ICIxMDAlIn0pOwoKICAgICAgICAKICAgICAgICAgICAgdmFyIGh0bWxfZjMwMDA2NmZkMjNjNDk3NWI1NjQ5NjRjMGJhMGJjNzggPSAkKGA8ZGl2IGlkPSJodG1sX2YzMDAwNjZmZDIzYzQ5NzViNTY0OTY0YzBiYTBiYzc4IiBzdHlsZT0id2lkdGg6IDEwMC4wJTsgaGVpZ2h0OiAxMDAuMCU7Ij5XaWxsb3dkYWxlLCBOZXd0b25icm9vaywgTm9ydGggWW9yazwvZGl2PmApWzBdOwogICAgICAgICAgICBwb3B1cF8yZmNkMGNjNzE5NDc0NDg5ODM0NDNiODk2MjAxMTdmNy5zZXRDb250ZW50KGh0bWxfZjMwMDA2NmZkMjNjNDk3NWI1NjQ5NjRjMGJhMGJjNzgpOwogICAgICAgIAoKICAgICAgICBjaXJjbGVfbWFya2VyXzc5ZWMwMTE0MTg0NjRjY2E5ZjQwZDRiMTIwMjk2NWNlLmJpbmRQb3B1cChwb3B1cF8yZmNkMGNjNzE5NDc0NDg5ODM0NDNiODk2MjAxMTdmNykKICAgICAgICA7CgogICAgICAgIAogICAgCiAgICAKICAgICAgICAgICAgdmFyIGNpcmNsZV9tYXJrZXJfZWUzODc3ZTIyYjBlNGU4N2E1ZDMwZGNmMzhkN2E4OTMgPSBMLmNpcmNsZU1hcmtlcigKICAgICAgICAgICAgICAgIFs0My43Mjg0OTY0LCAtNzkuNDk1Njk3NDAwMDAwMDFdLAogICAgICAgICAgICAgICAgeyJidWJibGluZ01vdXNlRXZlbnRzIjogdHJ1ZSwgImNvbG9yIjogImJsdWUiLCAiZGFzaEFycmF5IjogbnVsbCwgImRhc2hPZmZzZXQiOiBudWxsLCAiZmlsbCI6IHRydWUsICJmaWxsQ29sb3IiOiAiIzMxODZjYyIsICJmaWxsT3BhY2l0eSI6IDAuNywgImZpbGxSdWxlIjogImV2ZW5vZGQiLCAibGluZUNhcCI6ICJyb3VuZCIsICJsaW5lSm9pbiI6ICJyb3VuZCIsICJvcGFjaXR5IjogMS4wLCAicmFkaXVzIjogNSwgInN0cm9rZSI6IHRydWUsICJ3ZWlnaHQiOiAzfQogICAgICAgICAgICApLmFkZFRvKG1hcF9hNDg4OWZiODBiNWU0ZWY5YTdiM2RkMDRmYWNjMDhhYyk7CiAgICAgICAgCiAgICAKICAgICAgICB2YXIgcG9wdXBfNmZiMDI1ZjNkNDYyNDIyYWI3N2E4NjE5MmJmNjVkNGIgPSBMLnBvcHVwKHsibWF4V2lkdGgiOiAiMTAwJSJ9KTsKCiAgICAgICAgCiAgICAgICAgICAgIHZhciBodG1sX2QwODBkNmI5N2NiZjRjZTQ5NmZjNzBkNDFjZTlhNjBiID0gJChgPGRpdiBpZD0iaHRtbF9kMDgwZDZiOTdjYmY0Y2U0OTZmYzcwZDQxY2U5YTYwYiIgc3R5bGU9IndpZHRoOiAxMDAuMCU7IGhlaWdodDogMTAwLjAlOyI+RG93bnN2aWV3LCBOb3J0aCBZb3JrPC9kaXY+YClbMF07CiAgICAgICAgICAgIHBvcHVwXzZmYjAyNWYzZDQ2MjQyMmFiNzdhODYxOTJiZjY1ZDRiLnNldENvbnRlbnQoaHRtbF9kMDgwZDZiOTdjYmY0Y2U0OTZmYzcwZDQxY2U5YTYwYik7CiAgICAgICAgCgogICAgICAgIGNpcmNsZV9tYXJrZXJfZWUzODc3ZTIyYjBlNGU4N2E1ZDMwZGNmMzhkN2E4OTMuYmluZFBvcHVwKHBvcHVwXzZmYjAyNWYzZDQ2MjQyMmFiNzdhODYxOTJiZjY1ZDRiKQogICAgICAgIDsKCiAgICAgICAgCiAgICAKICAgIAogICAgICAgICAgICB2YXIgY2lyY2xlX21hcmtlcl8xMzAyZTQ5YjY5OTk0YjI2OTNlODYwZTM1YWZhMDI1NSA9IEwuY2lyY2xlTWFya2VyKAogICAgICAgICAgICAgICAgWzQzLjY1OTUyNTUsIC03OS4zNDA5MjNdLAogICAgICAgICAgICAgICAgeyJidWJibGluZ01vdXNlRXZlbnRzIjogdHJ1ZSwgImNvbG9yIjogImJsdWUiLCAiZGFzaEFycmF5IjogbnVsbCwgImRhc2hPZmZzZXQiOiBudWxsLCAiZmlsbCI6IHRydWUsICJmaWxsQ29sb3IiOiAiIzMxODZjYyIsICJmaWxsT3BhY2l0eSI6IDAuNywgImZpbGxSdWxlIjogImV2ZW5vZGQiLCAibGluZUNhcCI6ICJyb3VuZCIsICJsaW5lSm9pbiI6ICJyb3VuZCIsICJvcGFjaXR5IjogMS4wLCAicmFkaXVzIjogNSwgInN0cm9rZSI6IHRydWUsICJ3ZWlnaHQiOiAzfQogICAgICAgICAgICApLmFkZFRvKG1hcF9hNDg4OWZiODBiNWU0ZWY5YTdiM2RkMDRmYWNjMDhhYyk7CiAgICAgICAgCiAgICAKICAgICAgICB2YXIgcG9wdXBfOGU0M2VlNzJlZGFkNGUwYjgzYzM1MmIyMmFkMzk1ZjEgPSBMLnBvcHVwKHsibWF4V2lkdGgiOiAiMTAwJSJ9KTsKCiAgICAgICAgCiAgICAgICAgICAgIHZhciBodG1sXzY0NmJjNzUzNGMxMDRhNmZiZTUyYWZjODc1NGUyZjUwID0gJChgPGRpdiBpZD0iaHRtbF82NDZiYzc1MzRjMTA0YTZmYmU1MmFmYzg3NTRlMmY1MCIgc3R5bGU9IndpZHRoOiAxMDAuMCU7IGhlaWdodDogMTAwLjAlOyI+U3R1ZGlvIERpc3RyaWN0LCBFYXN0IFRvcm9udG88L2Rpdj5gKVswXTsKICAgICAgICAgICAgcG9wdXBfOGU0M2VlNzJlZGFkNGUwYjgzYzM1MmIyMmFkMzk1ZjEuc2V0Q29udGVudChodG1sXzY0NmJjNzUzNGMxMDRhNmZiZTUyYWZjODc1NGUyZjUwKTsKICAgICAgICAKCiAgICAgICAgY2lyY2xlX21hcmtlcl8xMzAyZTQ5YjY5OTk0YjI2OTNlODYwZTM1YWZhMDI1NS5iaW5kUG9wdXAocG9wdXBfOGU0M2VlNzJlZGFkNGUwYjgzYzM1MmIyMmFkMzk1ZjEpCiAgICAgICAgOwoKICAgICAgICAKICAgIAogICAgCiAgICAgICAgICAgIHZhciBjaXJjbGVfbWFya2VyX2UwMWNhOGQ1OTM0ODRmMzNhYmQwZDFhYjhmNTkyYmM0ID0gTC5jaXJjbGVNYXJrZXIoCiAgICAgICAgICAgICAgICBbNDMuNzMzMjgyNSwgLTc5LjQxOTc0OTddLAogICAgICAgICAgICAgICAgeyJidWJibGluZ01vdXNlRXZlbnRzIjogdHJ1ZSwgImNvbG9yIjogImJsdWUiLCAiZGFzaEFycmF5IjogbnVsbCwgImRhc2hPZmZzZXQiOiBudWxsLCAiZmlsbCI6IHRydWUsICJmaWxsQ29sb3IiOiAiIzMxODZjYyIsICJmaWxsT3BhY2l0eSI6IDAuNywgImZpbGxSdWxlIjogImV2ZW5vZGQiLCAibGluZUNhcCI6ICJyb3VuZCIsICJsaW5lSm9pbiI6ICJyb3VuZCIsICJvcGFjaXR5IjogMS4wLCAicmFkaXVzIjogNSwgInN0cm9rZSI6IHRydWUsICJ3ZWlnaHQiOiAzfQogICAgICAgICAgICApLmFkZFRvKG1hcF9hNDg4OWZiODBiNWU0ZWY5YTdiM2RkMDRmYWNjMDhhYyk7CiAgICAgICAgCiAgICAKICAgICAgICB2YXIgcG9wdXBfZTQzZWNlNDdmZmI0NDQ4MmEyMmNmMWVkOThmMDJjOTIgPSBMLnBvcHVwKHsibWF4V2lkdGgiOiAiMTAwJSJ9KTsKCiAgICAgICAgCiAgICAgICAgICAgIHZhciBodG1sX2ZhYzhkOWU2MjdkZDQ1ODU5YjhiZTZiMmNjZDBlNWZlID0gJChgPGRpdiBpZD0iaHRtbF9mYWM4ZDllNjI3ZGQ0NTg1OWI4YmU2YjJjY2QwZTVmZSIgc3R5bGU9IndpZHRoOiAxMDAuMCU7IGhlaWdodDogMTAwLjAlOyI+QmVkZm9yZCBQYXJrLCBMYXdyZW5jZSBNYW5vciBFYXN0LCBOb3J0aCBZb3JrPC9kaXY+YClbMF07CiAgICAgICAgICAgIHBvcHVwX2U0M2VjZTQ3ZmZiNDQ0ODJhMjJjZjFlZDk4ZjAyYzkyLnNldENvbnRlbnQoaHRtbF9mYWM4ZDllNjI3ZGQ0NTg1OWI4YmU2YjJjY2QwZTVmZSk7CiAgICAgICAgCgogICAgICAgIGNpcmNsZV9tYXJrZXJfZTAxY2E4ZDU5MzQ4NGYzM2FiZDBkMWFiOGY1OTJiYzQuYmluZFBvcHVwKHBvcHVwX2U0M2VjZTQ3ZmZiNDQ0ODJhMjJjZjFlZDk4ZjAyYzkyKQogICAgICAgIDsKCiAgICAgICAgCiAgICAKICAgIAogICAgICAgICAgICB2YXIgY2lyY2xlX21hcmtlcl9hMjJiM2RlOGVlNjg0NTM2OTI0N2IzNDY3NWJjMWUxNiA9IEwuY2lyY2xlTWFya2VyKAogICAgICAgICAgICAgICAgWzQzLjY5MTExNTgsIC03OS40NzYwMTMyOTk5OTk5OV0sCiAgICAgICAgICAgICAgICB7ImJ1YmJsaW5nTW91c2VFdmVudHMiOiB0cnVlLCAiY29sb3IiOiAiYmx1ZSIsICJkYXNoQXJyYXkiOiBudWxsLCAiZGFzaE9mZnNldCI6IG51bGwsICJmaWxsIjogdHJ1ZSwgImZpbGxDb2xvciI6ICIjMzE4NmNjIiwgImZpbGxPcGFjaXR5IjogMC43LCAiZmlsbFJ1bGUiOiAiZXZlbm9kZCIsICJsaW5lQ2FwIjogInJvdW5kIiwgImxpbmVKb2luIjogInJvdW5kIiwgIm9wYWNpdHkiOiAxLjAsICJyYWRpdXMiOiA1LCAic3Ryb2tlIjogdHJ1ZSwgIndlaWdodCI6IDN9CiAgICAgICAgICAgICkuYWRkVG8obWFwX2E0ODg5ZmI4MGI1ZTRlZjlhN2IzZGQwNGZhY2MwOGFjKTsKICAgICAgICAKICAgIAogICAgICAgIHZhciBwb3B1cF8wNTAzY2MwMzlhZDA0NGJjOTEwYTg4OGRjM2VjZWFmMSA9IEwucG9wdXAoeyJtYXhXaWR0aCI6ICIxMDAlIn0pOwoKICAgICAgICAKICAgICAgICAgICAgdmFyIGh0bWxfZjY1NzZlNjU1MTA2NDA5NzkzMzk5NzFmOTljODA3MWMgPSAkKGA8ZGl2IGlkPSJodG1sX2Y2NTc2ZTY1NTEwNjQwOTc5MzM5OTcxZjk5YzgwNzFjIiBzdHlsZT0id2lkdGg6IDEwMC4wJTsgaGVpZ2h0OiAxMDAuMCU7Ij5EZWwgUmF5LCBNb3VudCBEZW5uaXMsIEtlZWxzZGFsZSBhbmQgU2lsdmVydGhvcm4sIFlvcms8L2Rpdj5gKVswXTsKICAgICAgICAgICAgcG9wdXBfMDUwM2NjMDM5YWQwNDRiYzkxMGE4ODhkYzNlY2VhZjEuc2V0Q29udGVudChodG1sX2Y2NTc2ZTY1NTEwNjQwOTc5MzM5OTcxZjk5YzgwNzFjKTsKICAgICAgICAKCiAgICAgICAgY2lyY2xlX21hcmtlcl9hMjJiM2RlOGVlNjg0NTM2OTI0N2IzNDY3NWJjMWUxNi5iaW5kUG9wdXAocG9wdXBfMDUwM2NjMDM5YWQwNDRiYzkxMGE4ODhkYzNlY2VhZjEpCiAgICAgICAgOwoKICAgICAgICAKICAgIAogICAgCiAgICAgICAgICAgIHZhciBjaXJjbGVfbWFya2VyXzMyYTUxOGUyMDYxYjRiN2JiZWU0ODM1NjhlODQwOTkwID0gTC5jaXJjbGVNYXJrZXIoCiAgICAgICAgICAgICAgICBbNDMuNzI0NzY1OSwgLTc5LjUzMjI0MjQwMDAwMDAyXSwKICAgICAgICAgICAgICAgIHsiYnViYmxpbmdNb3VzZUV2ZW50cyI6IHRydWUsICJjb2xvciI6ICJibHVlIiwgImRhc2hBcnJheSI6IG51bGwsICJkYXNoT2Zmc2V0IjogbnVsbCwgImZpbGwiOiB0cnVlLCAiZmlsbENvbG9yIjogIiMzMTg2Y2MiLCAiZmlsbE9wYWNpdHkiOiAwLjcsICJmaWxsUnVsZSI6ICJldmVub2RkIiwgImxpbmVDYXAiOiAicm91bmQiLCAibGluZUpvaW4iOiAicm91bmQiLCAib3BhY2l0eSI6IDEuMCwgInJhZGl1cyI6IDUsICJzdHJva2UiOiB0cnVlLCAid2VpZ2h0IjogM30KICAgICAgICAgICAgKS5hZGRUbyhtYXBfYTQ4ODlmYjgwYjVlNGVmOWE3YjNkZDA0ZmFjYzA4YWMpOwogICAgICAgIAogICAgCiAgICAgICAgdmFyIHBvcHVwX2U3ZWJmMzlmYzI0ZTRkNTliYzkwZWJjNTc4ODRjZGU2ID0gTC5wb3B1cCh7Im1heFdpZHRoIjogIjEwMCUifSk7CgogICAgICAgIAogICAgICAgICAgICB2YXIgaHRtbF8yNzA4Nzk2OGQxOWY0YTY5YWExZjk0MTZhYmZjMTQzZiA9ICQoYDxkaXYgaWQ9Imh0bWxfMjcwODc5NjhkMTlmNGE2OWFhMWY5NDE2YWJmYzE0M2YiIHN0eWxlPSJ3aWR0aDogMTAwLjAlOyBoZWlnaHQ6IDEwMC4wJTsiPkh1bWJlcmxlYSwgRW1lcnksIE5vcnRoIFlvcms8L2Rpdj5gKVswXTsKICAgICAgICAgICAgcG9wdXBfZTdlYmYzOWZjMjRlNGQ1OWJjOTBlYmM1Nzg4NGNkZTYuc2V0Q29udGVudChodG1sXzI3MDg3OTY4ZDE5ZjRhNjlhYTFmOTQxNmFiZmMxNDNmKTsKICAgICAgICAKCiAgICAgICAgY2lyY2xlX21hcmtlcl8zMmE1MThlMjA2MWI0YjdiYmVlNDgzNTY4ZTg0MDk5MC5iaW5kUG9wdXAocG9wdXBfZTdlYmYzOWZjMjRlNGQ1OWJjOTBlYmM1Nzg4NGNkZTYpCiAgICAgICAgOwoKICAgICAgICAKICAgIAogICAgCiAgICAgICAgICAgIHZhciBjaXJjbGVfbWFya2VyXzEzOTcyYjE4MjVhMDRjOTk5MDAwMmZmYzg2NDg5YzJlID0gTC5jaXJjbGVNYXJrZXIoCiAgICAgICAgICAgICAgICBbNDMuNjkyNjU3MDAwMDAwMDA0LCAtNzkuMjY0ODQ4MV0sCiAgICAgICAgICAgICAgICB7ImJ1YmJsaW5nTW91c2VFdmVudHMiOiB0cnVlLCAiY29sb3IiOiAiYmx1ZSIsICJkYXNoQXJyYXkiOiBudWxsLCAiZGFzaE9mZnNldCI6IG51bGwsICJmaWxsIjogdHJ1ZSwgImZpbGxDb2xvciI6ICIjMzE4NmNjIiwgImZpbGxPcGFjaXR5IjogMC43LCAiZmlsbFJ1bGUiOiAiZXZlbm9kZCIsICJsaW5lQ2FwIjogInJvdW5kIiwgImxpbmVKb2luIjogInJvdW5kIiwgIm9wYWNpdHkiOiAxLjAsICJyYWRpdXMiOiA1LCAic3Ryb2tlIjogdHJ1ZSwgIndlaWdodCI6IDN9CiAgICAgICAgICAgICkuYWRkVG8obWFwX2E0ODg5ZmI4MGI1ZTRlZjlhN2IzZGQwNGZhY2MwOGFjKTsKICAgICAgICAKICAgIAogICAgICAgIHZhciBwb3B1cF82NDM1OWUwYzg1NTY0ZmRlOWRmZDE1NDM3NmM2ZWZhYyA9IEwucG9wdXAoeyJtYXhXaWR0aCI6ICIxMDAlIn0pOwoKICAgICAgICAKICAgICAgICAgICAgdmFyIGh0bWxfNWVjOWE0ZjYwODYxNGVlNWFiYzhlN2Q1NGEyZTQwZTIgPSAkKGA8ZGl2IGlkPSJodG1sXzVlYzlhNGY2MDg2MTRlZTVhYmM4ZTdkNTRhMmU0MGUyIiBzdHlsZT0id2lkdGg6IDEwMC4wJTsgaGVpZ2h0OiAxMDAuMCU7Ij5CaXJjaCBDbGlmZiwgQ2xpZmZzaWRlIFdlc3QsIFNjYXJib3JvdWdoPC9kaXY+YClbMF07CiAgICAgICAgICAgIHBvcHVwXzY0MzU5ZTBjODU1NjRmZGU5ZGZkMTU0Mzc2YzZlZmFjLnNldENvbnRlbnQoaHRtbF81ZWM5YTRmNjA4NjE0ZWU1YWJjOGU3ZDU0YTJlNDBlMik7CiAgICAgICAgCgogICAgICAgIGNpcmNsZV9tYXJrZXJfMTM5NzJiMTgyNWEwNGM5OTkwMDAyZmZjODY0ODljMmUuYmluZFBvcHVwKHBvcHVwXzY0MzU5ZTBjODU1NjRmZGU5ZGZkMTU0Mzc2YzZlZmFjKQogICAgICAgIDsKCiAgICAgICAgCiAgICAKICAgIAogICAgICAgICAgICB2YXIgY2lyY2xlX21hcmtlcl82OGMwMTViYzEzMDU0MjhkYWI4YjE5MWYwNDFhM2JiZSA9IEwuY2lyY2xlTWFya2VyKAogICAgICAgICAgICAgICAgWzQzLjc3MDExOTksIC03OS40MDg0OTI3OTk5OTk5OV0sCiAgICAgICAgICAgICAgICB7ImJ1YmJsaW5nTW91c2VFdmVudHMiOiB0cnVlLCAiY29sb3IiOiAiYmx1ZSIsICJkYXNoQXJyYXkiOiBudWxsLCAiZGFzaE9mZnNldCI6IG51bGwsICJmaWxsIjogdHJ1ZSwgImZpbGxDb2xvciI6ICIjMzE4NmNjIiwgImZpbGxPcGFjaXR5IjogMC43LCAiZmlsbFJ1bGUiOiAiZXZlbm9kZCIsICJsaW5lQ2FwIjogInJvdW5kIiwgImxpbmVKb2luIjogInJvdW5kIiwgIm9wYWNpdHkiOiAxLjAsICJyYWRpdXMiOiA1LCAic3Ryb2tlIjogdHJ1ZSwgIndlaWdodCI6IDN9CiAgICAgICAgICAgICkuYWRkVG8obWFwX2E0ODg5ZmI4MGI1ZTRlZjlhN2IzZGQwNGZhY2MwOGFjKTsKICAgICAgICAKICAgIAogICAgICAgIHZhciBwb3B1cF83N2VhMjI2ZmE5NTk0NDM1OWE3MmVmM2RhYjg4ZGRiNyA9IEwucG9wdXAoeyJtYXhXaWR0aCI6ICIxMDAlIn0pOwoKICAgICAgICAKICAgICAgICAgICAgdmFyIGh0bWxfMTU5M2Q1YTUyMDEzNDQwMWIwM2EyZDFjNzAxMmU1NWUgPSAkKGA8ZGl2IGlkPSJodG1sXzE1OTNkNWE1MjAxMzQ0MDFiMDNhMmQxYzcwMTJlNTVlIiBzdHlsZT0id2lkdGg6IDEwMC4wJTsgaGVpZ2h0OiAxMDAuMCU7Ij5XaWxsb3dkYWxlLCBXaWxsb3dkYWxlIEVhc3QsIE5vcnRoIFlvcms8L2Rpdj5gKVswXTsKICAgICAgICAgICAgcG9wdXBfNzdlYTIyNmZhOTU5NDQzNTlhNzJlZjNkYWI4OGRkYjcuc2V0Q29udGVudChodG1sXzE1OTNkNWE1MjAxMzQ0MDFiMDNhMmQxYzcwMTJlNTVlKTsKICAgICAgICAKCiAgICAgICAgY2lyY2xlX21hcmtlcl82OGMwMTViYzEzMDU0MjhkYWI4YjE5MWYwNDFhM2JiZS5iaW5kUG9wdXAocG9wdXBfNzdlYTIyNmZhOTU5NDQzNTlhNzJlZjNkYWI4OGRkYjcpCiAgICAgICAgOwoKICAgICAgICAKICAgIAogICAgCiAgICAgICAgICAgIHZhciBjaXJjbGVfbWFya2VyX2FhYmE3NTYwMmM0OTQzZThiM2JkMjFiOTk1YjRjMmY2ID0gTC5jaXJjbGVNYXJrZXIoCiAgICAgICAgICAgICAgICBbNDMuNzYxNjMxMywgLTc5LjUyMDk5OTQwMDAwMDAxXSwKICAgICAgICAgICAgICAgIHsiYnViYmxpbmdNb3VzZUV2ZW50cyI6IHRydWUsICJjb2xvciI6ICJibHVlIiwgImRhc2hBcnJheSI6IG51bGwsICJkYXNoT2Zmc2V0IjogbnVsbCwgImZpbGwiOiB0cnVlLCAiZmlsbENvbG9yIjogIiMzMTg2Y2MiLCAiZmlsbE9wYWNpdHkiOiAwLjcsICJmaWxsUnVsZSI6ICJldmVub2RkIiwgImxpbmVDYXAiOiAicm91bmQiLCAibGluZUpvaW4iOiAicm91bmQiLCAib3BhY2l0eSI6IDEuMCwgInJhZGl1cyI6IDUsICJzdHJva2UiOiB0cnVlLCAid2VpZ2h0IjogM30KICAgICAgICAgICAgKS5hZGRUbyhtYXBfYTQ4ODlmYjgwYjVlNGVmOWE3YjNkZDA0ZmFjYzA4YWMpOwogICAgICAgIAogICAgCiAgICAgICAgdmFyIHBvcHVwX2MyMGJmNmU2ZmEyNTRkNjA4OWM0ZjY3ZmIxYWVmN2I2ID0gTC5wb3B1cCh7Im1heFdpZHRoIjogIjEwMCUifSk7CgogICAgICAgIAogICAgICAgICAgICB2YXIgaHRtbF9lYTU4OThkZjBhZTQ0MzA5YWQ5Njc2M2Q4NDM4MmUzYiA9ICQoYDxkaXYgaWQ9Imh0bWxfZWE1ODk4ZGYwYWU0NDMwOWFkOTY3NjNkODQzODJlM2IiIHN0eWxlPSJ3aWR0aDogMTAwLjAlOyBoZWlnaHQ6IDEwMC4wJTsiPkRvd25zdmlldywgTm9ydGggWW9yazwvZGl2PmApWzBdOwogICAgICAgICAgICBwb3B1cF9jMjBiZjZlNmZhMjU0ZDYwODljNGY2N2ZiMWFlZjdiNi5zZXRDb250ZW50KGh0bWxfZWE1ODk4ZGYwYWU0NDMwOWFkOTY3NjNkODQzODJlM2IpOwogICAgICAgIAoKICAgICAgICBjaXJjbGVfbWFya2VyX2FhYmE3NTYwMmM0OTQzZThiM2JkMjFiOTk1YjRjMmY2LmJpbmRQb3B1cChwb3B1cF9jMjBiZjZlNmZhMjU0ZDYwODljNGY2N2ZiMWFlZjdiNikKICAgICAgICA7CgogICAgICAgIAogICAgCiAgICAKICAgICAgICAgICAgdmFyIGNpcmNsZV9tYXJrZXJfYzEyYjdjMmJjOWQxNDBkOThiZjk4ZTY0NGQ1YTRkYzYgPSBMLmNpcmNsZU1hcmtlcigKICAgICAgICAgICAgICAgIFs0My43MjgwMjA1LCAtNzkuMzg4NzkwMV0sCiAgICAgICAgICAgICAgICB7ImJ1YmJsaW5nTW91c2VFdmVudHMiOiB0cnVlLCAiY29sb3IiOiAiYmx1ZSIsICJkYXNoQXJyYXkiOiBudWxsLCAiZGFzaE9mZnNldCI6IG51bGwsICJmaWxsIjogdHJ1ZSwgImZpbGxDb2xvciI6ICIjMzE4NmNjIiwgImZpbGxPcGFjaXR5IjogMC43LCAiZmlsbFJ1bGUiOiAiZXZlbm9kZCIsICJsaW5lQ2FwIjogInJvdW5kIiwgImxpbmVKb2luIjogInJvdW5kIiwgIm9wYWNpdHkiOiAxLjAsICJyYWRpdXMiOiA1LCAic3Ryb2tlIjogdHJ1ZSwgIndlaWdodCI6IDN9CiAgICAgICAgICAgICkuYWRkVG8obWFwX2E0ODg5ZmI4MGI1ZTRlZjlhN2IzZGQwNGZhY2MwOGFjKTsKICAgICAgICAKICAgIAogICAgICAgIHZhciBwb3B1cF8yZjg2YjZmMGQ1MjU0MTQ4YTNlNjU3ZDQ0MDEyNmMwOCA9IEwucG9wdXAoeyJtYXhXaWR0aCI6ICIxMDAlIn0pOwoKICAgICAgICAKICAgICAgICAgICAgdmFyIGh0bWxfOTMwMzI5YWRmY2VjNDYzYzk0YzYwYjZkNmU3ODYyNWYgPSAkKGA8ZGl2IGlkPSJodG1sXzkzMDMyOWFkZmNlYzQ2M2M5NGM2MGI2ZDZlNzg2MjVmIiBzdHlsZT0id2lkdGg6IDEwMC4wJTsgaGVpZ2h0OiAxMDAuMCU7Ij5MYXdyZW5jZSBQYXJrLCBDZW50cmFsIFRvcm9udG88L2Rpdj5gKVswXTsKICAgICAgICAgICAgcG9wdXBfMmY4NmI2ZjBkNTI1NDE0OGEzZTY1N2Q0NDAxMjZjMDguc2V0Q29udGVudChodG1sXzkzMDMyOWFkZmNlYzQ2M2M5NGM2MGI2ZDZlNzg2MjVmKTsKICAgICAgICAKCiAgICAgICAgY2lyY2xlX21hcmtlcl9jMTJiN2MyYmM5ZDE0MGQ5OGJmOThlNjQ0ZDVhNGRjNi5iaW5kUG9wdXAocG9wdXBfMmY4NmI2ZjBkNTI1NDE0OGEzZTY1N2Q0NDAxMjZjMDgpCiAgICAgICAgOwoKICAgICAgICAKICAgIAogICAgCiAgICAgICAgICAgIHZhciBjaXJjbGVfbWFya2VyXzU0NmU3MDJiZGYxYTQ3MTc4MWNhZjI0OWQ0ZGRhZDQwID0gTC5jaXJjbGVNYXJrZXIoCiAgICAgICAgICAgICAgICBbNDMuNzExNjk0OCwgLTc5LjQxNjkzNTU5OTk5OTk5XSwKICAgICAgICAgICAgICAgIHsiYnViYmxpbmdNb3VzZUV2ZW50cyI6IHRydWUsICJjb2xvciI6ICJibHVlIiwgImRhc2hBcnJheSI6IG51bGwsICJkYXNoT2Zmc2V0IjogbnVsbCwgImZpbGwiOiB0cnVlLCAiZmlsbENvbG9yIjogIiMzMTg2Y2MiLCAiZmlsbE9wYWNpdHkiOiAwLjcsICJmaWxsUnVsZSI6ICJldmVub2RkIiwgImxpbmVDYXAiOiAicm91bmQiLCAibGluZUpvaW4iOiAicm91bmQiLCAib3BhY2l0eSI6IDEuMCwgInJhZGl1cyI6IDUsICJzdHJva2UiOiB0cnVlLCAid2VpZ2h0IjogM30KICAgICAgICAgICAgKS5hZGRUbyhtYXBfYTQ4ODlmYjgwYjVlNGVmOWE3YjNkZDA0ZmFjYzA4YWMpOwogICAgICAgIAogICAgCiAgICAgICAgdmFyIHBvcHVwX2ZiYThmYmE3NDBmYjQzOTE4ZmRmZjBhOWY4OTEzOGI0ID0gTC5wb3B1cCh7Im1heFdpZHRoIjogIjEwMCUifSk7CgogICAgICAgIAogICAgICAgICAgICB2YXIgaHRtbF80Mjk1ZTAxNGI2NTE0MzFhOGVhYzRiODQyNzhlMWViNCA9ICQoYDxkaXYgaWQ9Imh0bWxfNDI5NWUwMTRiNjUxNDMxYThlYWM0Yjg0Mjc4ZTFlYjQiIHN0eWxlPSJ3aWR0aDogMTAwLjAlOyBoZWlnaHQ6IDEwMC4wJTsiPlJvc2VsYXduLCBDZW50cmFsIFRvcm9udG88L2Rpdj5gKVswXTsKICAgICAgICAgICAgcG9wdXBfZmJhOGZiYTc0MGZiNDM5MThmZGZmMGE5Zjg5MTM4YjQuc2V0Q29udGVudChodG1sXzQyOTVlMDE0YjY1MTQzMWE4ZWFjNGI4NDI3OGUxZWI0KTsKICAgICAgICAKCiAgICAgICAgY2lyY2xlX21hcmtlcl81NDZlNzAyYmRmMWE0NzE3ODFjYWYyNDlkNGRkYWQ0MC5iaW5kUG9wdXAocG9wdXBfZmJhOGZiYTc0MGZiNDM5MThmZGZmMGE5Zjg5MTM4YjQpCiAgICAgICAgOwoKICAgICAgICAKICAgIAogICAgCiAgICAgICAgICAgIHZhciBjaXJjbGVfbWFya2VyXzFjZTE5OGMyOTY2ZDRiMDY4MTExMGM3NDBlZjViYzA0ID0gTC5jaXJjbGVNYXJrZXIoCiAgICAgICAgICAgICAgICBbNDMuNjczMTg1Mjk5OTk5OTksIC03OS40ODcyNjE5MDAwMDAwMV0sCiAgICAgICAgICAgICAgICB7ImJ1YmJsaW5nTW91c2VFdmVudHMiOiB0cnVlLCAiY29sb3IiOiAiYmx1ZSIsICJkYXNoQXJyYXkiOiBudWxsLCAiZGFzaE9mZnNldCI6IG51bGwsICJmaWxsIjogdHJ1ZSwgImZpbGxDb2xvciI6ICIjMzE4NmNjIiwgImZpbGxPcGFjaXR5IjogMC43LCAiZmlsbFJ1bGUiOiAiZXZlbm9kZCIsICJsaW5lQ2FwIjogInJvdW5kIiwgImxpbmVKb2luIjogInJvdW5kIiwgIm9wYWNpdHkiOiAxLjAsICJyYWRpdXMiOiA1LCAic3Ryb2tlIjogdHJ1ZSwgIndlaWdodCI6IDN9CiAgICAgICAgICAgICkuYWRkVG8obWFwX2E0ODg5ZmI4MGI1ZTRlZjlhN2IzZGQwNGZhY2MwOGFjKTsKICAgICAgICAKICAgIAogICAgICAgIHZhciBwb3B1cF85NDUyYmEzMjVmMTU0OWM5YWU0YWYzZmZkNzFiY2M0YiA9IEwucG9wdXAoeyJtYXhXaWR0aCI6ICIxMDAlIn0pOwoKICAgICAgICAKICAgICAgICAgICAgdmFyIGh0bWxfMGUwZDdjMjVmMmNmNDE1NDlkNDBjMGJkYjRjZDBlN2UgPSAkKGA8ZGl2IGlkPSJodG1sXzBlMGQ3YzI1ZjJjZjQxNTQ5ZDQwYzBiZGI0Y2QwZTdlIiBzdHlsZT0id2lkdGg6IDEwMC4wJTsgaGVpZ2h0OiAxMDAuMCU7Ij5SdW5ueW1lZGUsIFRoZSBKdW5jdGlvbiBOb3J0aCwgWW9yazwvZGl2PmApWzBdOwogICAgICAgICAgICBwb3B1cF85NDUyYmEzMjVmMTU0OWM5YWU0YWYzZmZkNzFiY2M0Yi5zZXRDb250ZW50KGh0bWxfMGUwZDdjMjVmMmNmNDE1NDlkNDBjMGJkYjRjZDBlN2UpOwogICAgICAgIAoKICAgICAgICBjaXJjbGVfbWFya2VyXzFjZTE5OGMyOTY2ZDRiMDY4MTExMGM3NDBlZjViYzA0LmJpbmRQb3B1cChwb3B1cF85NDUyYmEzMjVmMTU0OWM5YWU0YWYzZmZkNzFiY2M0YikKICAgICAgICA7CgogICAgICAgIAogICAgCiAgICAKICAgICAgICAgICAgdmFyIGNpcmNsZV9tYXJrZXJfN2YzZmUwODU0ZWEyNDQzMTkwZDkyZTFkMzQ3MWM4YjYgPSBMLmNpcmNsZU1hcmtlcigKICAgICAgICAgICAgICAgIFs0My43MDY4NzYsIC03OS41MTgxODg0MDAwMDAwMV0sCiAgICAgICAgICAgICAgICB7ImJ1YmJsaW5nTW91c2VFdmVudHMiOiB0cnVlLCAiY29sb3IiOiAiYmx1ZSIsICJkYXNoQXJyYXkiOiBudWxsLCAiZGFzaE9mZnNldCI6IG51bGwsICJmaWxsIjogdHJ1ZSwgImZpbGxDb2xvciI6ICIjMzE4NmNjIiwgImZpbGxPcGFjaXR5IjogMC43LCAiZmlsbFJ1bGUiOiAiZXZlbm9kZCIsICJsaW5lQ2FwIjogInJvdW5kIiwgImxpbmVKb2luIjogInJvdW5kIiwgIm9wYWNpdHkiOiAxLjAsICJyYWRpdXMiOiA1LCAic3Ryb2tlIjogdHJ1ZSwgIndlaWdodCI6IDN9CiAgICAgICAgICAgICkuYWRkVG8obWFwX2E0ODg5ZmI4MGI1ZTRlZjlhN2IzZGQwNGZhY2MwOGFjKTsKICAgICAgICAKICAgIAogICAgICAgIHZhciBwb3B1cF8yOWVjMDEwMTRjNGE0YWRlYmRmOTIyMTk3ODUwNTMyOSA9IEwucG9wdXAoeyJtYXhXaWR0aCI6ICIxMDAlIn0pOwoKICAgICAgICAKICAgICAgICAgICAgdmFyIGh0bWxfYmM1NWIwNzkwMzkzNDk1YTlmNjMwYTg1ZjEyMTE0MDIgPSAkKGA8ZGl2IGlkPSJodG1sX2JjNTViMDc5MDM5MzQ5NWE5ZjYzMGE4NWYxMjExNDAyIiBzdHlsZT0id2lkdGg6IDEwMC4wJTsgaGVpZ2h0OiAxMDAuMCU7Ij5XZXN0b24sIFlvcms8L2Rpdj5gKVswXTsKICAgICAgICAgICAgcG9wdXBfMjllYzAxMDE0YzRhNGFkZWJkZjkyMjE5Nzg1MDUzMjkuc2V0Q29udGVudChodG1sX2JjNTViMDc5MDM5MzQ5NWE5ZjYzMGE4NWYxMjExNDAyKTsKICAgICAgICAKCiAgICAgICAgY2lyY2xlX21hcmtlcl83ZjNmZTA4NTRlYTI0NDMxOTBkOTJlMWQzNDcxYzhiNi5iaW5kUG9wdXAocG9wdXBfMjllYzAxMDE0YzRhNGFkZWJkZjkyMjE5Nzg1MDUzMjkpCiAgICAgICAgOwoKICAgICAgICAKICAgIAogICAgCiAgICAgICAgICAgIHZhciBjaXJjbGVfbWFya2VyXzU3MDU1ODVhOWEzYTQyNjhiNWQ4MjFmMjQzMmRjZjVmID0gTC5jaXJjbGVNYXJrZXIoCiAgICAgICAgICAgICAgICBbNDMuNzU3NDA5NiwgLTc5LjI3MzMwNDAwMDAwMDAxXSwKICAgICAgICAgICAgICAgIHsiYnViYmxpbmdNb3VzZUV2ZW50cyI6IHRydWUsICJjb2xvciI6ICJibHVlIiwgImRhc2hBcnJheSI6IG51bGwsICJkYXNoT2Zmc2V0IjogbnVsbCwgImZpbGwiOiB0cnVlLCAiZmlsbENvbG9yIjogIiMzMTg2Y2MiLCAiZmlsbE9wYWNpdHkiOiAwLjcsICJmaWxsUnVsZSI6ICJldmVub2RkIiwgImxpbmVDYXAiOiAicm91bmQiLCAibGluZUpvaW4iOiAicm91bmQiLCAib3BhY2l0eSI6IDEuMCwgInJhZGl1cyI6IDUsICJzdHJva2UiOiB0cnVlLCAid2VpZ2h0IjogM30KICAgICAgICAgICAgKS5hZGRUbyhtYXBfYTQ4ODlmYjgwYjVlNGVmOWE3YjNkZDA0ZmFjYzA4YWMpOwogICAgICAgIAogICAgCiAgICAgICAgdmFyIHBvcHVwXzk4Yzg1NDE5NzY4NjRjMWViZGVjOGEzMjk5MjE4YjM3ID0gTC5wb3B1cCh7Im1heFdpZHRoIjogIjEwMCUifSk7CgogICAgICAgIAogICAgICAgICAgICB2YXIgaHRtbF8wNzVlYjg0YzVkMGI0Y2U1ODk3NTE3YTk4Y2M0N2U2YSA9ICQoYDxkaXYgaWQ9Imh0bWxfMDc1ZWI4NGM1ZDBiNGNlNTg5NzUxN2E5OGNjNDdlNmEiIHN0eWxlPSJ3aWR0aDogMTAwLjAlOyBoZWlnaHQ6IDEwMC4wJTsiPkRvcnNldCBQYXJrLCBXZXhmb3JkIEhlaWdodHMsIFNjYXJib3JvdWdoIFRvd24gQ2VudHJlLCBTY2FyYm9yb3VnaDwvZGl2PmApWzBdOwogICAgICAgICAgICBwb3B1cF85OGM4NTQxOTc2ODY0YzFlYmRlYzhhMzI5OTIxOGIzNy5zZXRDb250ZW50KGh0bWxfMDc1ZWI4NGM1ZDBiNGNlNTg5NzUxN2E5OGNjNDdlNmEpOwogICAgICAgIAoKICAgICAgICBjaXJjbGVfbWFya2VyXzU3MDU1ODVhOWEzYTQyNjhiNWQ4MjFmMjQzMmRjZjVmLmJpbmRQb3B1cChwb3B1cF85OGM4NTQxOTc2ODY0YzFlYmRlYzhhMzI5OTIxOGIzNykKICAgICAgICA7CgogICAgICAgIAogICAgCiAgICAKICAgICAgICAgICAgdmFyIGNpcmNsZV9tYXJrZXJfZjNhZGYwMzZmOTY5NDRmMDg3MzNhYThiYWQzOGJkOGIgPSBMLmNpcmNsZU1hcmtlcigKICAgICAgICAgICAgICAgIFs0My43NTI3NTgyOTk5OTk5OTYsIC03OS40MDAwNDkzXSwKICAgICAgICAgICAgICAgIHsiYnViYmxpbmdNb3VzZUV2ZW50cyI6IHRydWUsICJjb2xvciI6ICJibHVlIiwgImRhc2hBcnJheSI6IG51bGwsICJkYXNoT2Zmc2V0IjogbnVsbCwgImZpbGwiOiB0cnVlLCAiZmlsbENvbG9yIjogIiMzMTg2Y2MiLCAiZmlsbE9wYWNpdHkiOiAwLjcsICJmaWxsUnVsZSI6ICJldmVub2RkIiwgImxpbmVDYXAiOiAicm91bmQiLCAibGluZUpvaW4iOiAicm91bmQiLCAib3BhY2l0eSI6IDEuMCwgInJhZGl1cyI6IDUsICJzdHJva2UiOiB0cnVlLCAid2VpZ2h0IjogM30KICAgICAgICAgICAgKS5hZGRUbyhtYXBfYTQ4ODlmYjgwYjVlNGVmOWE3YjNkZDA0ZmFjYzA4YWMpOwogICAgICAgIAogICAgCiAgICAgICAgdmFyIHBvcHVwXzdiMjEzZWU1Y2Q5NTQyMDI5ZDk4YmE3ZDAwMWYwNGVkID0gTC5wb3B1cCh7Im1heFdpZHRoIjogIjEwMCUifSk7CgogICAgICAgIAogICAgICAgICAgICB2YXIgaHRtbF83ZjZmY2QzODQ1NDU0ZjA3YTIzODdlMDc2MDhlMDRkYyA9ICQoYDxkaXYgaWQ9Imh0bWxfN2Y2ZmNkMzg0NTQ1NGYwN2EyMzg3ZTA3NjA4ZTA0ZGMiIHN0eWxlPSJ3aWR0aDogMTAwLjAlOyBoZWlnaHQ6IDEwMC4wJTsiPllvcmsgTWlsbHMgV2VzdCwgTm9ydGggWW9yazwvZGl2PmApWzBdOwogICAgICAgICAgICBwb3B1cF83YjIxM2VlNWNkOTU0MjAyOWQ5OGJhN2QwMDFmMDRlZC5zZXRDb250ZW50KGh0bWxfN2Y2ZmNkMzg0NTQ1NGYwN2EyMzg3ZTA3NjA4ZTA0ZGMpOwogICAgICAgIAoKICAgICAgICBjaXJjbGVfbWFya2VyX2YzYWRmMDM2Zjk2OTQ0ZjA4NzMzYWE4YmFkMzhiZDhiLmJpbmRQb3B1cChwb3B1cF83YjIxM2VlNWNkOTU0MjAyOWQ5OGJhN2QwMDFmMDRlZCkKICAgICAgICA7CgogICAgICAgIAogICAgCiAgICAKICAgICAgICAgICAgdmFyIGNpcmNsZV9tYXJrZXJfZDBhZDcyZTc1NzIwNGZkOGFkNzM3MDY1Mzg0NDVmYTggPSBMLmNpcmNsZU1hcmtlcigKICAgICAgICAgICAgICAgIFs0My43MTI3NTExLCAtNzkuMzkwMTk3NV0sCiAgICAgICAgICAgICAgICB7ImJ1YmJsaW5nTW91c2VFdmVudHMiOiB0cnVlLCAiY29sb3IiOiAiYmx1ZSIsICJkYXNoQXJyYXkiOiBudWxsLCAiZGFzaE9mZnNldCI6IG51bGwsICJmaWxsIjogdHJ1ZSwgImZpbGxDb2xvciI6ICIjMzE4NmNjIiwgImZpbGxPcGFjaXR5IjogMC43LCAiZmlsbFJ1bGUiOiAiZXZlbm9kZCIsICJsaW5lQ2FwIjogInJvdW5kIiwgImxpbmVKb2luIjogInJvdW5kIiwgIm9wYWNpdHkiOiAxLjAsICJyYWRpdXMiOiA1LCAic3Ryb2tlIjogdHJ1ZSwgIndlaWdodCI6IDN9CiAgICAgICAgICAgICkuYWRkVG8obWFwX2E0ODg5ZmI4MGI1ZTRlZjlhN2IzZGQwNGZhY2MwOGFjKTsKICAgICAgICAKICAgIAogICAgICAgIHZhciBwb3B1cF83ZmMwMzVjZDRhMzU0MTJmODUwYmRmODc1NDg1OTczZSA9IEwucG9wdXAoeyJtYXhXaWR0aCI6ICIxMDAlIn0pOwoKICAgICAgICAKICAgICAgICAgICAgdmFyIGh0bWxfMjRiOWE0MThlNTE0NDgzOGEwZjhhMmQwZWFlNjY1NzIgPSAkKGA8ZGl2IGlkPSJodG1sXzI0YjlhNDE4ZTUxNDQ4MzhhMGY4YTJkMGVhZTY2NTcyIiBzdHlsZT0id2lkdGg6IDEwMC4wJTsgaGVpZ2h0OiAxMDAuMCU7Ij5EYXZpc3ZpbGxlIE5vcnRoLCBDZW50cmFsIFRvcm9udG88L2Rpdj5gKVswXTsKICAgICAgICAgICAgcG9wdXBfN2ZjMDM1Y2Q0YTM1NDEyZjg1MGJkZjg3NTQ4NTk3M2Uuc2V0Q29udGVudChodG1sXzI0YjlhNDE4ZTUxNDQ4MzhhMGY4YTJkMGVhZTY2NTcyKTsKICAgICAgICAKCiAgICAgICAgY2lyY2xlX21hcmtlcl9kMGFkNzJlNzU3MjA0ZmQ4YWQ3MzcwNjUzODQ0NWZhOC5iaW5kUG9wdXAocG9wdXBfN2ZjMDM1Y2Q0YTM1NDEyZjg1MGJkZjg3NTQ4NTk3M2UpCiAgICAgICAgOwoKICAgICAgICAKICAgIAogICAgCiAgICAgICAgICAgIHZhciBjaXJjbGVfbWFya2VyX2E3ZTk5ZDQwYjQzZTQ2MWVhMDMyODdhMzljNTI5MmU4ID0gTC5jaXJjbGVNYXJrZXIoCiAgICAgICAgICAgICAgICBbNDMuNjk2OTQ3NiwgLTc5LjQxMTMwNzIwMDAwMDAxXSwKICAgICAgICAgICAgICAgIHsiYnViYmxpbmdNb3VzZUV2ZW50cyI6IHRydWUsICJjb2xvciI6ICJibHVlIiwgImRhc2hBcnJheSI6IG51bGwsICJkYXNoT2Zmc2V0IjogbnVsbCwgImZpbGwiOiB0cnVlLCAiZmlsbENvbG9yIjogIiMzMTg2Y2MiLCAiZmlsbE9wYWNpdHkiOiAwLjcsICJmaWxsUnVsZSI6ICJldmVub2RkIiwgImxpbmVDYXAiOiAicm91bmQiLCAibGluZUpvaW4iOiAicm91bmQiLCAib3BhY2l0eSI6IDEuMCwgInJhZGl1cyI6IDUsICJzdHJva2UiOiB0cnVlLCAid2VpZ2h0IjogM30KICAgICAgICAgICAgKS5hZGRUbyhtYXBfYTQ4ODlmYjgwYjVlNGVmOWE3YjNkZDA0ZmFjYzA4YWMpOwogICAgICAgIAogICAgCiAgICAgICAgdmFyIHBvcHVwXzZmYjkzNWU2Zjc5NDRlOTY4OTYwYWJjYTdlN2FkZWJmID0gTC5wb3B1cCh7Im1heFdpZHRoIjogIjEwMCUifSk7CgogICAgICAgIAogICAgICAgICAgICB2YXIgaHRtbF81YTdjYTViMzE5ZmM0M2Y4ODllYTNhNDkwMDQxNjkxNCA9ICQoYDxkaXYgaWQ9Imh0bWxfNWE3Y2E1YjMxOWZjNDNmODg5ZWEzYTQ5MDA0MTY5MTQiIHN0eWxlPSJ3aWR0aDogMTAwLjAlOyBoZWlnaHQ6IDEwMC4wJTsiPkZvcmVzdCBIaWxsIE5vcnRoICZhbXA7IFdlc3QsIEZvcmVzdCBIaWxsIFJvYWQgUGFyaywgQ2VudHJhbCBUb3JvbnRvPC9kaXY+YClbMF07CiAgICAgICAgICAgIHBvcHVwXzZmYjkzNWU2Zjc5NDRlOTY4OTYwYWJjYTdlN2FkZWJmLnNldENvbnRlbnQoaHRtbF81YTdjYTViMzE5ZmM0M2Y4ODllYTNhNDkwMDQxNjkxNCk7CiAgICAgICAgCgogICAgICAgIGNpcmNsZV9tYXJrZXJfYTdlOTlkNDBiNDNlNDYxZWEwMzI4N2EzOWM1MjkyZTguYmluZFBvcHVwKHBvcHVwXzZmYjkzNWU2Zjc5NDRlOTY4OTYwYWJjYTdlN2FkZWJmKQogICAgICAgIDsKCiAgICAgICAgCiAgICAKICAgIAogICAgICAgICAgICB2YXIgY2lyY2xlX21hcmtlcl8wYzU5ZDZjMmYyYWI0ZGE4YmZlZjEyN2MwY2JhMTUxMSA9IEwuY2lyY2xlTWFya2VyKAogICAgICAgICAgICAgICAgWzQzLjY2MTYwODMsIC03OS40NjQ3NjMyOTk5OTk5OV0sCiAgICAgICAgICAgICAgICB7ImJ1YmJsaW5nTW91c2VFdmVudHMiOiB0cnVlLCAiY29sb3IiOiAiYmx1ZSIsICJkYXNoQXJyYXkiOiBudWxsLCAiZGFzaE9mZnNldCI6IG51bGwsICJmaWxsIjogdHJ1ZSwgImZpbGxDb2xvciI6ICIjMzE4NmNjIiwgImZpbGxPcGFjaXR5IjogMC43LCAiZmlsbFJ1bGUiOiAiZXZlbm9kZCIsICJsaW5lQ2FwIjogInJvdW5kIiwgImxpbmVKb2luIjogInJvdW5kIiwgIm9wYWNpdHkiOiAxLjAsICJyYWRpdXMiOiA1LCAic3Ryb2tlIjogdHJ1ZSwgIndlaWdodCI6IDN9CiAgICAgICAgICAgICkuYWRkVG8obWFwX2E0ODg5ZmI4MGI1ZTRlZjlhN2IzZGQwNGZhY2MwOGFjKTsKICAgICAgICAKICAgIAogICAgICAgIHZhciBwb3B1cF9kMjJjMjdhNzUzMGE0M2JmODVmNzg1ZGJlNzBmYWQyOCA9IEwucG9wdXAoeyJtYXhXaWR0aCI6ICIxMDAlIn0pOwoKICAgICAgICAKICAgICAgICAgICAgdmFyIGh0bWxfOTU3OTAzODI1ZjFmNDc4MGFmYzEzZTNiM2FiYWZmNTMgPSAkKGA8ZGl2IGlkPSJodG1sXzk1NzkwMzgyNWYxZjQ3ODBhZmMxM2UzYjNhYmFmZjUzIiBzdHlsZT0id2lkdGg6IDEwMC4wJTsgaGVpZ2h0OiAxMDAuMCU7Ij5IaWdoIFBhcmssIFRoZSBKdW5jdGlvbiBTb3V0aCwgV2VzdCBUb3JvbnRvPC9kaXY+YClbMF07CiAgICAgICAgICAgIHBvcHVwX2QyMmMyN2E3NTMwYTQzYmY4NWY3ODVkYmU3MGZhZDI4LnNldENvbnRlbnQoaHRtbF85NTc5MDM4MjVmMWY0NzgwYWZjMTNlM2IzYWJhZmY1Myk7CiAgICAgICAgCgogICAgICAgIGNpcmNsZV9tYXJrZXJfMGM1OWQ2YzJmMmFiNGRhOGJmZWYxMjdjMGNiYTE1MTEuYmluZFBvcHVwKHBvcHVwX2QyMmMyN2E3NTMwYTQzYmY4NWY3ODVkYmU3MGZhZDI4KQogICAgICAgIDsKCiAgICAgICAgCiAgICAKICAgIAogICAgICAgICAgICB2YXIgY2lyY2xlX21hcmtlcl80ZTNiZGQ3ZDkxZTk0NDA0YmRiMDljNTliM2U2NTg4OSA9IEwuY2lyY2xlTWFya2VyKAogICAgICAgICAgICAgICAgWzQzLjY5NjMxOSwgLTc5LjUzMjI0MjQwMDAwMDAyXSwKICAgICAgICAgICAgICAgIHsiYnViYmxpbmdNb3VzZUV2ZW50cyI6IHRydWUsICJjb2xvciI6ICJibHVlIiwgImRhc2hBcnJheSI6IG51bGwsICJkYXNoT2Zmc2V0IjogbnVsbCwgImZpbGwiOiB0cnVlLCAiZmlsbENvbG9yIjogIiMzMTg2Y2MiLCAiZmlsbE9wYWNpdHkiOiAwLjcsICJmaWxsUnVsZSI6ICJldmVub2RkIiwgImxpbmVDYXAiOiAicm91bmQiLCAibGluZUpvaW4iOiAicm91bmQiLCAib3BhY2l0eSI6IDEuMCwgInJhZGl1cyI6IDUsICJzdHJva2UiOiB0cnVlLCAid2VpZ2h0IjogM30KICAgICAgICAgICAgKS5hZGRUbyhtYXBfYTQ4ODlmYjgwYjVlNGVmOWE3YjNkZDA0ZmFjYzA4YWMpOwogICAgICAgIAogICAgCiAgICAgICAgdmFyIHBvcHVwXzNkNzZlZTJhYmM2MTQ4YjVhMTdmNWMwMTgzMjk1Yzk4ID0gTC5wb3B1cCh7Im1heFdpZHRoIjogIjEwMCUifSk7CgogICAgICAgIAogICAgICAgICAgICB2YXIgaHRtbF9iZmE5N2E5ZTllZDg0NmI1ODNmZGQ1NDYzZTk3NmQ2ZSA9ICQoYDxkaXYgaWQ9Imh0bWxfYmZhOTdhOWU5ZWQ4NDZiNTgzZmRkNTQ2M2U5NzZkNmUiIHN0eWxlPSJ3aWR0aDogMTAwLjAlOyBoZWlnaHQ6IDEwMC4wJTsiPldlc3Rtb3VudCwgRXRvYmljb2tlPC9kaXY+YClbMF07CiAgICAgICAgICAgIHBvcHVwXzNkNzZlZTJhYmM2MTQ4YjVhMTdmNWMwMTgzMjk1Yzk4LnNldENvbnRlbnQoaHRtbF9iZmE5N2E5ZTllZDg0NmI1ODNmZGQ1NDYzZTk3NmQ2ZSk7CiAgICAgICAgCgogICAgICAgIGNpcmNsZV9tYXJrZXJfNGUzYmRkN2Q5MWU5NDQwNGJkYjA5YzU5YjNlNjU4ODkuYmluZFBvcHVwKHBvcHVwXzNkNzZlZTJhYmM2MTQ4YjVhMTdmNWMwMTgzMjk1Yzk4KQogICAgICAgIDsKCiAgICAgICAgCiAgICAKICAgIAogICAgICAgICAgICB2YXIgY2lyY2xlX21hcmtlcl9jODE1OTNiZTExOTQ0MDc3ODMxYzQzN2YyZDIyZDZhMSA9IEwuY2lyY2xlTWFya2VyKAogICAgICAgICAgICAgICAgWzQzLjc1MDA3MTUwMDAwMDAwNCwgLTc5LjI5NTg0OTFdLAogICAgICAgICAgICAgICAgeyJidWJibGluZ01vdXNlRXZlbnRzIjogdHJ1ZSwgImNvbG9yIjogImJsdWUiLCAiZGFzaEFycmF5IjogbnVsbCwgImRhc2hPZmZzZXQiOiBudWxsLCAiZmlsbCI6IHRydWUsICJmaWxsQ29sb3IiOiAiIzMxODZjYyIsICJmaWxsT3BhY2l0eSI6IDAuNywgImZpbGxSdWxlIjogImV2ZW5vZGQiLCAibGluZUNhcCI6ICJyb3VuZCIsICJsaW5lSm9pbiI6ICJyb3VuZCIsICJvcGFjaXR5IjogMS4wLCAicmFkaXVzIjogNSwgInN0cm9rZSI6IHRydWUsICJ3ZWlnaHQiOiAzfQogICAgICAgICAgICApLmFkZFRvKG1hcF9hNDg4OWZiODBiNWU0ZWY5YTdiM2RkMDRmYWNjMDhhYyk7CiAgICAgICAgCiAgICAKICAgICAgICB2YXIgcG9wdXBfMDVlNjRkM2UwNDUzNDc4Njg1NTEzZmUxN2QxMzZlYmQgPSBMLnBvcHVwKHsibWF4V2lkdGgiOiAiMTAwJSJ9KTsKCiAgICAgICAgCiAgICAgICAgICAgIHZhciBodG1sXzJhY2E1MjFmMWVlZjQ1NjBiOTY1YmFjOGNlYzk1ZjAwID0gJChgPGRpdiBpZD0iaHRtbF8yYWNhNTIxZjFlZWY0NTYwYjk2NWJhYzhjZWM5NWYwMCIgc3R5bGU9IndpZHRoOiAxMDAuMCU7IGhlaWdodDogMTAwLjAlOyI+V2V4Zm9yZCwgTWFyeXZhbGUsIFNjYXJib3JvdWdoPC9kaXY+YClbMF07CiAgICAgICAgICAgIHBvcHVwXzA1ZTY0ZDNlMDQ1MzQ3ODY4NTUxM2ZlMTdkMTM2ZWJkLnNldENvbnRlbnQoaHRtbF8yYWNhNTIxZjFlZWY0NTYwYjk2NWJhYzhjZWM5NWYwMCk7CiAgICAgICAgCgogICAgICAgIGNpcmNsZV9tYXJrZXJfYzgxNTkzYmUxMTk0NDA3NzgzMWM0MzdmMmQyMmQ2YTEuYmluZFBvcHVwKHBvcHVwXzA1ZTY0ZDNlMDQ1MzQ3ODY4NTUxM2ZlMTdkMTM2ZWJkKQogICAgICAgIDsKCiAgICAgICAgCiAgICAKICAgIAogICAgICAgICAgICB2YXIgY2lyY2xlX21hcmtlcl84ZTQxYWVmODg2ZWY0NWZkOGU3NzA0NWM4MGViOWExMiA9IEwuY2lyY2xlTWFya2VyKAogICAgICAgICAgICAgICAgWzQzLjc4MjczNjQsIC03OS40NDIyNTkzXSwKICAgICAgICAgICAgICAgIHsiYnViYmxpbmdNb3VzZUV2ZW50cyI6IHRydWUsICJjb2xvciI6ICJibHVlIiwgImRhc2hBcnJheSI6IG51bGwsICJkYXNoT2Zmc2V0IjogbnVsbCwgImZpbGwiOiB0cnVlLCAiZmlsbENvbG9yIjogIiMzMTg2Y2MiLCAiZmlsbE9wYWNpdHkiOiAwLjcsICJmaWxsUnVsZSI6ICJldmVub2RkIiwgImxpbmVDYXAiOiAicm91bmQiLCAibGluZUpvaW4iOiAicm91bmQiLCAib3BhY2l0eSI6IDEuMCwgInJhZGl1cyI6IDUsICJzdHJva2UiOiB0cnVlLCAid2VpZ2h0IjogM30KICAgICAgICAgICAgKS5hZGRUbyhtYXBfYTQ4ODlmYjgwYjVlNGVmOWE3YjNkZDA0ZmFjYzA4YWMpOwogICAgICAgIAogICAgCiAgICAgICAgdmFyIHBvcHVwXzdmYzE5OGJkYmZhZjQ0YWFhOGM4Yzg5YzUwMGJiZTBhID0gTC5wb3B1cCh7Im1heFdpZHRoIjogIjEwMCUifSk7CgogICAgICAgIAogICAgICAgICAgICB2YXIgaHRtbF8xYTBhNTUxY2IzMGI0MTg1YjFjYzljMmY5YWYwZTY1OSA9ICQoYDxkaXYgaWQ9Imh0bWxfMWEwYTU1MWNiMzBiNDE4NWIxY2M5YzJmOWFmMGU2NTkiIHN0eWxlPSJ3aWR0aDogMTAwLjAlOyBoZWlnaHQ6IDEwMC4wJTsiPldpbGxvd2RhbGUsIFdpbGxvd2RhbGUgV2VzdCwgTm9ydGggWW9yazwvZGl2PmApWzBdOwogICAgICAgICAgICBwb3B1cF83ZmMxOThiZGJmYWY0NGFhYThjOGM4OWM1MDBiYmUwYS5zZXRDb250ZW50KGh0bWxfMWEwYTU1MWNiMzBiNDE4NWIxY2M5YzJmOWFmMGU2NTkpOwogICAgICAgIAoKICAgICAgICBjaXJjbGVfbWFya2VyXzhlNDFhZWY4ODZlZjQ1ZmQ4ZTc3MDQ1YzgwZWI5YTEyLmJpbmRQb3B1cChwb3B1cF83ZmMxOThiZGJmYWY0NGFhYThjOGM4OWM1MDBiYmUwYSkKICAgICAgICA7CgogICAgICAgIAogICAgCiAgICAKICAgICAgICAgICAgdmFyIGNpcmNsZV9tYXJrZXJfNzNiNGMyODUzNmU2NGI1NThjMjY1Nzc5NzBlMWMxNjIgPSBMLmNpcmNsZU1hcmtlcigKICAgICAgICAgICAgICAgIFs0My43MTUzODM0LCAtNzkuNDA1Njc4NDAwMDAwMDFdLAogICAgICAgICAgICAgICAgeyJidWJibGluZ01vdXNlRXZlbnRzIjogdHJ1ZSwgImNvbG9yIjogImJsdWUiLCAiZGFzaEFycmF5IjogbnVsbCwgImRhc2hPZmZzZXQiOiBudWxsLCAiZmlsbCI6IHRydWUsICJmaWxsQ29sb3IiOiAiIzMxODZjYyIsICJmaWxsT3BhY2l0eSI6IDAuNywgImZpbGxSdWxlIjogImV2ZW5vZGQiLCAibGluZUNhcCI6ICJyb3VuZCIsICJsaW5lSm9pbiI6ICJyb3VuZCIsICJvcGFjaXR5IjogMS4wLCAicmFkaXVzIjogNSwgInN0cm9rZSI6IHRydWUsICJ3ZWlnaHQiOiAzfQogICAgICAgICAgICApLmFkZFRvKG1hcF9hNDg4OWZiODBiNWU0ZWY5YTdiM2RkMDRmYWNjMDhhYyk7CiAgICAgICAgCiAgICAKICAgICAgICB2YXIgcG9wdXBfYTQyYTFmNTJlNTE1NDdlMTg3NmQ3Zjc3MTA5ZWYzYzYgPSBMLnBvcHVwKHsibWF4V2lkdGgiOiAiMTAwJSJ9KTsKCiAgICAgICAgCiAgICAgICAgICAgIHZhciBodG1sXzkzNGM3MTA2NDhiMjRkMjliZWU2OWZlNDRjNjY4MjE3ID0gJChgPGRpdiBpZD0iaHRtbF85MzRjNzEwNjQ4YjI0ZDI5YmVlNjlmZTQ0YzY2ODIxNyIgc3R5bGU9IndpZHRoOiAxMDAuMCU7IGhlaWdodDogMTAwLjAlOyI+Tm9ydGggVG9yb250byBXZXN0LCAgTGF3cmVuY2UgUGFyaywgQ2VudHJhbCBUb3JvbnRvPC9kaXY+YClbMF07CiAgICAgICAgICAgIHBvcHVwX2E0MmExZjUyZTUxNTQ3ZTE4NzZkN2Y3NzEwOWVmM2M2LnNldENvbnRlbnQoaHRtbF85MzRjNzEwNjQ4YjI0ZDI5YmVlNjlmZTQ0YzY2ODIxNyk7CiAgICAgICAgCgogICAgICAgIGNpcmNsZV9tYXJrZXJfNzNiNGMyODUzNmU2NGI1NThjMjY1Nzc5NzBlMWMxNjIuYmluZFBvcHVwKHBvcHVwX2E0MmExZjUyZTUxNTQ3ZTE4NzZkN2Y3NzEwOWVmM2M2KQogICAgICAgIDsKCiAgICAgICAgCiAgICAKICAgIAogICAgICAgICAgICB2YXIgY2lyY2xlX21hcmtlcl9mODBmNzU3MWFjMjI0ZDMzYjcxYzU1Yjg2N2QxZTkxNCA9IEwuY2lyY2xlTWFya2VyKAogICAgICAgICAgICAgICAgWzQzLjY3MjcwOTcsIC03OS40MDU2Nzg0MDAwMDAwMV0sCiAgICAgICAgICAgICAgICB7ImJ1YmJsaW5nTW91c2VFdmVudHMiOiB0cnVlLCAiY29sb3IiOiAiYmx1ZSIsICJkYXNoQXJyYXkiOiBudWxsLCAiZGFzaE9mZnNldCI6IG51bGwsICJmaWxsIjogdHJ1ZSwgImZpbGxDb2xvciI6ICIjMzE4NmNjIiwgImZpbGxPcGFjaXR5IjogMC43LCAiZmlsbFJ1bGUiOiAiZXZlbm9kZCIsICJsaW5lQ2FwIjogInJvdW5kIiwgImxpbmVKb2luIjogInJvdW5kIiwgIm9wYWNpdHkiOiAxLjAsICJyYWRpdXMiOiA1LCAic3Ryb2tlIjogdHJ1ZSwgIndlaWdodCI6IDN9CiAgICAgICAgICAgICkuYWRkVG8obWFwX2E0ODg5ZmI4MGI1ZTRlZjlhN2IzZGQwNGZhY2MwOGFjKTsKICAgICAgICAKICAgIAogICAgICAgIHZhciBwb3B1cF85NWM3NGM2YjE3YmU0YjI0YjNmZWM2YTM3ODFhZGMyMCA9IEwucG9wdXAoeyJtYXhXaWR0aCI6ICIxMDAlIn0pOwoKICAgICAgICAKICAgICAgICAgICAgdmFyIGh0bWxfZDA4ZjFkNWE3MWFiNGM1OWIyMTRiMmRiNDcxZTEwMzIgPSAkKGA8ZGl2IGlkPSJodG1sX2QwOGYxZDVhNzFhYjRjNTliMjE0YjJkYjQ3MWUxMDMyIiBzdHlsZT0id2lkdGg6IDEwMC4wJTsgaGVpZ2h0OiAxMDAuMCU7Ij5UaGUgQW5uZXgsIE5vcnRoIE1pZHRvd24sIFlvcmt2aWxsZSwgQ2VudHJhbCBUb3JvbnRvPC9kaXY+YClbMF07CiAgICAgICAgICAgIHBvcHVwXzk1Yzc0YzZiMTdiZTRiMjRiM2ZlYzZhMzc4MWFkYzIwLnNldENvbnRlbnQoaHRtbF9kMDhmMWQ1YTcxYWI0YzU5YjIxNGIyZGI0NzFlMTAzMik7CiAgICAgICAgCgogICAgICAgIGNpcmNsZV9tYXJrZXJfZjgwZjc1NzFhYzIyNGQzM2I3MWM1NWI4NjdkMWU5MTQuYmluZFBvcHVwKHBvcHVwXzk1Yzc0YzZiMTdiZTRiMjRiM2ZlYzZhMzc4MWFkYzIwKQogICAgICAgIDsKCiAgICAgICAgCiAgICAKICAgIAogICAgICAgICAgICB2YXIgY2lyY2xlX21hcmtlcl85NzgxMzk1ZTYwNTU0YjBkOWI5NjhjNDk1MTMyOTY5NiA9IEwuY2lyY2xlTWFya2VyKAogICAgICAgICAgICAgICAgWzQzLjY0ODk1OTcsIC03OS40NTYzMjVdLAogICAgICAgICAgICAgICAgeyJidWJibGluZ01vdXNlRXZlbnRzIjogdHJ1ZSwgImNvbG9yIjogImJsdWUiLCAiZGFzaEFycmF5IjogbnVsbCwgImRhc2hPZmZzZXQiOiBudWxsLCAiZmlsbCI6IHRydWUsICJmaWxsQ29sb3IiOiAiIzMxODZjYyIsICJmaWxsT3BhY2l0eSI6IDAuNywgImZpbGxSdWxlIjogImV2ZW5vZGQiLCAibGluZUNhcCI6ICJyb3VuZCIsICJsaW5lSm9pbiI6ICJyb3VuZCIsICJvcGFjaXR5IjogMS4wLCAicmFkaXVzIjogNSwgInN0cm9rZSI6IHRydWUsICJ3ZWlnaHQiOiAzfQogICAgICAgICAgICApLmFkZFRvKG1hcF9hNDg4OWZiODBiNWU0ZWY5YTdiM2RkMDRmYWNjMDhhYyk7CiAgICAgICAgCiAgICAKICAgICAgICB2YXIgcG9wdXBfMzk0NzAxODVjYmYwNGFjNGJiMjM1OWY1NDFlOTEzZDkgPSBMLnBvcHVwKHsibWF4V2lkdGgiOiAiMTAwJSJ9KTsKCiAgICAgICAgCiAgICAgICAgICAgIHZhciBodG1sXzI4ODUyY2RlMjZhNzRlMzk4MzdhMjM5M2I4ZGZlNmQ1ID0gJChgPGRpdiBpZD0iaHRtbF8yODg1MmNkZTI2YTc0ZTM5ODM3YTIzOTNiOGRmZTZkNSIgc3R5bGU9IndpZHRoOiAxMDAuMCU7IGhlaWdodDogMTAwLjAlOyI+UGFya2RhbGUsIFJvbmNlc3ZhbGxlcywgV2VzdCBUb3JvbnRvPC9kaXY+YClbMF07CiAgICAgICAgICAgIHBvcHVwXzM5NDcwMTg1Y2JmMDRhYzRiYjIzNTlmNTQxZTkxM2Q5LnNldENvbnRlbnQoaHRtbF8yODg1MmNkZTI2YTc0ZTM5ODM3YTIzOTNiOGRmZTZkNSk7CiAgICAgICAgCgogICAgICAgIGNpcmNsZV9tYXJrZXJfOTc4MTM5NWU2MDU1NGIwZDliOTY4YzQ5NTEzMjk2OTYuYmluZFBvcHVwKHBvcHVwXzM5NDcwMTg1Y2JmMDRhYzRiYjIzNTlmNTQxZTkxM2Q5KQogICAgICAgIDsKCiAgICAgICAgCiAgICAKICAgIAogICAgICAgICAgICB2YXIgY2lyY2xlX21hcmtlcl9hOTJhODkwYzc5ZGE0OTg0OTQ3Nzk3MTNmYjY2MDU1NCA9IEwuY2lyY2xlTWFya2VyKAogICAgICAgICAgICAgICAgWzQzLjYzNjk2NTYsIC03OS42MTU4MTg5OTk5OTk5OV0sCiAgICAgICAgICAgICAgICB7ImJ1YmJsaW5nTW91c2VFdmVudHMiOiB0cnVlLCAiY29sb3IiOiAiYmx1ZSIsICJkYXNoQXJyYXkiOiBudWxsLCAiZGFzaE9mZnNldCI6IG51bGwsICJmaWxsIjogdHJ1ZSwgImZpbGxDb2xvciI6ICIjMzE4NmNjIiwgImZpbGxPcGFjaXR5IjogMC43LCAiZmlsbFJ1bGUiOiAiZXZlbm9kZCIsICJsaW5lQ2FwIjogInJvdW5kIiwgImxpbmVKb2luIjogInJvdW5kIiwgIm9wYWNpdHkiOiAxLjAsICJyYWRpdXMiOiA1LCAic3Ryb2tlIjogdHJ1ZSwgIndlaWdodCI6IDN9CiAgICAgICAgICAgICkuYWRkVG8obWFwX2E0ODg5ZmI4MGI1ZTRlZjlhN2IzZGQwNGZhY2MwOGFjKTsKICAgICAgICAKICAgIAogICAgICAgIHZhciBwb3B1cF9mNGRiYWYwMzA0YmM0MzRmYWE2OGNlZjBkYmFjMDFlOCA9IEwucG9wdXAoeyJtYXhXaWR0aCI6ICIxMDAlIn0pOwoKICAgICAgICAKICAgICAgICAgICAgdmFyIGh0bWxfYmQwYThjNTVlNTNmNDAzYTljMzUxODhmYzAwYjYzMDkgPSAkKGA8ZGl2IGlkPSJodG1sX2JkMGE4YzU1ZTUzZjQwM2E5YzM1MTg4ZmMwMGI2MzA5IiBzdHlsZT0id2lkdGg6IDEwMC4wJTsgaGVpZ2h0OiAxMDAuMCU7Ij5DYW5hZGEgUG9zdCBHYXRld2F5IFByb2Nlc3NpbmcgQ2VudHJlLCBNaXNzaXNzYXVnYTwvZGl2PmApWzBdOwogICAgICAgICAgICBwb3B1cF9mNGRiYWYwMzA0YmM0MzRmYWE2OGNlZjBkYmFjMDFlOC5zZXRDb250ZW50KGh0bWxfYmQwYThjNTVlNTNmNDAzYTljMzUxODhmYzAwYjYzMDkpOwogICAgICAgIAoKICAgICAgICBjaXJjbGVfbWFya2VyX2E5MmE4OTBjNzlkYTQ5ODQ5NDc3OTcxM2ZiNjYwNTU0LmJpbmRQb3B1cChwb3B1cF9mNGRiYWYwMzA0YmM0MzRmYWE2OGNlZjBkYmFjMDFlOCkKICAgICAgICA7CgogICAgICAgIAogICAgCiAgICAKICAgICAgICAgICAgdmFyIGNpcmNsZV9tYXJrZXJfYWEzM2JlOTI0M2Y0NDEwYjhhZmUyOTQ4MDk4YWVkMTQgPSBMLmNpcmNsZU1hcmtlcigKICAgICAgICAgICAgICAgIFs0My42ODg5MDU0LCAtNzkuNTU0NzI0NDAwMDAwMDFdLAogICAgICAgICAgICAgICAgeyJidWJibGluZ01vdXNlRXZlbnRzIjogdHJ1ZSwgImNvbG9yIjogImJsdWUiLCAiZGFzaEFycmF5IjogbnVsbCwgImRhc2hPZmZzZXQiOiBudWxsLCAiZmlsbCI6IHRydWUsICJmaWxsQ29sb3IiOiAiIzMxODZjYyIsICJmaWxsT3BhY2l0eSI6IDAuNywgImZpbGxSdWxlIjogImV2ZW5vZGQiLCAibGluZUNhcCI6ICJyb3VuZCIsICJsaW5lSm9pbiI6ICJyb3VuZCIsICJvcGFjaXR5IjogMS4wLCAicmFkaXVzIjogNSwgInN0cm9rZSI6IHRydWUsICJ3ZWlnaHQiOiAzfQogICAgICAgICAgICApLmFkZFRvKG1hcF9hNDg4OWZiODBiNWU0ZWY5YTdiM2RkMDRmYWNjMDhhYyk7CiAgICAgICAgCiAgICAKICAgICAgICB2YXIgcG9wdXBfZDAwMTUzY2UzNTNhNGY4ZWE5ZWZlOGNjNjFlOTkxNWMgPSBMLnBvcHVwKHsibWF4V2lkdGgiOiAiMTAwJSJ9KTsKCiAgICAgICAgCiAgICAgICAgICAgIHZhciBodG1sXzI5NWMyYTY4MTgzNTQyOWQ5NTBmNWYxZjk5YTU0ZjM3ID0gJChgPGRpdiBpZD0iaHRtbF8yOTVjMmE2ODE4MzU0MjlkOTUwZjVmMWY5OWE1NGYzNyIgc3R5bGU9IndpZHRoOiAxMDAuMCU7IGhlaWdodDogMTAwLjAlOyI+S2luZ3N2aWV3IFZpbGxhZ2UsIFN0LiBQaGlsbGlwcywgTWFydGluIEdyb3ZlIEdhcmRlbnMsIFJpY2h2aWV3IEdhcmRlbnMsIEV0b2JpY29rZTwvZGl2PmApWzBdOwogICAgICAgICAgICBwb3B1cF9kMDAxNTNjZTM1M2E0ZjhlYTllZmU4Y2M2MWU5OTE1Yy5zZXRDb250ZW50KGh0bWxfMjk1YzJhNjgxODM1NDI5ZDk1MGY1ZjFmOTlhNTRmMzcpOwogICAgICAgIAoKICAgICAgICBjaXJjbGVfbWFya2VyX2FhMzNiZTkyNDNmNDQxMGI4YWZlMjk0ODA5OGFlZDE0LmJpbmRQb3B1cChwb3B1cF9kMDAxNTNjZTM1M2E0ZjhlYTllZmU4Y2M2MWU5OTE1YykKICAgICAgICA7CgogICAgICAgIAogICAgCiAgICAKICAgICAgICAgICAgdmFyIGNpcmNsZV9tYXJrZXJfYzMzODM1YzdiYTc5NDNhZWE1NTQ5Zjk3MDAwNTQ4ZmQgPSBMLmNpcmNsZU1hcmtlcigKICAgICAgICAgICAgICAgIFs0My43OTQyMDAzLCAtNzkuMjYyMDI5NDAwMDAwMDJdLAogICAgICAgICAgICAgICAgeyJidWJibGluZ01vdXNlRXZlbnRzIjogdHJ1ZSwgImNvbG9yIjogImJsdWUiLCAiZGFzaEFycmF5IjogbnVsbCwgImRhc2hPZmZzZXQiOiBudWxsLCAiZmlsbCI6IHRydWUsICJmaWxsQ29sb3IiOiAiIzMxODZjYyIsICJmaWxsT3BhY2l0eSI6IDAuNywgImZpbGxSdWxlIjogImV2ZW5vZGQiLCAibGluZUNhcCI6ICJyb3VuZCIsICJsaW5lSm9pbiI6ICJyb3VuZCIsICJvcGFjaXR5IjogMS4wLCAicmFkaXVzIjogNSwgInN0cm9rZSI6IHRydWUsICJ3ZWlnaHQiOiAzfQogICAgICAgICAgICApLmFkZFRvKG1hcF9hNDg4OWZiODBiNWU0ZWY5YTdiM2RkMDRmYWNjMDhhYyk7CiAgICAgICAgCiAgICAKICAgICAgICB2YXIgcG9wdXBfMGUxMGFhOWZiNzZkNDViOThlMzIyNGJkMmUyZjlmNzEgPSBMLnBvcHVwKHsibWF4V2lkdGgiOiAiMTAwJSJ9KTsKCiAgICAgICAgCiAgICAgICAgICAgIHZhciBodG1sXzUxYjgwMzc2NDkzOTQ3M2Y5YWFmYTVkZjI5YjU0MzUwID0gJChgPGRpdiBpZD0iaHRtbF81MWI4MDM3NjQ5Mzk0NzNmOWFhZmE1ZGYyOWI1NDM1MCIgc3R5bGU9IndpZHRoOiAxMDAuMCU7IGhlaWdodDogMTAwLjAlOyI+QWdpbmNvdXJ0LCBTY2FyYm9yb3VnaDwvZGl2PmApWzBdOwogICAgICAgICAgICBwb3B1cF8wZTEwYWE5ZmI3NmQ0NWI5OGUzMjI0YmQyZTJmOWY3MS5zZXRDb250ZW50KGh0bWxfNTFiODAzNzY0OTM5NDczZjlhYWZhNWRmMjliNTQzNTApOwogICAgICAgIAoKICAgICAgICBjaXJjbGVfbWFya2VyX2MzMzgzNWM3YmE3OTQzYWVhNTU0OWY5NzAwMDU0OGZkLmJpbmRQb3B1cChwb3B1cF8wZTEwYWE5ZmI3NmQ0NWI5OGUzMjI0YmQyZTJmOWY3MSkKICAgICAgICA7CgogICAgICAgIAogICAgCiAgICAKICAgICAgICAgICAgdmFyIGNpcmNsZV9tYXJrZXJfYThiNDJhNTBlZjRiNDUzOGIyOWU3ZjQ0ZjYyZWVhOWQgPSBMLmNpcmNsZU1hcmtlcigKICAgICAgICAgICAgICAgIFs0My43MDQzMjQ0LCAtNzkuMzg4NzkwMV0sCiAgICAgICAgICAgICAgICB7ImJ1YmJsaW5nTW91c2VFdmVudHMiOiB0cnVlLCAiY29sb3IiOiAiYmx1ZSIsICJkYXNoQXJyYXkiOiBudWxsLCAiZGFzaE9mZnNldCI6IG51bGwsICJmaWxsIjogdHJ1ZSwgImZpbGxDb2xvciI6ICIjMzE4NmNjIiwgImZpbGxPcGFjaXR5IjogMC43LCAiZmlsbFJ1bGUiOiAiZXZlbm9kZCIsICJsaW5lQ2FwIjogInJvdW5kIiwgImxpbmVKb2luIjogInJvdW5kIiwgIm9wYWNpdHkiOiAxLjAsICJyYWRpdXMiOiA1LCAic3Ryb2tlIjogdHJ1ZSwgIndlaWdodCI6IDN9CiAgICAgICAgICAgICkuYWRkVG8obWFwX2E0ODg5ZmI4MGI1ZTRlZjlhN2IzZGQwNGZhY2MwOGFjKTsKICAgICAgICAKICAgIAogICAgICAgIHZhciBwb3B1cF82YTE4ODNkMWEwODA0MjdmOTUzYTBiYmMxMmFiYjk3NyA9IEwucG9wdXAoeyJtYXhXaWR0aCI6ICIxMDAlIn0pOwoKICAgICAgICAKICAgICAgICAgICAgdmFyIGh0bWxfZTZhZmFlMWQyYWFlNDExNzgyMDE3YjUyYzFjZDM5ODUgPSAkKGA8ZGl2IGlkPSJodG1sX2U2YWZhZTFkMmFhZTQxMTc4MjAxN2I1MmMxY2QzOTg1IiBzdHlsZT0id2lkdGg6IDEwMC4wJTsgaGVpZ2h0OiAxMDAuMCU7Ij5EYXZpc3ZpbGxlLCBDZW50cmFsIFRvcm9udG88L2Rpdj5gKVswXTsKICAgICAgICAgICAgcG9wdXBfNmExODgzZDFhMDgwNDI3Zjk1M2EwYmJjMTJhYmI5Nzcuc2V0Q29udGVudChodG1sX2U2YWZhZTFkMmFhZTQxMTc4MjAxN2I1MmMxY2QzOTg1KTsKICAgICAgICAKCiAgICAgICAgY2lyY2xlX21hcmtlcl9hOGI0MmE1MGVmNGI0NTM4YjI5ZTdmNDRmNjJlZWE5ZC5iaW5kUG9wdXAocG9wdXBfNmExODgzZDFhMDgwNDI3Zjk1M2EwYmJjMTJhYmI5NzcpCiAgICAgICAgOwoKICAgICAgICAKICAgIAogICAgCiAgICAgICAgICAgIHZhciBjaXJjbGVfbWFya2VyXzZmMTI4Y2JmNTE3MTQzZmFhNDBkYTJhYjZkYTFhZjM4ID0gTC5jaXJjbGVNYXJrZXIoCiAgICAgICAgICAgICAgICBbNDMuNjYyNjk1NiwgLTc5LjQwMDA0OTNdLAogICAgICAgICAgICAgICAgeyJidWJibGluZ01vdXNlRXZlbnRzIjogdHJ1ZSwgImNvbG9yIjogImJsdWUiLCAiZGFzaEFycmF5IjogbnVsbCwgImRhc2hPZmZzZXQiOiBudWxsLCAiZmlsbCI6IHRydWUsICJmaWxsQ29sb3IiOiAiIzMxODZjYyIsICJmaWxsT3BhY2l0eSI6IDAuNywgImZpbGxSdWxlIjogImV2ZW5vZGQiLCAibGluZUNhcCI6ICJyb3VuZCIsICJsaW5lSm9pbiI6ICJyb3VuZCIsICJvcGFjaXR5IjogMS4wLCAicmFkaXVzIjogNSwgInN0cm9rZSI6IHRydWUsICJ3ZWlnaHQiOiAzfQogICAgICAgICAgICApLmFkZFRvKG1hcF9hNDg4OWZiODBiNWU0ZWY5YTdiM2RkMDRmYWNjMDhhYyk7CiAgICAgICAgCiAgICAKICAgICAgICB2YXIgcG9wdXBfYjU4Yzc5OGIzODNmNDkxYWIxM2Y1ZDJkNzEzNDU1MWYgPSBMLnBvcHVwKHsibWF4V2lkdGgiOiAiMTAwJSJ9KTsKCiAgICAgICAgCiAgICAgICAgICAgIHZhciBodG1sX2RlYWZhNjlhZWMwZTRjMmU4OGQyN2NhNzI0NDE0ZWJhID0gJChgPGRpdiBpZD0iaHRtbF9kZWFmYTY5YWVjMGU0YzJlODhkMjdjYTcyNDQxNGViYSIgc3R5bGU9IndpZHRoOiAxMDAuMCU7IGhlaWdodDogMTAwLjAlOyI+VW5pdmVyc2l0eSBvZiBUb3JvbnRvLCBIYXJib3JkLCBEb3dudG93biBUb3JvbnRvPC9kaXY+YClbMF07CiAgICAgICAgICAgIHBvcHVwX2I1OGM3OThiMzgzZjQ5MWFiMTNmNWQyZDcxMzQ1NTFmLnNldENvbnRlbnQoaHRtbF9kZWFmYTY5YWVjMGU0YzJlODhkMjdjYTcyNDQxNGViYSk7CiAgICAgICAgCgogICAgICAgIGNpcmNsZV9tYXJrZXJfNmYxMjhjYmY1MTcxNDNmYWE0MGRhMmFiNmRhMWFmMzguYmluZFBvcHVwKHBvcHVwX2I1OGM3OThiMzgzZjQ5MWFiMTNmNWQyZDcxMzQ1NTFmKQogICAgICAgIDsKCiAgICAgICAgCiAgICAKICAgIAogICAgICAgICAgICB2YXIgY2lyY2xlX21hcmtlcl9jZDhmYTA4YzlhNDI0YTJhODg1YTZiZjU5ODUzNmUyZiA9IEwuY2lyY2xlTWFya2VyKAogICAgICAgICAgICAgICAgWzQzLjY1MTU3MDYsIC03OS40ODQ0NDk5XSwKICAgICAgICAgICAgICAgIHsiYnViYmxpbmdNb3VzZUV2ZW50cyI6IHRydWUsICJjb2xvciI6ICJibHVlIiwgImRhc2hBcnJheSI6IG51bGwsICJkYXNoT2Zmc2V0IjogbnVsbCwgImZpbGwiOiB0cnVlLCAiZmlsbENvbG9yIjogIiMzMTg2Y2MiLCAiZmlsbE9wYWNpdHkiOiAwLjcsICJmaWxsUnVsZSI6ICJldmVub2RkIiwgImxpbmVDYXAiOiAicm91bmQiLCAibGluZUpvaW4iOiAicm91bmQiLCAib3BhY2l0eSI6IDEuMCwgInJhZGl1cyI6IDUsICJzdHJva2UiOiB0cnVlLCAid2VpZ2h0IjogM30KICAgICAgICAgICAgKS5hZGRUbyhtYXBfYTQ4ODlmYjgwYjVlNGVmOWE3YjNkZDA0ZmFjYzA4YWMpOwogICAgICAgIAogICAgCiAgICAgICAgdmFyIHBvcHVwX2ZmOWY3OGFmOTQ0MDQxYWJiYTRjYzNlNmU2NGJlZmUwID0gTC5wb3B1cCh7Im1heFdpZHRoIjogIjEwMCUifSk7CgogICAgICAgIAogICAgICAgICAgICB2YXIgaHRtbF83NzY3NDhkZTg0Yjk0Zjc0OTE5MmNlYTczMmM4OTJmNiA9ICQoYDxkaXYgaWQ9Imh0bWxfNzc2NzQ4ZGU4NGI5NGY3NDkxOTJjZWE3MzJjODkyZjYiIHN0eWxlPSJ3aWR0aDogMTAwLjAlOyBoZWlnaHQ6IDEwMC4wJTsiPlJ1bm55bWVkZSwgU3dhbnNlYSwgV2VzdCBUb3JvbnRvPC9kaXY+YClbMF07CiAgICAgICAgICAgIHBvcHVwX2ZmOWY3OGFmOTQ0MDQxYWJiYTRjYzNlNmU2NGJlZmUwLnNldENvbnRlbnQoaHRtbF83NzY3NDhkZTg0Yjk0Zjc0OTE5MmNlYTczMmM4OTJmNik7CiAgICAgICAgCgogICAgICAgIGNpcmNsZV9tYXJrZXJfY2Q4ZmEwOGM5YTQyNGEyYTg4NWE2YmY1OTg1MzZlMmYuYmluZFBvcHVwKHBvcHVwX2ZmOWY3OGFmOTQ0MDQxYWJiYTRjYzNlNmU2NGJlZmUwKQogICAgICAgIDsKCiAgICAgICAgCiAgICAKICAgIAogICAgICAgICAgICB2YXIgY2lyY2xlX21hcmtlcl83NzlhZjcwNjE2OTY0YjU1YTA4MDQzYzg0MjJkOTViOCA9IEwuY2lyY2xlTWFya2VyKAogICAgICAgICAgICAgICAgWzQzLjc4MTYzNzUsIC03OS4zMDQzMDIxXSwKICAgICAgICAgICAgICAgIHsiYnViYmxpbmdNb3VzZUV2ZW50cyI6IHRydWUsICJjb2xvciI6ICJibHVlIiwgImRhc2hBcnJheSI6IG51bGwsICJkYXNoT2Zmc2V0IjogbnVsbCwgImZpbGwiOiB0cnVlLCAiZmlsbENvbG9yIjogIiMzMTg2Y2MiLCAiZmlsbE9wYWNpdHkiOiAwLjcsICJmaWxsUnVsZSI6ICJldmVub2RkIiwgImxpbmVDYXAiOiAicm91bmQiLCAibGluZUpvaW4iOiAicm91bmQiLCAib3BhY2l0eSI6IDEuMCwgInJhZGl1cyI6IDUsICJzdHJva2UiOiB0cnVlLCAid2VpZ2h0IjogM30KICAgICAgICAgICAgKS5hZGRUbyhtYXBfYTQ4ODlmYjgwYjVlNGVmOWE3YjNkZDA0ZmFjYzA4YWMpOwogICAgICAgIAogICAgCiAgICAgICAgdmFyIHBvcHVwXzEwZDE0MDM2NWU4NjQ1ZDVhNTExZDZjMmMwNWZmOGQ4ID0gTC5wb3B1cCh7Im1heFdpZHRoIjogIjEwMCUifSk7CgogICAgICAgIAogICAgICAgICAgICB2YXIgaHRtbF81ODUzZTg4ZTNiZDI0MGQ2YTllZDc2ZjhhM2JhYTA1NyA9ICQoYDxkaXYgaWQ9Imh0bWxfNTg1M2U4OGUzYmQyNDBkNmE5ZWQ3NmY4YTNiYWEwNTciIHN0eWxlPSJ3aWR0aDogMTAwLjAlOyBoZWlnaHQ6IDEwMC4wJTsiPkNsYXJrcyBDb3JuZXJzLCBUYW0gTyYjMzk7U2hhbnRlciwgU3VsbGl2YW4sIFNjYXJib3JvdWdoPC9kaXY+YClbMF07CiAgICAgICAgICAgIHBvcHVwXzEwZDE0MDM2NWU4NjQ1ZDVhNTExZDZjMmMwNWZmOGQ4LnNldENvbnRlbnQoaHRtbF81ODUzZTg4ZTNiZDI0MGQ2YTllZDc2ZjhhM2JhYTA1Nyk7CiAgICAgICAgCgogICAgICAgIGNpcmNsZV9tYXJrZXJfNzc5YWY3MDYxNjk2NGI1NWEwODA0M2M4NDIyZDk1YjguYmluZFBvcHVwKHBvcHVwXzEwZDE0MDM2NWU4NjQ1ZDVhNTExZDZjMmMwNWZmOGQ4KQogICAgICAgIDsKCiAgICAgICAgCiAgICAKICAgIAogICAgICAgICAgICB2YXIgY2lyY2xlX21hcmtlcl8zNWI1MWZjMTU1NjE0YmQ3YjY0MGZmZWY5NDgwNmRlMSA9IEwuY2lyY2xlTWFya2VyKAogICAgICAgICAgICAgICAgWzQzLjY4OTU3NDMsIC03OS4zODMxNTk5MDAwMDAwMV0sCiAgICAgICAgICAgICAgICB7ImJ1YmJsaW5nTW91c2VFdmVudHMiOiB0cnVlLCAiY29sb3IiOiAiYmx1ZSIsICJkYXNoQXJyYXkiOiBudWxsLCAiZGFzaE9mZnNldCI6IG51bGwsICJmaWxsIjogdHJ1ZSwgImZpbGxDb2xvciI6ICIjMzE4NmNjIiwgImZpbGxPcGFjaXR5IjogMC43LCAiZmlsbFJ1bGUiOiAiZXZlbm9kZCIsICJsaW5lQ2FwIjogInJvdW5kIiwgImxpbmVKb2luIjogInJvdW5kIiwgIm9wYWNpdHkiOiAxLjAsICJyYWRpdXMiOiA1LCAic3Ryb2tlIjogdHJ1ZSwgIndlaWdodCI6IDN9CiAgICAgICAgICAgICkuYWRkVG8obWFwX2E0ODg5ZmI4MGI1ZTRlZjlhN2IzZGQwNGZhY2MwOGFjKTsKICAgICAgICAKICAgIAogICAgICAgIHZhciBwb3B1cF8yMTZmZjIzMTM0ZjA0Zjc0YTljY2IzNGI0ZTdhZTE5ZSA9IEwucG9wdXAoeyJtYXhXaWR0aCI6ICIxMDAlIn0pOwoKICAgICAgICAKICAgICAgICAgICAgdmFyIGh0bWxfMTAzZDVjMzY1OTMwNGI4OTk5MTE2YmU4NjRjYjRiY2QgPSAkKGA8ZGl2IGlkPSJodG1sXzEwM2Q1YzM2NTkzMDRiODk5OTExNmJlODY0Y2I0YmNkIiBzdHlsZT0id2lkdGg6IDEwMC4wJTsgaGVpZ2h0OiAxMDAuMCU7Ij5Nb29yZSBQYXJrLCBTdW1tZXJoaWxsIEVhc3QsIENlbnRyYWwgVG9yb250bzwvZGl2PmApWzBdOwogICAgICAgICAgICBwb3B1cF8yMTZmZjIzMTM0ZjA0Zjc0YTljY2IzNGI0ZTdhZTE5ZS5zZXRDb250ZW50KGh0bWxfMTAzZDVjMzY1OTMwNGI4OTk5MTE2YmU4NjRjYjRiY2QpOwogICAgICAgIAoKICAgICAgICBjaXJjbGVfbWFya2VyXzM1YjUxZmMxNTU2MTRiZDdiNjQwZmZlZjk0ODA2ZGUxLmJpbmRQb3B1cChwb3B1cF8yMTZmZjIzMTM0ZjA0Zjc0YTljY2IzNGI0ZTdhZTE5ZSkKICAgICAgICA7CgogICAgICAgIAogICAgCiAgICAKICAgICAgICAgICAgdmFyIGNpcmNsZV9tYXJrZXJfMTM1MDI1MDcxMGQ2NDkxM2FkNDJiZDBhMDFmN2JhMGEgPSBMLmNpcmNsZU1hcmtlcigKICAgICAgICAgICAgICAgIFs0My42NTMyMDU3LCAtNzkuNDAwMDQ5M10sCiAgICAgICAgICAgICAgICB7ImJ1YmJsaW5nTW91c2VFdmVudHMiOiB0cnVlLCAiY29sb3IiOiAiYmx1ZSIsICJkYXNoQXJyYXkiOiBudWxsLCAiZGFzaE9mZnNldCI6IG51bGwsICJmaWxsIjogdHJ1ZSwgImZpbGxDb2xvciI6ICIjMzE4NmNjIiwgImZpbGxPcGFjaXR5IjogMC43LCAiZmlsbFJ1bGUiOiAiZXZlbm9kZCIsICJsaW5lQ2FwIjogInJvdW5kIiwgImxpbmVKb2luIjogInJvdW5kIiwgIm9wYWNpdHkiOiAxLjAsICJyYWRpdXMiOiA1LCAic3Ryb2tlIjogdHJ1ZSwgIndlaWdodCI6IDN9CiAgICAgICAgICAgICkuYWRkVG8obWFwX2E0ODg5ZmI4MGI1ZTRlZjlhN2IzZGQwNGZhY2MwOGFjKTsKICAgICAgICAKICAgIAogICAgICAgIHZhciBwb3B1cF8zNDE5NWU0MjM5ZDM0YmZmYTFjZmU0MTU2MDJlNDQxZCA9IEwucG9wdXAoeyJtYXhXaWR0aCI6ICIxMDAlIn0pOwoKICAgICAgICAKICAgICAgICAgICAgdmFyIGh0bWxfYTljZDFkNDJjNjM3NGFjYzk1YWM1YjQ5YWIxNWY1MjkgPSAkKGA8ZGl2IGlkPSJodG1sX2E5Y2QxZDQyYzYzNzRhY2M5NWFjNWI0OWFiMTVmNTI5IiBzdHlsZT0id2lkdGg6IDEwMC4wJTsgaGVpZ2h0OiAxMDAuMCU7Ij5LZW5zaW5ndG9uIE1hcmtldCwgQ2hpbmF0b3duLCBHcmFuZ2UgUGFyaywgRG93bnRvd24gVG9yb250bzwvZGl2PmApWzBdOwogICAgICAgICAgICBwb3B1cF8zNDE5NWU0MjM5ZDM0YmZmYTFjZmU0MTU2MDJlNDQxZC5zZXRDb250ZW50KGh0bWxfYTljZDFkNDJjNjM3NGFjYzk1YWM1YjQ5YWIxNWY1MjkpOwogICAgICAgIAoKICAgICAgICBjaXJjbGVfbWFya2VyXzEzNTAyNTA3MTBkNjQ5MTNhZDQyYmQwYTAxZjdiYTBhLmJpbmRQb3B1cChwb3B1cF8zNDE5NWU0MjM5ZDM0YmZmYTFjZmU0MTU2MDJlNDQxZCkKICAgICAgICA7CgogICAgICAgIAogICAgCiAgICAKICAgICAgICAgICAgdmFyIGNpcmNsZV9tYXJrZXJfYWE2YTYxZWJhODc3NDM2ZGIwMGNiNzUwNGI5ODI1NzMgPSBMLmNpcmNsZU1hcmtlcigKICAgICAgICAgICAgICAgIFs0My44MTUyNTIyLCAtNzkuMjg0NTc3Ml0sCiAgICAgICAgICAgICAgICB7ImJ1YmJsaW5nTW91c2VFdmVudHMiOiB0cnVlLCAiY29sb3IiOiAiYmx1ZSIsICJkYXNoQXJyYXkiOiBudWxsLCAiZGFzaE9mZnNldCI6IG51bGwsICJmaWxsIjogdHJ1ZSwgImZpbGxDb2xvciI6ICIjMzE4NmNjIiwgImZpbGxPcGFjaXR5IjogMC43LCAiZmlsbFJ1bGUiOiAiZXZlbm9kZCIsICJsaW5lQ2FwIjogInJvdW5kIiwgImxpbmVKb2luIjogInJvdW5kIiwgIm9wYWNpdHkiOiAxLjAsICJyYWRpdXMiOiA1LCAic3Ryb2tlIjogdHJ1ZSwgIndlaWdodCI6IDN9CiAgICAgICAgICAgICkuYWRkVG8obWFwX2E0ODg5ZmI4MGI1ZTRlZjlhN2IzZGQwNGZhY2MwOGFjKTsKICAgICAgICAKICAgIAogICAgICAgIHZhciBwb3B1cF81OGE3MWQ2YjNhZjA0ODQyYWRhNWQ0OWU3MTMyYjI2NCA9IEwucG9wdXAoeyJtYXhXaWR0aCI6ICIxMDAlIn0pOwoKICAgICAgICAKICAgICAgICAgICAgdmFyIGh0bWxfYzRlMGEyYjQ5NTBlNDBiNTg5OTg4ZGNlNGM1YjgyZDQgPSAkKGA8ZGl2IGlkPSJodG1sX2M0ZTBhMmI0OTUwZTQwYjU4OTk4OGRjZTRjNWI4MmQ0IiBzdHlsZT0id2lkdGg6IDEwMC4wJTsgaGVpZ2h0OiAxMDAuMCU7Ij5NaWxsaWtlbiwgQWdpbmNvdXJ0IE5vcnRoLCBTdGVlbGVzIEVhc3QsIEwmIzM5O0Ftb3JlYXV4IEVhc3QsIFNjYXJib3JvdWdoPC9kaXY+YClbMF07CiAgICAgICAgICAgIHBvcHVwXzU4YTcxZDZiM2FmMDQ4NDJhZGE1ZDQ5ZTcxMzJiMjY0LnNldENvbnRlbnQoaHRtbF9jNGUwYTJiNDk1MGU0MGI1ODk5ODhkY2U0YzViODJkNCk7CiAgICAgICAgCgogICAgICAgIGNpcmNsZV9tYXJrZXJfYWE2YTYxZWJhODc3NDM2ZGIwMGNiNzUwNGI5ODI1NzMuYmluZFBvcHVwKHBvcHVwXzU4YTcxZDZiM2FmMDQ4NDJhZGE1ZDQ5ZTcxMzJiMjY0KQogICAgICAgIDsKCiAgICAgICAgCiAgICAKICAgIAogICAgICAgICAgICB2YXIgY2lyY2xlX21hcmtlcl8wZDhjNGY2OGM0NDU0YzZmYmFlNWNlOGE3ZmUzOTc3NSA9IEwuY2lyY2xlTWFya2VyKAogICAgICAgICAgICAgICAgWzQzLjY4NjQxMjI5OTk5OTk5LCAtNzkuNDAwMDQ5M10sCiAgICAgICAgICAgICAgICB7ImJ1YmJsaW5nTW91c2VFdmVudHMiOiB0cnVlLCAiY29sb3IiOiAiYmx1ZSIsICJkYXNoQXJyYXkiOiBudWxsLCAiZGFzaE9mZnNldCI6IG51bGwsICJmaWxsIjogdHJ1ZSwgImZpbGxDb2xvciI6ICIjMzE4NmNjIiwgImZpbGxPcGFjaXR5IjogMC43LCAiZmlsbFJ1bGUiOiAiZXZlbm9kZCIsICJsaW5lQ2FwIjogInJvdW5kIiwgImxpbmVKb2luIjogInJvdW5kIiwgIm9wYWNpdHkiOiAxLjAsICJyYWRpdXMiOiA1LCAic3Ryb2tlIjogdHJ1ZSwgIndlaWdodCI6IDN9CiAgICAgICAgICAgICkuYWRkVG8obWFwX2E0ODg5ZmI4MGI1ZTRlZjlhN2IzZGQwNGZhY2MwOGFjKTsKICAgICAgICAKICAgIAogICAgICAgIHZhciBwb3B1cF8zNzBlYTg4MThkYWQ0MjRkYTVmYzVmYTY5YTljYTQ0NiA9IEwucG9wdXAoeyJtYXhXaWR0aCI6ICIxMDAlIn0pOwoKICAgICAgICAKICAgICAgICAgICAgdmFyIGh0bWxfZGM4ZWU2ZjgxNTA4NGNkMjgxMjMzMTQ2YTQwZGZlZTkgPSAkKGA8ZGl2IGlkPSJodG1sX2RjOGVlNmY4MTUwODRjZDI4MTIzMzE0NmE0MGRmZWU5IiBzdHlsZT0id2lkdGg6IDEwMC4wJTsgaGVpZ2h0OiAxMDAuMCU7Ij5TdW1tZXJoaWxsIFdlc3QsIFJhdGhuZWxseSwgU291dGggSGlsbCwgRm9yZXN0IEhpbGwgU0UsIERlZXIgUGFyaywgQ2VudHJhbCBUb3JvbnRvPC9kaXY+YClbMF07CiAgICAgICAgICAgIHBvcHVwXzM3MGVhODgxOGRhZDQyNGRhNWZjNWZhNjlhOWNhNDQ2LnNldENvbnRlbnQoaHRtbF9kYzhlZTZmODE1MDg0Y2QyODEyMzMxNDZhNDBkZmVlOSk7CiAgICAgICAgCgogICAgICAgIGNpcmNsZV9tYXJrZXJfMGQ4YzRmNjhjNDQ1NGM2ZmJhZTVjZThhN2ZlMzk3NzUuYmluZFBvcHVwKHBvcHVwXzM3MGVhODgxOGRhZDQyNGRhNWZjNWZhNjlhOWNhNDQ2KQogICAgICAgIDsKCiAgICAgICAgCiAgICAKICAgIAogICAgICAgICAgICB2YXIgY2lyY2xlX21hcmtlcl8wY2Y5ZDkyNzAwZWM0NmJmOGIyZDlhYTJkMmE2N2YyZCA9IEwuY2lyY2xlTWFya2VyKAogICAgICAgICAgICAgICAgWzQzLjYyODk0NjcsIC03OS4zOTQ0MTk5XSwKICAgICAgICAgICAgICAgIHsiYnViYmxpbmdNb3VzZUV2ZW50cyI6IHRydWUsICJjb2xvciI6ICJibHVlIiwgImRhc2hBcnJheSI6IG51bGwsICJkYXNoT2Zmc2V0IjogbnVsbCwgImZpbGwiOiB0cnVlLCAiZmlsbENvbG9yIjogIiMzMTg2Y2MiLCAiZmlsbE9wYWNpdHkiOiAwLjcsICJmaWxsUnVsZSI6ICJldmVub2RkIiwgImxpbmVDYXAiOiAicm91bmQiLCAibGluZUpvaW4iOiAicm91bmQiLCAib3BhY2l0eSI6IDEuMCwgInJhZGl1cyI6IDUsICJzdHJva2UiOiB0cnVlLCAid2VpZ2h0IjogM30KICAgICAgICAgICAgKS5hZGRUbyhtYXBfYTQ4ODlmYjgwYjVlNGVmOWE3YjNkZDA0ZmFjYzA4YWMpOwogICAgICAgIAogICAgCiAgICAgICAgdmFyIHBvcHVwXzBjN2ZiNTA1NmI5YjRjMWJhNjM5ODc3YmIyZWQ5YmEwID0gTC5wb3B1cCh7Im1heFdpZHRoIjogIjEwMCUifSk7CgogICAgICAgIAogICAgICAgICAgICB2YXIgaHRtbF9jMDZiMTY0OTgxZmI0NmIzOTY4MzBkZjAzOTM3YjY3MyA9ICQoYDxkaXYgaWQ9Imh0bWxfYzA2YjE2NDk4MWZiNDZiMzk2ODMwZGYwMzkzN2I2NzMiIHN0eWxlPSJ3aWR0aDogMTAwLjAlOyBoZWlnaHQ6IDEwMC4wJTsiPkNOIFRvd2VyLCBLaW5nIGFuZCBTcGFkaW5hLCBSYWlsd2F5IExhbmRzLCBIYXJib3VyZnJvbnQgV2VzdCwgQmF0aHVyc3QgUXVheSwgU291dGggTmlhZ2FyYSwgSXNsYW5kIGFpcnBvcnQsIERvd250b3duIFRvcm9udG88L2Rpdj5gKVswXTsKICAgICAgICAgICAgcG9wdXBfMGM3ZmI1MDU2YjliNGMxYmE2Mzk4NzdiYjJlZDliYTAuc2V0Q29udGVudChodG1sX2MwNmIxNjQ5ODFmYjQ2YjM5NjgzMGRmMDM5MzdiNjczKTsKICAgICAgICAKCiAgICAgICAgY2lyY2xlX21hcmtlcl8wY2Y5ZDkyNzAwZWM0NmJmOGIyZDlhYTJkMmE2N2YyZC5iaW5kUG9wdXAocG9wdXBfMGM3ZmI1MDU2YjliNGMxYmE2Mzk4NzdiYjJlZDliYTApCiAgICAgICAgOwoKICAgICAgICAKICAgIAogICAgCiAgICAgICAgICAgIHZhciBjaXJjbGVfbWFya2VyX2VlOWJiNjc4NzkwODRmN2Q4ZTEzNDAwN2VjOGU5NzQzID0gTC5jaXJjbGVNYXJrZXIoCiAgICAgICAgICAgICAgICBbNDMuNjA1NjQ2NiwgLTc5LjUwMTMyMDcwMDAwMDAxXSwKICAgICAgICAgICAgICAgIHsiYnViYmxpbmdNb3VzZUV2ZW50cyI6IHRydWUsICJjb2xvciI6ICJibHVlIiwgImRhc2hBcnJheSI6IG51bGwsICJkYXNoT2Zmc2V0IjogbnVsbCwgImZpbGwiOiB0cnVlLCAiZmlsbENvbG9yIjogIiMzMTg2Y2MiLCAiZmlsbE9wYWNpdHkiOiAwLjcsICJmaWxsUnVsZSI6ICJldmVub2RkIiwgImxpbmVDYXAiOiAicm91bmQiLCAibGluZUpvaW4iOiAicm91bmQiLCAib3BhY2l0eSI6IDEuMCwgInJhZGl1cyI6IDUsICJzdHJva2UiOiB0cnVlLCAid2VpZ2h0IjogM30KICAgICAgICAgICAgKS5hZGRUbyhtYXBfYTQ4ODlmYjgwYjVlNGVmOWE3YjNkZDA0ZmFjYzA4YWMpOwogICAgICAgIAogICAgCiAgICAgICAgdmFyIHBvcHVwX2ZlNjU2NjY0OTdhMDRiOTlhOWNmNzJiMzY0Mzc0MzU2ID0gTC5wb3B1cCh7Im1heFdpZHRoIjogIjEwMCUifSk7CgogICAgICAgIAogICAgICAgICAgICB2YXIgaHRtbF8xMjAxNjkyMWExZmE0OGVjYjNkY2Q5OGU5NDM0ZWViYSA9ICQoYDxkaXYgaWQ9Imh0bWxfMTIwMTY5MjFhMWZhNDhlY2IzZGNkOThlOTQzNGVlYmEiIHN0eWxlPSJ3aWR0aDogMTAwLjAlOyBoZWlnaHQ6IDEwMC4wJTsiPk5ldyBUb3JvbnRvLCBNaW1pY28gU291dGgsIEh1bWJlciBCYXkgU2hvcmVzLCBFdG9iaWNva2U8L2Rpdj5gKVswXTsKICAgICAgICAgICAgcG9wdXBfZmU2NTY2NjQ5N2EwNGI5OWE5Y2Y3MmIzNjQzNzQzNTYuc2V0Q29udGVudChodG1sXzEyMDE2OTIxYTFmYTQ4ZWNiM2RjZDk4ZTk0MzRlZWJhKTsKICAgICAgICAKCiAgICAgICAgY2lyY2xlX21hcmtlcl9lZTliYjY3ODc5MDg0ZjdkOGUxMzQwMDdlYzhlOTc0My5iaW5kUG9wdXAocG9wdXBfZmU2NTY2NjQ5N2EwNGI5OWE5Y2Y3MmIzNjQzNzQzNTYpCiAgICAgICAgOwoKICAgICAgICAKICAgIAogICAgCiAgICAgICAgICAgIHZhciBjaXJjbGVfbWFya2VyX2ZkMzJiNzUwMzAyMDRmZTViOGRiMmVlZjgzYTRlYTY4ID0gTC5jaXJjbGVNYXJrZXIoCiAgICAgICAgICAgICAgICBbNDMuNzM5NDE2Mzk5OTk5OTk2LCAtNzkuNTg4NDM2OV0sCiAgICAgICAgICAgICAgICB7ImJ1YmJsaW5nTW91c2VFdmVudHMiOiB0cnVlLCAiY29sb3IiOiAiYmx1ZSIsICJkYXNoQXJyYXkiOiBudWxsLCAiZGFzaE9mZnNldCI6IG51bGwsICJmaWxsIjogdHJ1ZSwgImZpbGxDb2xvciI6ICIjMzE4NmNjIiwgImZpbGxPcGFjaXR5IjogMC43LCAiZmlsbFJ1bGUiOiAiZXZlbm9kZCIsICJsaW5lQ2FwIjogInJvdW5kIiwgImxpbmVKb2luIjogInJvdW5kIiwgIm9wYWNpdHkiOiAxLjAsICJyYWRpdXMiOiA1LCAic3Ryb2tlIjogdHJ1ZSwgIndlaWdodCI6IDN9CiAgICAgICAgICAgICkuYWRkVG8obWFwX2E0ODg5ZmI4MGI1ZTRlZjlhN2IzZGQwNGZhY2MwOGFjKTsKICAgICAgICAKICAgIAogICAgICAgIHZhciBwb3B1cF84ZWM0OTRiNTU4NTg0NTM2OGFjYmQyZjJmZWRhZDk1MyA9IEwucG9wdXAoeyJtYXhXaWR0aCI6ICIxMDAlIn0pOwoKICAgICAgICAKICAgICAgICAgICAgdmFyIGh0bWxfMDYzNzEwMGEzYmZiNDkzYWE5NjEzM2VjOTFlOTNiZDQgPSAkKGA8ZGl2IGlkPSJodG1sXzA2MzcxMDBhM2JmYjQ5M2FhOTYxMzNlYzkxZTkzYmQ0IiBzdHlsZT0id2lkdGg6IDEwMC4wJTsgaGVpZ2h0OiAxMDAuMCU7Ij5Tb3V0aCBTdGVlbGVzLCBTaWx2ZXJzdG9uZSwgSHVtYmVyZ2F0ZSwgSmFtZXN0b3duLCBNb3VudCBPbGl2ZSwgQmVhdW1vbmQgSGVpZ2h0cywgVGhpc3RsZXRvd24sIEFsYmlvbiBHYXJkZW5zLCBFdG9iaWNva2U8L2Rpdj5gKVswXTsKICAgICAgICAgICAgcG9wdXBfOGVjNDk0YjU1ODU4NDUzNjhhY2JkMmYyZmVkYWQ5NTMuc2V0Q29udGVudChodG1sXzA2MzcxMDBhM2JmYjQ5M2FhOTYxMzNlYzkxZTkzYmQ0KTsKICAgICAgICAKCiAgICAgICAgY2lyY2xlX21hcmtlcl9mZDMyYjc1MDMwMjA0ZmU1YjhkYjJlZWY4M2E0ZWE2OC5iaW5kUG9wdXAocG9wdXBfOGVjNDk0YjU1ODU4NDUzNjhhY2JkMmYyZmVkYWQ5NTMpCiAgICAgICAgOwoKICAgICAgICAKICAgIAogICAgCiAgICAgICAgICAgIHZhciBjaXJjbGVfbWFya2VyX2EwZGY5M2M1ZWY2ODQ1ZjdiYzJkYzg3NmEzYmRkZTg0ID0gTC5jaXJjbGVNYXJrZXIoCiAgICAgICAgICAgICAgICBbNDMuNzk5NTI1MjAwMDAwMDA1LCAtNzkuMzE4Mzg4N10sCiAgICAgICAgICAgICAgICB7ImJ1YmJsaW5nTW91c2VFdmVudHMiOiB0cnVlLCAiY29sb3IiOiAiYmx1ZSIsICJkYXNoQXJyYXkiOiBudWxsLCAiZGFzaE9mZnNldCI6IG51bGwsICJmaWxsIjogdHJ1ZSwgImZpbGxDb2xvciI6ICIjMzE4NmNjIiwgImZpbGxPcGFjaXR5IjogMC43LCAiZmlsbFJ1bGUiOiAiZXZlbm9kZCIsICJsaW5lQ2FwIjogInJvdW5kIiwgImxpbmVKb2luIjogInJvdW5kIiwgIm9wYWNpdHkiOiAxLjAsICJyYWRpdXMiOiA1LCAic3Ryb2tlIjogdHJ1ZSwgIndlaWdodCI6IDN9CiAgICAgICAgICAgICkuYWRkVG8obWFwX2E0ODg5ZmI4MGI1ZTRlZjlhN2IzZGQwNGZhY2MwOGFjKTsKICAgICAgICAKICAgIAogICAgICAgIHZhciBwb3B1cF81ZmM2NDI4Njk5NzQ0OWRlYjNkYzU1MGVhM2Y5YzYxMCA9IEwucG9wdXAoeyJtYXhXaWR0aCI6ICIxMDAlIn0pOwoKICAgICAgICAKICAgICAgICAgICAgdmFyIGh0bWxfMmU0ZDYxMDJmNzRjNDQ0OGI5ZmI2NjgyMDE4Yzg5ODMgPSAkKGA8ZGl2IGlkPSJodG1sXzJlNGQ2MTAyZjc0YzQ0NDhiOWZiNjY4MjAxOGM4OTgzIiBzdHlsZT0id2lkdGg6IDEwMC4wJTsgaGVpZ2h0OiAxMDAuMCU7Ij5TdGVlbGVzIFdlc3QsIEwmIzM5O0Ftb3JlYXV4IFdlc3QsIFNjYXJib3JvdWdoPC9kaXY+YClbMF07CiAgICAgICAgICAgIHBvcHVwXzVmYzY0Mjg2OTk3NDQ5ZGViM2RjNTUwZWEzZjljNjEwLnNldENvbnRlbnQoaHRtbF8yZTRkNjEwMmY3NGM0NDQ4YjlmYjY2ODIwMThjODk4Myk7CiAgICAgICAgCgogICAgICAgIGNpcmNsZV9tYXJrZXJfYTBkZjkzYzVlZjY4NDVmN2JjMmRjODc2YTNiZGRlODQuYmluZFBvcHVwKHBvcHVwXzVmYzY0Mjg2OTk3NDQ5ZGViM2RjNTUwZWEzZjljNjEwKQogICAgICAgIDsKCiAgICAgICAgCiAgICAKICAgIAogICAgICAgICAgICB2YXIgY2lyY2xlX21hcmtlcl84MDE2NDhjNjA3NTc0NjRiYWFkMWRiNTQ0ZDYwOTkzZSA9IEwuY2lyY2xlTWFya2VyKAogICAgICAgICAgICAgICAgWzQzLjY3OTU2MjYsIC03OS4zNzc1Mjk0MDAwMDAwMV0sCiAgICAgICAgICAgICAgICB7ImJ1YmJsaW5nTW91c2VFdmVudHMiOiB0cnVlLCAiY29sb3IiOiAiYmx1ZSIsICJkYXNoQXJyYXkiOiBudWxsLCAiZGFzaE9mZnNldCI6IG51bGwsICJmaWxsIjogdHJ1ZSwgImZpbGxDb2xvciI6ICIjMzE4NmNjIiwgImZpbGxPcGFjaXR5IjogMC43LCAiZmlsbFJ1bGUiOiAiZXZlbm9kZCIsICJsaW5lQ2FwIjogInJvdW5kIiwgImxpbmVKb2luIjogInJvdW5kIiwgIm9wYWNpdHkiOiAxLjAsICJyYWRpdXMiOiA1LCAic3Ryb2tlIjogdHJ1ZSwgIndlaWdodCI6IDN9CiAgICAgICAgICAgICkuYWRkVG8obWFwX2E0ODg5ZmI4MGI1ZTRlZjlhN2IzZGQwNGZhY2MwOGFjKTsKICAgICAgICAKICAgIAogICAgICAgIHZhciBwb3B1cF82NDUxYmY5ZDFmOWI0YTUyYTcwYTI4NDBjZTJmZGU1NyA9IEwucG9wdXAoeyJtYXhXaWR0aCI6ICIxMDAlIn0pOwoKICAgICAgICAKICAgICAgICAgICAgdmFyIGh0bWxfYzI5ODFjYmM4ZGEwNDM2MDk4NDc5MTRlMmFiYjQxMDggPSAkKGA8ZGl2IGlkPSJodG1sX2MyOTgxY2JjOGRhMDQzNjA5ODQ3OTE0ZTJhYmI0MTA4IiBzdHlsZT0id2lkdGg6IDEwMC4wJTsgaGVpZ2h0OiAxMDAuMCU7Ij5Sb3NlZGFsZSwgRG93bnRvd24gVG9yb250bzwvZGl2PmApWzBdOwogICAgICAgICAgICBwb3B1cF82NDUxYmY5ZDFmOWI0YTUyYTcwYTI4NDBjZTJmZGU1Ny5zZXRDb250ZW50KGh0bWxfYzI5ODFjYmM4ZGEwNDM2MDk4NDc5MTRlMmFiYjQxMDgpOwogICAgICAgIAoKICAgICAgICBjaXJjbGVfbWFya2VyXzgwMTY0OGM2MDc1NzQ2NGJhYWQxZGI1NDRkNjA5OTNlLmJpbmRQb3B1cChwb3B1cF82NDUxYmY5ZDFmOWI0YTUyYTcwYTI4NDBjZTJmZGU1NykKICAgICAgICA7CgogICAgICAgIAogICAgCiAgICAKICAgICAgICAgICAgdmFyIGNpcmNsZV9tYXJrZXJfMDJlZGYzMzQ5Y2FlNGZmNGEyODE0MzJjM2U4YzIyMzEgPSBMLmNpcmNsZU1hcmtlcigKICAgICAgICAgICAgICAgIFs0My42NDY0MzUyLCAtNzkuMzc0ODQ1OTk5OTk5OTldLAogICAgICAgICAgICAgICAgeyJidWJibGluZ01vdXNlRXZlbnRzIjogdHJ1ZSwgImNvbG9yIjogImJsdWUiLCAiZGFzaEFycmF5IjogbnVsbCwgImRhc2hPZmZzZXQiOiBudWxsLCAiZmlsbCI6IHRydWUsICJmaWxsQ29sb3IiOiAiIzMxODZjYyIsICJmaWxsT3BhY2l0eSI6IDAuNywgImZpbGxSdWxlIjogImV2ZW5vZGQiLCAibGluZUNhcCI6ICJyb3VuZCIsICJsaW5lSm9pbiI6ICJyb3VuZCIsICJvcGFjaXR5IjogMS4wLCAicmFkaXVzIjogNSwgInN0cm9rZSI6IHRydWUsICJ3ZWlnaHQiOiAzfQogICAgICAgICAgICApLmFkZFRvKG1hcF9hNDg4OWZiODBiNWU0ZWY5YTdiM2RkMDRmYWNjMDhhYyk7CiAgICAgICAgCiAgICAKICAgICAgICB2YXIgcG9wdXBfMDA2ZTgzMzQ4ZDIxNDYyMTg3ZGNjNjM3ZWQ3ZWZmMjggPSBMLnBvcHVwKHsibWF4V2lkdGgiOiAiMTAwJSJ9KTsKCiAgICAgICAgCiAgICAgICAgICAgIHZhciBodG1sXzBmNjMzOGE4ODJkNzQ4NGU4ODI0OWI1NTE5OWIwMWYxID0gJChgPGRpdiBpZD0iaHRtbF8wZjYzMzhhODgyZDc0ODRlODgyNDliNTUxOTliMDFmMSIgc3R5bGU9IndpZHRoOiAxMDAuMCU7IGhlaWdodDogMTAwLjAlOyI+U3RuIEEgUE8gQm94ZXMsIERvd250b3duIFRvcm9udG88L2Rpdj5gKVswXTsKICAgICAgICAgICAgcG9wdXBfMDA2ZTgzMzQ4ZDIxNDYyMTg3ZGNjNjM3ZWQ3ZWZmMjguc2V0Q29udGVudChodG1sXzBmNjMzOGE4ODJkNzQ4NGU4ODI0OWI1NTE5OWIwMWYxKTsKICAgICAgICAKCiAgICAgICAgY2lyY2xlX21hcmtlcl8wMmVkZjMzNDljYWU0ZmY0YTI4MTQzMmMzZThjMjIzMS5iaW5kUG9wdXAocG9wdXBfMDA2ZTgzMzQ4ZDIxNDYyMTg3ZGNjNjM3ZWQ3ZWZmMjgpCiAgICAgICAgOwoKICAgICAgICAKICAgIAogICAgCiAgICAgICAgICAgIHZhciBjaXJjbGVfbWFya2VyXzU2Mzc1NjA1OGE5YzRmOTM4NWQ1ZTQwZmU0NzUyNDdmID0gTC5jaXJjbGVNYXJrZXIoCiAgICAgICAgICAgICAgICBbNDMuNjAyNDEzNzAwMDAwMDEsIC03OS41NDM0ODQwOTk5OTk5OV0sCiAgICAgICAgICAgICAgICB7ImJ1YmJsaW5nTW91c2VFdmVudHMiOiB0cnVlLCAiY29sb3IiOiAiYmx1ZSIsICJkYXNoQXJyYXkiOiBudWxsLCAiZGFzaE9mZnNldCI6IG51bGwsICJmaWxsIjogdHJ1ZSwgImZpbGxDb2xvciI6ICIjMzE4NmNjIiwgImZpbGxPcGFjaXR5IjogMC43LCAiZmlsbFJ1bGUiOiAiZXZlbm9kZCIsICJsaW5lQ2FwIjogInJvdW5kIiwgImxpbmVKb2luIjogInJvdW5kIiwgIm9wYWNpdHkiOiAxLjAsICJyYWRpdXMiOiA1LCAic3Ryb2tlIjogdHJ1ZSwgIndlaWdodCI6IDN9CiAgICAgICAgICAgICkuYWRkVG8obWFwX2E0ODg5ZmI4MGI1ZTRlZjlhN2IzZGQwNGZhY2MwOGFjKTsKICAgICAgICAKICAgIAogICAgICAgIHZhciBwb3B1cF83NGMxN2NjZDBkNzE0MGQzYWZlYjk4ZjIxZGNiZDQxNyA9IEwucG9wdXAoeyJtYXhXaWR0aCI6ICIxMDAlIn0pOwoKICAgICAgICAKICAgICAgICAgICAgdmFyIGh0bWxfZWY3MTdiMTJmZDJjNDU0NWI0YWQzYWQzYjQ2MDJmNjYgPSAkKGA8ZGl2IGlkPSJodG1sX2VmNzE3YjEyZmQyYzQ1NDViNGFkM2FkM2I0NjAyZjY2IiBzdHlsZT0id2lkdGg6IDEwMC4wJTsgaGVpZ2h0OiAxMDAuMCU7Ij5BbGRlcndvb2QsIExvbmcgQnJhbmNoLCBFdG9iaWNva2U8L2Rpdj5gKVswXTsKICAgICAgICAgICAgcG9wdXBfNzRjMTdjY2QwZDcxNDBkM2FmZWI5OGYyMWRjYmQ0MTcuc2V0Q29udGVudChodG1sX2VmNzE3YjEyZmQyYzQ1NDViNGFkM2FkM2I0NjAyZjY2KTsKICAgICAgICAKCiAgICAgICAgY2lyY2xlX21hcmtlcl81NjM3NTYwNThhOWM0ZjkzODVkNWU0MGZlNDc1MjQ3Zi5iaW5kUG9wdXAocG9wdXBfNzRjMTdjY2QwZDcxNDBkM2FmZWI5OGYyMWRjYmQ0MTcpCiAgICAgICAgOwoKICAgICAgICAKICAgIAogICAgCiAgICAgICAgICAgIHZhciBjaXJjbGVfbWFya2VyX2FkZTIzMDRhM2NjOTRlNjZiZTk5OTdiMTM0ZTMzYzA5ID0gTC5jaXJjbGVNYXJrZXIoCiAgICAgICAgICAgICAgICBbNDMuNzA2NzQ4Mjk5OTk5OTk0LCAtNzkuNTk0MDU0NF0sCiAgICAgICAgICAgICAgICB7ImJ1YmJsaW5nTW91c2VFdmVudHMiOiB0cnVlLCAiY29sb3IiOiAiYmx1ZSIsICJkYXNoQXJyYXkiOiBudWxsLCAiZGFzaE9mZnNldCI6IG51bGwsICJmaWxsIjogdHJ1ZSwgImZpbGxDb2xvciI6ICIjMzE4NmNjIiwgImZpbGxPcGFjaXR5IjogMC43LCAiZmlsbFJ1bGUiOiAiZXZlbm9kZCIsICJsaW5lQ2FwIjogInJvdW5kIiwgImxpbmVKb2luIjogInJvdW5kIiwgIm9wYWNpdHkiOiAxLjAsICJyYWRpdXMiOiA1LCAic3Ryb2tlIjogdHJ1ZSwgIndlaWdodCI6IDN9CiAgICAgICAgICAgICkuYWRkVG8obWFwX2E0ODg5ZmI4MGI1ZTRlZjlhN2IzZGQwNGZhY2MwOGFjKTsKICAgICAgICAKICAgIAogICAgICAgIHZhciBwb3B1cF85MzlkZTA0MmMzNDA0ZGQ0YmNlZjVjMjA3MzE3MzkxMiA9IEwucG9wdXAoeyJtYXhXaWR0aCI6ICIxMDAlIn0pOwoKICAgICAgICAKICAgICAgICAgICAgdmFyIGh0bWxfNGU1ZTdkZWMwMDA1NGRkNWIwNjQ5ZjYwM2QwYTY4NjAgPSAkKGA8ZGl2IGlkPSJodG1sXzRlNWU3ZGVjMDAwNTRkZDViMDY0OWY2MDNkMGE2ODYwIiBzdHlsZT0id2lkdGg6IDEwMC4wJTsgaGVpZ2h0OiAxMDAuMCU7Ij5Ob3J0aHdlc3QsIFdlc3QgSHVtYmVyIC0gQ2xhaXJ2aWxsZSwgRXRvYmljb2tlPC9kaXY+YClbMF07CiAgICAgICAgICAgIHBvcHVwXzkzOWRlMDQyYzM0MDRkZDRiY2VmNWMyMDczMTczOTEyLnNldENvbnRlbnQoaHRtbF80ZTVlN2RlYzAwMDU0ZGQ1YjA2NDlmNjAzZDBhNjg2MCk7CiAgICAgICAgCgogICAgICAgIGNpcmNsZV9tYXJrZXJfYWRlMjMwNGEzY2M5NGU2NmJlOTk5N2IxMzRlMzNjMDkuYmluZFBvcHVwKHBvcHVwXzkzOWRlMDQyYzM0MDRkZDRiY2VmNWMyMDczMTczOTEyKQogICAgICAgIDsKCiAgICAgICAgCiAgICAKICAgIAogICAgICAgICAgICB2YXIgY2lyY2xlX21hcmtlcl9hZmM4ODY2ZTkyZWU0OGQ5YWU3ODc5YTA0YjEwMzM4MiA9IEwuY2lyY2xlTWFya2VyKAogICAgICAgICAgICAgICAgWzQzLjgzNjEyNDcwMDAwMDAwNiwgLTc5LjIwNTYzNjA5OTk5OTk5XSwKICAgICAgICAgICAgICAgIHsiYnViYmxpbmdNb3VzZUV2ZW50cyI6IHRydWUsICJjb2xvciI6ICJibHVlIiwgImRhc2hBcnJheSI6IG51bGwsICJkYXNoT2Zmc2V0IjogbnVsbCwgImZpbGwiOiB0cnVlLCAiZmlsbENvbG9yIjogIiMzMTg2Y2MiLCAiZmlsbE9wYWNpdHkiOiAwLjcsICJmaWxsUnVsZSI6ICJldmVub2RkIiwgImxpbmVDYXAiOiAicm91bmQiLCAibGluZUpvaW4iOiAicm91bmQiLCAib3BhY2l0eSI6IDEuMCwgInJhZGl1cyI6IDUsICJzdHJva2UiOiB0cnVlLCAid2VpZ2h0IjogM30KICAgICAgICAgICAgKS5hZGRUbyhtYXBfYTQ4ODlmYjgwYjVlNGVmOWE3YjNkZDA0ZmFjYzA4YWMpOwogICAgICAgIAogICAgCiAgICAgICAgdmFyIHBvcHVwXzk5Y2IwY2I2NDJhMTRiNDI4YmFmZTBhMTg4ZWI3MjlmID0gTC5wb3B1cCh7Im1heFdpZHRoIjogIjEwMCUifSk7CgogICAgICAgIAogICAgICAgICAgICB2YXIgaHRtbF80MWE5MDJkNDcwNTk0Mjc5ODg2MTM3ZTBlOTIxYzY4NiA9ICQoYDxkaXYgaWQ9Imh0bWxfNDFhOTAyZDQ3MDU5NDI3OTg4NjEzN2UwZTkyMWM2ODYiIHN0eWxlPSJ3aWR0aDogMTAwLjAlOyBoZWlnaHQ6IDEwMC4wJTsiPlVwcGVyIFJvdWdlLCBTY2FyYm9yb3VnaDwvZGl2PmApWzBdOwogICAgICAgICAgICBwb3B1cF85OWNiMGNiNjQyYTE0YjQyOGJhZmUwYTE4OGViNzI5Zi5zZXRDb250ZW50KGh0bWxfNDFhOTAyZDQ3MDU5NDI3OTg4NjEzN2UwZTkyMWM2ODYpOwogICAgICAgIAoKICAgICAgICBjaXJjbGVfbWFya2VyX2FmYzg4NjZlOTJlZTQ4ZDlhZTc4NzlhMDRiMTAzMzgyLmJpbmRQb3B1cChwb3B1cF85OWNiMGNiNjQyYTE0YjQyOGJhZmUwYTE4OGViNzI5ZikKICAgICAgICA7CgogICAgICAgIAogICAgCiAgICAKICAgICAgICAgICAgdmFyIGNpcmNsZV9tYXJrZXJfYjY5OWI4MzcyZWEzNDJhZWI3OGNiMzBjNWI4MDQ2M2MgPSBMLmNpcmNsZU1hcmtlcigKICAgICAgICAgICAgICAgIFs0My42Njc5NjcsIC03OS4zNjc2NzUzXSwKICAgICAgICAgICAgICAgIHsiYnViYmxpbmdNb3VzZUV2ZW50cyI6IHRydWUsICJjb2xvciI6ICJibHVlIiwgImRhc2hBcnJheSI6IG51bGwsICJkYXNoT2Zmc2V0IjogbnVsbCwgImZpbGwiOiB0cnVlLCAiZmlsbENvbG9yIjogIiMzMTg2Y2MiLCAiZmlsbE9wYWNpdHkiOiAwLjcsICJmaWxsUnVsZSI6ICJldmVub2RkIiwgImxpbmVDYXAiOiAicm91bmQiLCAibGluZUpvaW4iOiAicm91bmQiLCAib3BhY2l0eSI6IDEuMCwgInJhZGl1cyI6IDUsICJzdHJva2UiOiB0cnVlLCAid2VpZ2h0IjogM30KICAgICAgICAgICAgKS5hZGRUbyhtYXBfYTQ4ODlmYjgwYjVlNGVmOWE3YjNkZDA0ZmFjYzA4YWMpOwogICAgICAgIAogICAgCiAgICAgICAgdmFyIHBvcHVwXzNjZjFkNjY3MDc0NTQwZDVhZDU2ZDczZDdiYjQxMmEzID0gTC5wb3B1cCh7Im1heFdpZHRoIjogIjEwMCUifSk7CgogICAgICAgIAogICAgICAgICAgICB2YXIgaHRtbF81MTNiMTIyOTllOWM0YjgxODFjNWJjNTdkN2Y1OTA2MiA9ICQoYDxkaXYgaWQ9Imh0bWxfNTEzYjEyMjk5ZTljNGI4MTgxYzViYzU3ZDdmNTkwNjIiIHN0eWxlPSJ3aWR0aDogMTAwLjAlOyBoZWlnaHQ6IDEwMC4wJTsiPlN0LiBKYW1lcyBUb3duLCBDYWJiYWdldG93biwgRG93bnRvd24gVG9yb250bzwvZGl2PmApWzBdOwogICAgICAgICAgICBwb3B1cF8zY2YxZDY2NzA3NDU0MGQ1YWQ1NmQ3M2Q3YmI0MTJhMy5zZXRDb250ZW50KGh0bWxfNTEzYjEyMjk5ZTljNGI4MTgxYzViYzU3ZDdmNTkwNjIpOwogICAgICAgIAoKICAgICAgICBjaXJjbGVfbWFya2VyX2I2OTliODM3MmVhMzQyYWViNzhjYjMwYzViODA0NjNjLmJpbmRQb3B1cChwb3B1cF8zY2YxZDY2NzA3NDU0MGQ1YWQ1NmQ3M2Q3YmI0MTJhMykKICAgICAgICA7CgogICAgICAgIAogICAgCiAgICAKICAgICAgICAgICAgdmFyIGNpcmNsZV9tYXJrZXJfYjEyZDFlNjBkN2QyNDk0NTgxOWRiOWYyNDM4ZWYxMTIgPSBMLmNpcmNsZU1hcmtlcigKICAgICAgICAgICAgICAgIFs0My42NDg0MjkyLCAtNzkuMzgyMjgwMl0sCiAgICAgICAgICAgICAgICB7ImJ1YmJsaW5nTW91c2VFdmVudHMiOiB0cnVlLCAiY29sb3IiOiAiYmx1ZSIsICJkYXNoQXJyYXkiOiBudWxsLCAiZGFzaE9mZnNldCI6IG51bGwsICJmaWxsIjogdHJ1ZSwgImZpbGxDb2xvciI6ICIjMzE4NmNjIiwgImZpbGxPcGFjaXR5IjogMC43LCAiZmlsbFJ1bGUiOiAiZXZlbm9kZCIsICJsaW5lQ2FwIjogInJvdW5kIiwgImxpbmVKb2luIjogInJvdW5kIiwgIm9wYWNpdHkiOiAxLjAsICJyYWRpdXMiOiA1LCAic3Ryb2tlIjogdHJ1ZSwgIndlaWdodCI6IDN9CiAgICAgICAgICAgICkuYWRkVG8obWFwX2E0ODg5ZmI4MGI1ZTRlZjlhN2IzZGQwNGZhY2MwOGFjKTsKICAgICAgICAKICAgIAogICAgICAgIHZhciBwb3B1cF9iYmM5NzBlODc4MGU0ZjYxYTcwMDVmY2EyMDczY2ViZCA9IEwucG9wdXAoeyJtYXhXaWR0aCI6ICIxMDAlIn0pOwoKICAgICAgICAKICAgICAgICAgICAgdmFyIGh0bWxfZTI0NTZkYjg1YjA2NDc3Mzg0ZDJhYjBkNDg0Y2UzOGYgPSAkKGA8ZGl2IGlkPSJodG1sX2UyNDU2ZGI4NWIwNjQ3NzM4NGQyYWIwZDQ4NGNlMzhmIiBzdHlsZT0id2lkdGg6IDEwMC4wJTsgaGVpZ2h0OiAxMDAuMCU7Ij5GaXJzdCBDYW5hZGlhbiBQbGFjZSwgVW5kZXJncm91bmQgY2l0eSwgRG93bnRvd24gVG9yb250bzwvZGl2PmApWzBdOwogICAgICAgICAgICBwb3B1cF9iYmM5NzBlODc4MGU0ZjYxYTcwMDVmY2EyMDczY2ViZC5zZXRDb250ZW50KGh0bWxfZTI0NTZkYjg1YjA2NDc3Mzg0ZDJhYjBkNDg0Y2UzOGYpOwogICAgICAgIAoKICAgICAgICBjaXJjbGVfbWFya2VyX2IxMmQxZTYwZDdkMjQ5NDU4MTlkYjlmMjQzOGVmMTEyLmJpbmRQb3B1cChwb3B1cF9iYmM5NzBlODc4MGU0ZjYxYTcwMDVmY2EyMDczY2ViZCkKICAgICAgICA7CgogICAgICAgIAogICAgCiAgICAKICAgICAgICAgICAgdmFyIGNpcmNsZV9tYXJrZXJfZmU5MTVjY2FjODg1NDIyZDk3ZWYwZWIzNmM3OGUzZDggPSBMLmNpcmNsZU1hcmtlcigKICAgICAgICAgICAgICAgIFs0My42NTM2NTM2MDAwMDAwMDUsIC03OS41MDY5NDM2XSwKICAgICAgICAgICAgICAgIHsiYnViYmxpbmdNb3VzZUV2ZW50cyI6IHRydWUsICJjb2xvciI6ICJibHVlIiwgImRhc2hBcnJheSI6IG51bGwsICJkYXNoT2Zmc2V0IjogbnVsbCwgImZpbGwiOiB0cnVlLCAiZmlsbENvbG9yIjogIiMzMTg2Y2MiLCAiZmlsbE9wYWNpdHkiOiAwLjcsICJmaWxsUnVsZSI6ICJldmVub2RkIiwgImxpbmVDYXAiOiAicm91bmQiLCAibGluZUpvaW4iOiAicm91bmQiLCAib3BhY2l0eSI6IDEuMCwgInJhZGl1cyI6IDUsICJzdHJva2UiOiB0cnVlLCAid2VpZ2h0IjogM30KICAgICAgICAgICAgKS5hZGRUbyhtYXBfYTQ4ODlmYjgwYjVlNGVmOWE3YjNkZDA0ZmFjYzA4YWMpOwogICAgICAgIAogICAgCiAgICAgICAgdmFyIHBvcHVwXzgzN2M1YTg3NzIyMDQwMTk5ZGNjYWZiNGM1YzIyNzM5ID0gTC5wb3B1cCh7Im1heFdpZHRoIjogIjEwMCUifSk7CgogICAgICAgIAogICAgICAgICAgICB2YXIgaHRtbF8yNTU4ZDhmNDhmMmM0ZjViYmI0ZWQ1YTA4NDk5OTY3YSA9ICQoYDxkaXYgaWQ9Imh0bWxfMjU1OGQ4ZjQ4ZjJjNGY1YmJiNGVkNWEwODQ5OTk2N2EiIHN0eWxlPSJ3aWR0aDogMTAwLjAlOyBoZWlnaHQ6IDEwMC4wJTsiPlRoZSBLaW5nc3dheSwgTW9udGdvbWVyeSBSb2FkLCBPbGQgTWlsbCBOb3J0aCwgRXRvYmljb2tlPC9kaXY+YClbMF07CiAgICAgICAgICAgIHBvcHVwXzgzN2M1YTg3NzIyMDQwMTk5ZGNjYWZiNGM1YzIyNzM5LnNldENvbnRlbnQoaHRtbF8yNTU4ZDhmNDhmMmM0ZjViYmI0ZWQ1YTA4NDk5OTY3YSk7CiAgICAgICAgCgogICAgICAgIGNpcmNsZV9tYXJrZXJfZmU5MTVjY2FjODg1NDIyZDk3ZWYwZWIzNmM3OGUzZDguYmluZFBvcHVwKHBvcHVwXzgzN2M1YTg3NzIyMDQwMTk5ZGNjYWZiNGM1YzIyNzM5KQogICAgICAgIDsKCiAgICAgICAgCiAgICAKICAgIAogICAgICAgICAgICB2YXIgY2lyY2xlX21hcmtlcl8wMzlhYzI2NjEwNzA0YmZmYjc0ZTQ2ZWNjZDY3N2EyYiA9IEwuY2lyY2xlTWFya2VyKAogICAgICAgICAgICAgICAgWzQzLjY2NTg1OTksIC03OS4zODMxNTk5MDAwMDAwMV0sCiAgICAgICAgICAgICAgICB7ImJ1YmJsaW5nTW91c2VFdmVudHMiOiB0cnVlLCAiY29sb3IiOiAiYmx1ZSIsICJkYXNoQXJyYXkiOiBudWxsLCAiZGFzaE9mZnNldCI6IG51bGwsICJmaWxsIjogdHJ1ZSwgImZpbGxDb2xvciI6ICIjMzE4NmNjIiwgImZpbGxPcGFjaXR5IjogMC43LCAiZmlsbFJ1bGUiOiAiZXZlbm9kZCIsICJsaW5lQ2FwIjogInJvdW5kIiwgImxpbmVKb2luIjogInJvdW5kIiwgIm9wYWNpdHkiOiAxLjAsICJyYWRpdXMiOiA1LCAic3Ryb2tlIjogdHJ1ZSwgIndlaWdodCI6IDN9CiAgICAgICAgICAgICkuYWRkVG8obWFwX2E0ODg5ZmI4MGI1ZTRlZjlhN2IzZGQwNGZhY2MwOGFjKTsKICAgICAgICAKICAgIAogICAgICAgIHZhciBwb3B1cF9hMTNlYzA4NzQ1Yjg0NzEwYWUwNzQ0MDE1Y2VmY2FhNSA9IEwucG9wdXAoeyJtYXhXaWR0aCI6ICIxMDAlIn0pOwoKICAgICAgICAKICAgICAgICAgICAgdmFyIGh0bWxfYjljMTQyNWY3N2M0NDM5NWEwMmYyNTVkNzk3OTgyNjUgPSAkKGA8ZGl2IGlkPSJodG1sX2I5YzE0MjVmNzdjNDQzOTVhMDJmMjU1ZDc5Nzk4MjY1IiBzdHlsZT0id2lkdGg6IDEwMC4wJTsgaGVpZ2h0OiAxMDAuMCU7Ij5DaHVyY2ggYW5kIFdlbGxlc2xleSwgRG93bnRvd24gVG9yb250bzwvZGl2PmApWzBdOwogICAgICAgICAgICBwb3B1cF9hMTNlYzA4NzQ1Yjg0NzEwYWUwNzQ0MDE1Y2VmY2FhNS5zZXRDb250ZW50KGh0bWxfYjljMTQyNWY3N2M0NDM5NWEwMmYyNTVkNzk3OTgyNjUpOwogICAgICAgIAoKICAgICAgICBjaXJjbGVfbWFya2VyXzAzOWFjMjY2MTA3MDRiZmZiNzRlNDZlY2NkNjc3YTJiLmJpbmRQb3B1cChwb3B1cF9hMTNlYzA4NzQ1Yjg0NzEwYWUwNzQ0MDE1Y2VmY2FhNSkKICAgICAgICA7CgogICAgICAgIAogICAgCiAgICAKICAgICAgICAgICAgdmFyIGNpcmNsZV9tYXJrZXJfM2YyY2M0M2RhNDg1NDE1MWFjOTUxOWQ3M2Q4MWQwZWIgPSBMLmNpcmNsZU1hcmtlcigKICAgICAgICAgICAgICAgIFs0My42NjI3NDM5LCAtNzkuMzIxNTU4XSwKICAgICAgICAgICAgICAgIHsiYnViYmxpbmdNb3VzZUV2ZW50cyI6IHRydWUsICJjb2xvciI6ICJibHVlIiwgImRhc2hBcnJheSI6IG51bGwsICJkYXNoT2Zmc2V0IjogbnVsbCwgImZpbGwiOiB0cnVlLCAiZmlsbENvbG9yIjogIiMzMTg2Y2MiLCAiZmlsbE9wYWNpdHkiOiAwLjcsICJmaWxsUnVsZSI6ICJldmVub2RkIiwgImxpbmVDYXAiOiAicm91bmQiLCAibGluZUpvaW4iOiAicm91bmQiLCAib3BhY2l0eSI6IDEuMCwgInJhZGl1cyI6IDUsICJzdHJva2UiOiB0cnVlLCAid2VpZ2h0IjogM30KICAgICAgICAgICAgKS5hZGRUbyhtYXBfYTQ4ODlmYjgwYjVlNGVmOWE3YjNkZDA0ZmFjYzA4YWMpOwogICAgICAgIAogICAgCiAgICAgICAgdmFyIHBvcHVwX2JlNzIzNjIxMWFhMzQ5MWQ4NjJhYzlhY2RhMjYxNDc2ID0gTC5wb3B1cCh7Im1heFdpZHRoIjogIjEwMCUifSk7CgogICAgICAgIAogICAgICAgICAgICB2YXIgaHRtbF8wMjAxYzdjODQ3ODU0ZGQ0OGQ3MTFiMzczNjdlNzY3MiA9ICQoYDxkaXYgaWQ9Imh0bWxfMDIwMWM3Yzg0Nzg1NGRkNDhkNzExYjM3MzY3ZTc2NzIiIHN0eWxlPSJ3aWR0aDogMTAwLjAlOyBoZWlnaHQ6IDEwMC4wJTsiPkJ1c2luZXNzIHJlcGx5IG1haWwgUHJvY2Vzc2luZyBDZW50cmUsIFNvdXRoIENlbnRyYWwgTGV0dGVyIFByb2Nlc3NpbmcgUGxhbnQgVG9yb250bywgRWFzdCBUb3JvbnRvPC9kaXY+YClbMF07CiAgICAgICAgICAgIHBvcHVwX2JlNzIzNjIxMWFhMzQ5MWQ4NjJhYzlhY2RhMjYxNDc2LnNldENvbnRlbnQoaHRtbF8wMjAxYzdjODQ3ODU0ZGQ0OGQ3MTFiMzczNjdlNzY3Mik7CiAgICAgICAgCgogICAgICAgIGNpcmNsZV9tYXJrZXJfM2YyY2M0M2RhNDg1NDE1MWFjOTUxOWQ3M2Q4MWQwZWIuYmluZFBvcHVwKHBvcHVwX2JlNzIzNjIxMWFhMzQ5MWQ4NjJhYzlhY2RhMjYxNDc2KQogICAgICAgIDsKCiAgICAgICAgCiAgICAKICAgIAogICAgICAgICAgICB2YXIgY2lyY2xlX21hcmtlcl8zZjZhN2Y1ZWMwYWU0MDRmYjIzMDhkNmEwOWFjMDJlNyA9IEwuY2lyY2xlTWFya2VyKAogICAgICAgICAgICAgICAgWzQzLjYzNjI1NzksIC03OS40OTg1MDkwOTk5OTk5OV0sCiAgICAgICAgICAgICAgICB7ImJ1YmJsaW5nTW91c2VFdmVudHMiOiB0cnVlLCAiY29sb3IiOiAiYmx1ZSIsICJkYXNoQXJyYXkiOiBudWxsLCAiZGFzaE9mZnNldCI6IG51bGwsICJmaWxsIjogdHJ1ZSwgImZpbGxDb2xvciI6ICIjMzE4NmNjIiwgImZpbGxPcGFjaXR5IjogMC43LCAiZmlsbFJ1bGUiOiAiZXZlbm9kZCIsICJsaW5lQ2FwIjogInJvdW5kIiwgImxpbmVKb2luIjogInJvdW5kIiwgIm9wYWNpdHkiOiAxLjAsICJyYWRpdXMiOiA1LCAic3Ryb2tlIjogdHJ1ZSwgIndlaWdodCI6IDN9CiAgICAgICAgICAgICkuYWRkVG8obWFwX2E0ODg5ZmI4MGI1ZTRlZjlhN2IzZGQwNGZhY2MwOGFjKTsKICAgICAgICAKICAgIAogICAgICAgIHZhciBwb3B1cF83YzM3MmIyMjM3ZmM0MzY2ODg0OTc3ZGEzNGU2YzdhMCA9IEwucG9wdXAoeyJtYXhXaWR0aCI6ICIxMDAlIn0pOwoKICAgICAgICAKICAgICAgICAgICAgdmFyIGh0bWxfNjRhNDlkNjljMGIyNDE1NjgwZmJjMDFkOTU0MWMxNGMgPSAkKGA8ZGl2IGlkPSJodG1sXzY0YTQ5ZDY5YzBiMjQxNTY4MGZiYzAxZDk1NDFjMTRjIiBzdHlsZT0id2lkdGg6IDEwMC4wJTsgaGVpZ2h0OiAxMDAuMCU7Ij5PbGQgTWlsbCBTb3V0aCwgS2luZyYjMzk7cyBNaWxsIFBhcmssIFN1bm55bGVhLCBIdW1iZXIgQmF5LCBNaW1pY28gTkUsIFRoZSBRdWVlbnN3YXkgRWFzdCwgUm95YWwgWW9yayBTb3V0aCBFYXN0LCBLaW5nc3dheSBQYXJrIFNvdXRoIEVhc3QsIEV0b2JpY29rZTwvZGl2PmApWzBdOwogICAgICAgICAgICBwb3B1cF83YzM3MmIyMjM3ZmM0MzY2ODg0OTc3ZGEzNGU2YzdhMC5zZXRDb250ZW50KGh0bWxfNjRhNDlkNjljMGIyNDE1NjgwZmJjMDFkOTU0MWMxNGMpOwogICAgICAgIAoKICAgICAgICBjaXJjbGVfbWFya2VyXzNmNmE3ZjVlYzBhZTQwNGZiMjMwOGQ2YTA5YWMwMmU3LmJpbmRQb3B1cChwb3B1cF83YzM3MmIyMjM3ZmM0MzY2ODg0OTc3ZGEzNGU2YzdhMCkKICAgICAgICA7CgogICAgICAgIAogICAgCiAgICAKICAgICAgICAgICAgdmFyIGNpcmNsZV9tYXJrZXJfYzNiY2QwOTg3ZjUwNDRmNzg0ZWQwY2I5NzEzMTQxNTkgPSBMLmNpcmNsZU1hcmtlcigKICAgICAgICAgICAgICAgIFs0My42Mjg4NDA4LCAtNzkuNTIwOTk5NDAwMDAwMDFdLAogICAgICAgICAgICAgICAgeyJidWJibGluZ01vdXNlRXZlbnRzIjogdHJ1ZSwgImNvbG9yIjogImJsdWUiLCAiZGFzaEFycmF5IjogbnVsbCwgImRhc2hPZmZzZXQiOiBudWxsLCAiZmlsbCI6IHRydWUsICJmaWxsQ29sb3IiOiAiIzMxODZjYyIsICJmaWxsT3BhY2l0eSI6IDAuNywgImZpbGxSdWxlIjogImV2ZW5vZGQiLCAibGluZUNhcCI6ICJyb3VuZCIsICJsaW5lSm9pbiI6ICJyb3VuZCIsICJvcGFjaXR5IjogMS4wLCAicmFkaXVzIjogNSwgInN0cm9rZSI6IHRydWUsICJ3ZWlnaHQiOiAzfQogICAgICAgICAgICApLmFkZFRvKG1hcF9hNDg4OWZiODBiNWU0ZWY5YTdiM2RkMDRmYWNjMDhhYyk7CiAgICAgICAgCiAgICAKICAgICAgICB2YXIgcG9wdXBfM2ZiYjdkNDZlZDk3NDZmMDg4ZGE2ODY3YjhiOWFiYzcgPSBMLnBvcHVwKHsibWF4V2lkdGgiOiAiMTAwJSJ9KTsKCiAgICAgICAgCiAgICAgICAgICAgIHZhciBodG1sXzNlMTcxMmI2MzQ2OTRkN2E4NGU1N2FmYjZlYWMxN2M1ID0gJChgPGRpdiBpZD0iaHRtbF8zZTE3MTJiNjM0Njk0ZDdhODRlNTdhZmI2ZWFjMTdjNSIgc3R5bGU9IndpZHRoOiAxMDAuMCU7IGhlaWdodDogMTAwLjAlOyI+TWltaWNvIE5XLCBUaGUgUXVlZW5zd2F5IFdlc3QsIFNvdXRoIG9mIEJsb29yLCBLaW5nc3dheSBQYXJrIFNvdXRoIFdlc3QsIFJveWFsIFlvcmsgU291dGggV2VzdCwgRXRvYmljb2tlPC9kaXY+YClbMF07CiAgICAgICAgICAgIHBvcHVwXzNmYmI3ZDQ2ZWQ5NzQ2ZjA4OGRhNjg2N2I4YjlhYmM3LnNldENvbnRlbnQoaHRtbF8zZTE3MTJiNjM0Njk0ZDdhODRlNTdhZmI2ZWFjMTdjNSk7CiAgICAgICAgCgogICAgICAgIGNpcmNsZV9tYXJrZXJfYzNiY2QwOTg3ZjUwNDRmNzg0ZWQwY2I5NzEzMTQxNTkuYmluZFBvcHVwKHBvcHVwXzNmYmI3ZDQ2ZWQ5NzQ2ZjA4OGRhNjg2N2I4YjlhYmM3KQogICAgICAgIDsKCiAgICAgICAgCiAgICAKPC9zY3JpcHQ+ onload=\"this.contentDocument.open();this.contentDocument.write(atob(this.getAttribute('data-html')));this.contentDocument.close();\" allowfullscreen webkitallowfullscreen mozallowfullscreen></iframe></div></div>"
      ],
      "text/plain": [
       "<folium.folium.Map at 0x245e48cf608>"
      ]
     },
     "execution_count": 15,
     "metadata": {},
     "output_type": "execute_result"
    }
   ],
   "source": [
    "# create map of using latitude and longitude values\n",
    "import folium \n",
    "map_toronto = folium.Map(location=[latitude, longitude], zoom_start=10)\n",
    "\n",
    "# add markers to map\n",
    "for lat, lng, borough, neighborhood in zip(Toronto['Latitude'], Toronto['Longitude'], Toronto['Borough'], Toronto['Neighborhood']):\n",
    "    label = '{}, {}'.format(neighborhood, borough)\n",
    "    label = folium.Popup(label, parse_html=True)\n",
    "    folium.CircleMarker(\n",
    "        [lat, lng],\n",
    "        radius=5,\n",
    "        popup=label,\n",
    "        color='blue',\n",
    "        fill=True,\n",
    "        fill_color='#3186cc',\n",
    "        fill_opacity=0.7,\n",
    "        parse_html=False).add_to(map_toronto)  \n",
    "\n",
    "map_toronto"
   ]
  },
  {
   "cell_type": "markdown",
   "metadata": {},
   "source": [
    "#### Define Foursquare Credentials and Version"
   ]
  },
  {
   "cell_type": "code",
   "execution_count": 16,
   "metadata": {},
   "outputs": [
    {
     "name": "stdout",
     "output_type": "stream",
     "text": [
      "Your credentails:\n",
      "CLIENT_ID: TJQFNQLD13APOGBQ0IZUQEHVLUX4UQVIGYWRO4CYRVHOWBV4\n",
      "CLIENT_SECRET:PECTIYU42AT2IKKGL4DG2KZGCKW5LC1VPTLVGMNAFUVJQCYT\n"
     ]
    }
   ],
   "source": [
    "CLIENT_ID = 'TJQFNQLD13APOGBQ0IZUQEHVLUX4UQVIGYWRO4CYRVHOWBV4' # your Foursquare ID\n",
    "CLIENT_SECRET = 'PECTIYU42AT2IKKGL4DG2KZGCKW5LC1VPTLVGMNAFUVJQCYT' # your Foursquare Secret\n",
    "VERSION = '20180605' # Foursquare API version\n",
    "\n",
    "print('Your credentails:')\n",
    "print('CLIENT_ID: ' + CLIENT_ID)\n",
    "print('CLIENT_SECRET:' + CLIENT_SECRET)"
   ]
  },
  {
   "cell_type": "code",
   "execution_count": 18,
   "metadata": {},
   "outputs": [
    {
     "data": {
      "text/plain": [
       "'Parkwoods'"
      ]
     },
     "execution_count": 18,
     "metadata": {},
     "output_type": "execute_result"
    }
   ],
   "source": [
    "Toronto.loc[0, 'Neighborhood']"
   ]
  },
  {
   "cell_type": "code",
   "execution_count": 31,
   "metadata": {},
   "outputs": [],
   "source": [
    "LIMIT = 100 \n",
    "radius = 500\n",
    "def getNearbyVenues(names, latitudes, longitudes, radius=500):\n",
    "    \n",
    "    venues_list=[]\n",
    "    for name, lat, lng in zip(names, latitudes, longitudes):\n",
    "        print(name)\n",
    "            \n",
    "        # create the API request URL\n",
    "        url = 'https://api.foursquare.com/v2/venues/explore?&client_id={}&client_secret={}&v={}&ll={},{}&radius={}&limit={}'.format(\n",
    "            CLIENT_ID, \n",
    "            CLIENT_SECRET, \n",
    "            VERSION, \n",
    "            lat, \n",
    "            lng, \n",
    "            radius, \n",
    "            LIMIT)\n",
    "            \n",
    "        # make the GET request\n",
    "        results = requests.get(url).json()[\"response\"]['groups'][0]['items']\n",
    "        \n",
    "        # return only relevant information for each nearby venue\n",
    "        venues_list.append([(\n",
    "            name, \n",
    "            lat, \n",
    "            lng, \n",
    "            v['venue']['name'], \n",
    "            v['venue']['location']['lat'], \n",
    "            v['venue']['location']['lng'],  \n",
    "            v['venue']['categories'][0]['name']) for v in results])\n",
    "\n",
    "    nearby_venues = pd.DataFrame([item for venue_list in venues_list for item in venue_list])\n",
    "    nearby_venues.columns = ['Neighborhood', \n",
    "                  'Neighborhood Latitude', \n",
    "                  'Neighborhood Longitude', \n",
    "                  'Venue', \n",
    "                  'Venue Latitude', \n",
    "                  'Venue Longitude', \n",
    "                  'Venue Category']\n",
    "    \n",
    "    return(nearby_venues)"
   ]
  },
  {
   "cell_type": "code",
   "execution_count": 34,
   "metadata": {},
   "outputs": [
    {
     "name": "stdout",
     "output_type": "stream",
     "text": [
      "Parkwoods\n",
      "Victoria Village\n",
      "Regent Park, Harbourfront\n",
      "Lawrence Manor, Lawrence Heights\n",
      "Queen's Park, Ontario Provincial Government\n",
      "Islington Avenue, Humber Valley Village\n",
      "Malvern, Rouge\n",
      "Don Mills\n",
      "Parkview Hill, Woodbine Gardens\n",
      "Garden District, Ryerson\n",
      "Glencairn\n",
      "West Deane Park, Princess Gardens, Martin Grove, Islington, Cloverdale\n",
      "Rouge Hill, Port Union, Highland Creek\n",
      "Don Mills\n",
      "Woodbine Heights\n",
      "St. James Town\n",
      "Humewood-Cedarvale\n",
      "Eringate, Bloordale Gardens, Old Burnhamthorpe, Markland Wood\n",
      "Guildwood, Morningside, West Hill\n",
      "The Beaches\n",
      "Berczy Park\n",
      "Caledonia-Fairbanks\n",
      "Woburn\n",
      "Leaside\n",
      "Central Bay Street\n",
      "Christie\n",
      "Cedarbrae\n",
      "Hillcrest Village\n",
      "Bathurst Manor, Wilson Heights, Downsview North\n",
      "Thorncliffe Park\n",
      "Richmond, Adelaide, King\n",
      "Dufferin, Dovercourt Village\n",
      "Scarborough Village\n",
      "Fairview, Henry Farm, Oriole\n",
      "Northwood Park, York University\n",
      "East Toronto, Broadview North (Old East York)\n",
      "Harbourfront East, Union Station, Toronto Islands\n",
      "Little Portugal, Trinity\n",
      "Kennedy Park, Ionview, East Birchmount Park\n",
      "Bayview Village\n",
      "Downsview\n",
      "The Danforth West, Riverdale\n",
      "Toronto Dominion Centre, Design Exchange\n",
      "Brockton, Parkdale Village, Exhibition Place\n",
      "Golden Mile, Clairlea, Oakridge\n",
      "York Mills, Silver Hills\n",
      "Downsview\n",
      "India Bazaar, The Beaches West\n",
      "Commerce Court, Victoria Hotel\n",
      "North Park, Maple Leaf Park, Upwood Park\n",
      "Humber Summit\n",
      "Cliffside, Cliffcrest, Scarborough Village West\n",
      "Willowdale, Newtonbrook\n",
      "Downsview\n",
      "Studio District\n",
      "Bedford Park, Lawrence Manor East\n",
      "Del Ray, Mount Dennis, Keelsdale and Silverthorn\n",
      "Humberlea, Emery\n",
      "Birch Cliff, Cliffside West\n",
      "Willowdale, Willowdale East\n",
      "Downsview\n",
      "Lawrence Park\n",
      "Roselawn\n",
      "Runnymede, The Junction North\n",
      "Weston\n",
      "Dorset Park, Wexford Heights, Scarborough Town Centre\n",
      "York Mills West\n",
      "Davisville North\n",
      "Forest Hill North & West, Forest Hill Road Park\n",
      "High Park, The Junction South\n",
      "Westmount\n",
      "Wexford, Maryvale\n",
      "Willowdale, Willowdale West\n",
      "North Toronto West,  Lawrence Park\n",
      "The Annex, North Midtown, Yorkville\n",
      "Parkdale, Roncesvalles\n",
      "Canada Post Gateway Processing Centre\n",
      "Kingsview Village, St. Phillips, Martin Grove Gardens, Richview Gardens\n",
      "Agincourt\n",
      "Davisville\n",
      "University of Toronto, Harbord\n",
      "Runnymede, Swansea\n",
      "Clarks Corners, Tam O'Shanter, Sullivan\n",
      "Moore Park, Summerhill East\n",
      "Kensington Market, Chinatown, Grange Park\n",
      "Milliken, Agincourt North, Steeles East, L'Amoreaux East\n",
      "Summerhill West, Rathnelly, South Hill, Forest Hill SE, Deer Park\n",
      "CN Tower, King and Spadina, Railway Lands, Harbourfront West, Bathurst Quay, South Niagara, Island airport\n",
      "New Toronto, Mimico South, Humber Bay Shores\n",
      "South Steeles, Silverstone, Humbergate, Jamestown, Mount Olive, Beaumond Heights, Thistletown, Albion Gardens\n",
      "Steeles West, L'Amoreaux West\n",
      "Rosedale\n",
      "Stn A PO Boxes\n",
      "Alderwood, Long Branch\n",
      "Northwest, West Humber - Clairville\n",
      "Upper Rouge\n",
      "St. James Town, Cabbagetown\n",
      "First Canadian Place, Underground city\n",
      "The Kingsway, Montgomery Road, Old Mill North\n",
      "Church and Wellesley\n",
      "Business reply mail Processing Centre, South Central Letter Processing Plant Toronto\n",
      "Old Mill South, King's Mill Park, Sunnylea, Humber Bay, Mimico NE, The Queensway East, Royal York South East, Kingsway Park South East\n",
      "Mimico NW, The Queensway West, South of Bloor, Kingsway Park South West, Royal York South West\n"
     ]
    }
   ],
   "source": [
    "toronto_venues = getNearbyVenues(names=Toronto['Neighborhood'],\n",
    "                                   latitudes=Toronto['Latitude'],\n",
    "                                   longitudes=Toronto['Longitude']\n",
    "                                  )\n"
   ]
  },
  {
   "cell_type": "markdown",
   "metadata": {},
   "source": [
    "Number of venues were returned for each neighborhood"
   ]
  },
  {
   "cell_type": "code",
   "execution_count": 37,
   "metadata": {},
   "outputs": [
    {
     "data": {
      "text/html": [
       "<div>\n",
       "<style scoped>\n",
       "    .dataframe tbody tr th:only-of-type {\n",
       "        vertical-align: middle;\n",
       "    }\n",
       "\n",
       "    .dataframe tbody tr th {\n",
       "        vertical-align: top;\n",
       "    }\n",
       "\n",
       "    .dataframe thead th {\n",
       "        text-align: right;\n",
       "    }\n",
       "</style>\n",
       "<table border=\"1\" class=\"dataframe\">\n",
       "  <thead>\n",
       "    <tr style=\"text-align: right;\">\n",
       "      <th></th>\n",
       "      <th>Neighborhood Latitude</th>\n",
       "      <th>Neighborhood Longitude</th>\n",
       "      <th>Venue</th>\n",
       "      <th>Venue Latitude</th>\n",
       "      <th>Venue Longitude</th>\n",
       "      <th>Venue Category</th>\n",
       "    </tr>\n",
       "    <tr>\n",
       "      <th>Neighborhood</th>\n",
       "      <th></th>\n",
       "      <th></th>\n",
       "      <th></th>\n",
       "      <th></th>\n",
       "      <th></th>\n",
       "      <th></th>\n",
       "    </tr>\n",
       "  </thead>\n",
       "  <tbody>\n",
       "    <tr>\n",
       "      <th>Agincourt</th>\n",
       "      <td>4</td>\n",
       "      <td>4</td>\n",
       "      <td>4</td>\n",
       "      <td>4</td>\n",
       "      <td>4</td>\n",
       "      <td>4</td>\n",
       "    </tr>\n",
       "    <tr>\n",
       "      <th>Alderwood, Long Branch</th>\n",
       "      <td>8</td>\n",
       "      <td>8</td>\n",
       "      <td>8</td>\n",
       "      <td>8</td>\n",
       "      <td>8</td>\n",
       "      <td>8</td>\n",
       "    </tr>\n",
       "    <tr>\n",
       "      <th>Bathurst Manor, Wilson Heights, Downsview North</th>\n",
       "      <td>22</td>\n",
       "      <td>22</td>\n",
       "      <td>22</td>\n",
       "      <td>22</td>\n",
       "      <td>22</td>\n",
       "      <td>22</td>\n",
       "    </tr>\n",
       "    <tr>\n",
       "      <th>Bayview Village</th>\n",
       "      <td>4</td>\n",
       "      <td>4</td>\n",
       "      <td>4</td>\n",
       "      <td>4</td>\n",
       "      <td>4</td>\n",
       "      <td>4</td>\n",
       "    </tr>\n",
       "    <tr>\n",
       "      <th>Bedford Park, Lawrence Manor East</th>\n",
       "      <td>27</td>\n",
       "      <td>27</td>\n",
       "      <td>27</td>\n",
       "      <td>27</td>\n",
       "      <td>27</td>\n",
       "      <td>27</td>\n",
       "    </tr>\n",
       "    <tr>\n",
       "      <th>...</th>\n",
       "      <td>...</td>\n",
       "      <td>...</td>\n",
       "      <td>...</td>\n",
       "      <td>...</td>\n",
       "      <td>...</td>\n",
       "      <td>...</td>\n",
       "    </tr>\n",
       "    <tr>\n",
       "      <th>Willowdale, Willowdale East</th>\n",
       "      <td>34</td>\n",
       "      <td>34</td>\n",
       "      <td>34</td>\n",
       "      <td>34</td>\n",
       "      <td>34</td>\n",
       "      <td>34</td>\n",
       "    </tr>\n",
       "    <tr>\n",
       "      <th>Willowdale, Willowdale West</th>\n",
       "      <td>6</td>\n",
       "      <td>6</td>\n",
       "      <td>6</td>\n",
       "      <td>6</td>\n",
       "      <td>6</td>\n",
       "      <td>6</td>\n",
       "    </tr>\n",
       "    <tr>\n",
       "      <th>Woburn</th>\n",
       "      <td>5</td>\n",
       "      <td>5</td>\n",
       "      <td>5</td>\n",
       "      <td>5</td>\n",
       "      <td>5</td>\n",
       "      <td>5</td>\n",
       "    </tr>\n",
       "    <tr>\n",
       "      <th>Woodbine Heights</th>\n",
       "      <td>5</td>\n",
       "      <td>5</td>\n",
       "      <td>5</td>\n",
       "      <td>5</td>\n",
       "      <td>5</td>\n",
       "      <td>5</td>\n",
       "    </tr>\n",
       "    <tr>\n",
       "      <th>York Mills West</th>\n",
       "      <td>2</td>\n",
       "      <td>2</td>\n",
       "      <td>2</td>\n",
       "      <td>2</td>\n",
       "      <td>2</td>\n",
       "      <td>2</td>\n",
       "    </tr>\n",
       "  </tbody>\n",
       "</table>\n",
       "<p>94 rows × 6 columns</p>\n",
       "</div>"
      ],
      "text/plain": [
       "                                                 Neighborhood Latitude  \\\n",
       "Neighborhood                                                             \n",
       "Agincourt                                                            4   \n",
       "Alderwood, Long Branch                                               8   \n",
       "Bathurst Manor, Wilson Heights, Downsview North                     22   \n",
       "Bayview Village                                                      4   \n",
       "Bedford Park, Lawrence Manor East                                   27   \n",
       "...                                                                ...   \n",
       "Willowdale, Willowdale East                                         34   \n",
       "Willowdale, Willowdale West                                          6   \n",
       "Woburn                                                               5   \n",
       "Woodbine Heights                                                     5   \n",
       "York Mills West                                                      2   \n",
       "\n",
       "                                                 Neighborhood Longitude  \\\n",
       "Neighborhood                                                              \n",
       "Agincourt                                                             4   \n",
       "Alderwood, Long Branch                                                8   \n",
       "Bathurst Manor, Wilson Heights, Downsview North                      22   \n",
       "Bayview Village                                                       4   \n",
       "Bedford Park, Lawrence Manor East                                    27   \n",
       "...                                                                 ...   \n",
       "Willowdale, Willowdale East                                          34   \n",
       "Willowdale, Willowdale West                                           6   \n",
       "Woburn                                                                5   \n",
       "Woodbine Heights                                                      5   \n",
       "York Mills West                                                       2   \n",
       "\n",
       "                                                 Venue  Venue Latitude  \\\n",
       "Neighborhood                                                             \n",
       "Agincourt                                            4               4   \n",
       "Alderwood, Long Branch                               8               8   \n",
       "Bathurst Manor, Wilson Heights, Downsview North     22              22   \n",
       "Bayview Village                                      4               4   \n",
       "Bedford Park, Lawrence Manor East                   27              27   \n",
       "...                                                ...             ...   \n",
       "Willowdale, Willowdale East                         34              34   \n",
       "Willowdale, Willowdale West                          6               6   \n",
       "Woburn                                               5               5   \n",
       "Woodbine Heights                                     5               5   \n",
       "York Mills West                                      2               2   \n",
       "\n",
       "                                                 Venue Longitude  \\\n",
       "Neighborhood                                                       \n",
       "Agincourt                                                      4   \n",
       "Alderwood, Long Branch                                         8   \n",
       "Bathurst Manor, Wilson Heights, Downsview North               22   \n",
       "Bayview Village                                                4   \n",
       "Bedford Park, Lawrence Manor East                             27   \n",
       "...                                                          ...   \n",
       "Willowdale, Willowdale East                                   34   \n",
       "Willowdale, Willowdale West                                    6   \n",
       "Woburn                                                         5   \n",
       "Woodbine Heights                                               5   \n",
       "York Mills West                                                2   \n",
       "\n",
       "                                                 Venue Category  \n",
       "Neighborhood                                                     \n",
       "Agincourt                                                     4  \n",
       "Alderwood, Long Branch                                        8  \n",
       "Bathurst Manor, Wilson Heights, Downsview North              22  \n",
       "Bayview Village                                               4  \n",
       "Bedford Park, Lawrence Manor East                            27  \n",
       "...                                                         ...  \n",
       "Willowdale, Willowdale East                                  34  \n",
       "Willowdale, Willowdale West                                   6  \n",
       "Woburn                                                        5  \n",
       "Woodbine Heights                                              5  \n",
       "York Mills West                                               2  \n",
       "\n",
       "[94 rows x 6 columns]"
      ]
     },
     "execution_count": 37,
     "metadata": {},
     "output_type": "execute_result"
    }
   ],
   "source": [
    "toronto_venues.groupby('Neighborhood').count()"
   ]
  },
  {
   "cell_type": "code",
   "execution_count": 38,
   "metadata": {},
   "outputs": [
    {
     "name": "stdout",
     "output_type": "stream",
     "text": [
      "There are 267 uniques categories.\n"
     ]
    }
   ],
   "source": [
    "print('There are {} uniques categories.'.format(len(toronto_venues['Venue Category'].unique())))"
   ]
  },
  {
   "cell_type": "code",
   "execution_count": null,
   "metadata": {},
   "outputs": [],
   "source": []
  }
 ],
 "metadata": {
  "kernelspec": {
   "display_name": "Python 3",
   "language": "python",
   "name": "python3"
  },
  "language_info": {
   "codemirror_mode": {
    "name": "ipython",
    "version": 3
   },
   "file_extension": ".py",
   "mimetype": "text/x-python",
   "name": "python",
   "nbconvert_exporter": "python",
   "pygments_lexer": "ipython3",
   "version": "3.7.6"
  }
 },
 "nbformat": 4,
 "nbformat_minor": 4
}
